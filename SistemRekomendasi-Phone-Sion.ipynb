{
  "cells": [
    {
      "cell_type": "markdown",
      "metadata": {
        "id": "-ISwETxq3niF"
      },
      "source": [
        "# **SISTEM REKOMENDASI PONSEL PINTAR BERDASARKAN PREFERENSI PENGGUNA**"
      ]
    },
    {
      "cell_type": "markdown",
      "metadata": {},
      "source": [
        "- **Nama:** Sion Saut Parulian Pardosi\n",
        "- **Email:** spardosi12@gmail.com\n",
        "- **Email Dicoding:** mc114d5y1919@student.devacademy.id\n",
        "- **ID Dicoding:** MC114D5Y1919"
      ]
    },
    {
      "cell_type": "markdown",
      "metadata": {},
      "source": [
        "-- -"
      ]
    },
    {
      "cell_type": "markdown",
      "metadata": {},
      "source": [
        "## **Deskripsi Proyek**\n",
        "\n",
        "### **Deskripsi Latar Belakang Proyek**\n",
        "\n",
        "Dengan pesatnya perkembangan teknologi, pasar ponsel pintar mengalami pertumbuhan yang signifikan dengan berbagai pilihan model yang tersedia. Konsumen sering menghadapi kesulitan dalam menentukan ponsel yang tepat karena banyaknya opsi yang ada. Kompleksitas spesifikasi teknis dan beragamnya fitur membuat proses pemilihan menjadi menantang, terutama bagi pengguna awam yang tidak memahami detail teknis.\n",
        "Sistem rekomendasi merupakan solusi untuk berinteraksi dengan ruang informasi yang besar dan kompleks. Proyek ini mengembangkan sistem rekomendasi yang dapat menyederhanakan proses pemilihan ponsel dengan memberikan rekomendasi yang relevan berdasarkan preferensi dan kebutuhan pengguna. Dengan memanfaatkan data rating pengguna dan spesifikasi teknis ponsel, sistem ini diharapkan dapat membantu pengguna menemukan ponsel yang paling sesuai dengan kebutuhan mereka.\n",
        "\n",
        "### **Tujuan Proyek**\n",
        "\n",
        "- Mengembangkan sistem rekomendasi ponsel yang dapat memberikan saran berdasarkan preferensi pengguna\n",
        "- Membantu pengguna menemukan ponsel yang mirip dengan perangkat sebelumnya\n",
        "- Meningkatkan pengalaman pengguna dalam proses pemilihan ponsel\n",
        "- Mengimplementasikan dua pendekatan: Content-Based Filtering dan Collaborative Filtering"
      ]
    },
    {
      "cell_type": "markdown",
      "metadata": {},
      "source": [
        "## #"
      ]
    },
    {
      "cell_type": "markdown",
      "metadata": {},
      "source": [
        "## 1. Import Library yang Dibutuhkan"
      ]
    },
    {
      "cell_type": "markdown",
      "metadata": {
        "id": "SnkBdmT53tel"
      },
      "source": [
        "Mengimpor semua library yang diperlukan untuk pengembangan sistem rekomendasi."
      ]
    },
    {
      "cell_type": "code",
      "execution_count": 4,
      "metadata": {
        "id": "NF3uBbIiwOad"
      },
      "outputs": [],
      "source": [
        "import pandas as pd\n",
        "import numpy as np\n",
        "import matplotlib.pyplot as plt\n",
        "import seaborn as sns\n",
        "\n",
        "# Import library untuk machine learning\n",
        "from sklearn.feature_extraction.text import TfidfVectorizer\n",
        "from sklearn.metrics.pairwise import cosine_similarity\n",
        "\n",
        "# Import library untuk deep learning\n",
        "import tensorflow as tf\n",
        "from tensorflow import keras\n",
        "from tensorflow.keras import layers\n",
        "\n",
        "# Import library untuk sistem file\n",
        "from pathlib import Path\n",
        "import os\n",
        "\n",
        "# Pengaturan untuk visualisasi\n",
        "plt.style.use('default')\n",
        "sns.set_palette(\"husl\")"
      ]
    },
    {
      "cell_type": "markdown",
      "metadata": {},
      "source": [
        "## #"
      ]
    },
    {
      "cell_type": "markdown",
      "metadata": {
        "id": "mjyI8vaDuXEm"
      },
      "source": [
        "## 2. Data Understanding"
      ]
    },
    {
      "cell_type": "markdown",
      "metadata": {},
      "source": [
        "#### Persiapan Dataset\n",
        "\n",
        "Dataset yang digunakan terdiri dari 3 file CSV yang berisi informasi lengkap tentang ponsel, rating pengguna, dan profil pengguna."
      ]
    },
    {
      "cell_type": "code",
      "execution_count": 5,
      "metadata": {},
      "outputs": [
        {
          "name": "stdout",
          "output_type": "stream",
          "text": [
            "Verifikasi keberadaan file:\n",
            "✓ cellphones data.csv - Tersedia\n",
            "✓ cellphones ratings.csv - Tersedia\n",
            "✓ cellphones users.csv - Tersedia\n"
          ]
        }
      ],
      "source": [
        "# Menentukan path dataset\n",
        "dataset_path = r\"D:\\PROJECT\\DBS DICODING\\machine learning terapan\\sistem rekomendasi\\Dicoding-ModelSistemRekomendasi-main\\dataset\"\n",
        "\n",
        "# Memverifikasi keberadaan file\n",
        "data_file = os.path.join(dataset_path, \"cellphones data.csv\")\n",
        "rating_file = os.path.join(dataset_path, \"cellphones ratings.csv\")\n",
        "users_file = os.path.join(dataset_path, \"cellphones users.csv\")\n",
        "\n",
        "# Mengecek apakah file ada\n",
        "files_to_check = [data_file, rating_file, users_file]\n",
        "file_names = [\"cellphones data.csv\", \"cellphones ratings.csv\", \"cellphones users.csv\"]\n",
        "\n",
        "print(\"Verifikasi keberadaan file:\")\n",
        "for file, name in zip(files_to_check, file_names):\n",
        "    if os.path.exists(file):\n",
        "        print(f\"✓ {name} - Tersedia\")\n",
        "    else:\n",
        "        print(f\"✗ {name} - Tidak ditemukan\")\n",
        "        print(f\"  Path yang dicari: {file}\")"
      ]
    },
    {
      "cell_type": "markdown",
      "metadata": {},
      "source": [
        "#### Membaca Dataset"
      ]
    },
    {
      "cell_type": "code",
      "execution_count": 6,
      "metadata": {},
      "outputs": [
        {
          "name": "stdout",
          "output_type": "stream",
          "text": [
            "Memuat dataset...\n",
            "✓ Semua dataset berhasil dimuat!\n",
            "✓ Data ponsel: 33 baris, 14 kolom\n",
            "✓ Data rating: 990 baris, 3 kolom\n",
            "✓ Data pengguna: 99 baris, 4 kolom\n"
          ]
        }
      ],
      "source": [
        "try:\n",
        "    # Membaca dataset dengan error handling\n",
        "    print(\"Memuat dataset...\")\n",
        "    \n",
        "    data = pd.read_csv(data_file)\n",
        "    rating = pd.read_csv(rating_file)\n",
        "    users = pd.read_csv(users_file)\n",
        "    \n",
        "    print(\"✓ Semua dataset berhasil dimuat!\")\n",
        "    print(f\"✓ Data ponsel: {data.shape[0]} baris, {data.shape[1]} kolom\")\n",
        "    print(f\"✓ Data rating: {rating.shape[0]} baris, {rating.shape[1]} kolom\")\n",
        "    print(f\"✓ Data pengguna: {users.shape[0]} baris, {users.shape[1]} kolom\")\n",
        "    \n",
        "except FileNotFoundError as e:\n",
        "    print(f\"Error: File tidak ditemukan - {e}\")\n",
        "    print(\"Pastikan path dataset sudah benar dan file tersedia\")\n",
        "except Exception as e:\n",
        "    print(f\"Error tidak terduga: {e}\")"
      ]
    },
    {
      "cell_type": "markdown",
      "metadata": {},
      "source": [
        "#### Struktur Dataset"
      ]
    },
    {
      "cell_type": "markdown",
      "metadata": {
        "id": "HhS9wTLu4Kpq"
      },
      "source": [
        "Dataset terbagi menjadi 3 komponen utama:\n",
        "\n",
        "1. Cellphones Data (data.csv)\n",
        "\n",
        "- Berisi spesifikasi lengkap dari 33 model ponsel\n",
        "- Informasi meliputi brand, model, sistem operasi, dan spesifikasi teknis\n",
        "\n",
        "\n",
        "2. Cellphones Ratings (rating.csv)\n",
        "\n",
        "- Berisi 990 data rating yang diberikan pengguna terhadap ponsel\n",
        "- Rating dalam skala 1-10\n",
        "\n",
        "\n",
        "3. Cellphones Users (users.csv)\n",
        "\n",
        "- Berisi profil 99 pengguna\n",
        "- Informasi demografis seperti usia, gender, dan pekerjaan"
      ]
    },
    {
      "cell_type": "code",
      "execution_count": 7,
      "metadata": {
        "id": "ZcsxGrfdw5Dz"
      },
      "outputs": [
        {
          "name": "stdout",
          "output_type": "stream",
          "text": [
            "=== INFORMASI DATASET PONSEL ===\n",
            "<class 'pandas.core.frame.DataFrame'>\n",
            "RangeIndex: 33 entries, 0 to 32\n",
            "Data columns (total 14 columns):\n",
            " #   Column            Non-Null Count  Dtype  \n",
            "---  ------            --------------  -----  \n",
            " 0   cellphone_id      33 non-null     int64  \n",
            " 1   brand             33 non-null     object \n",
            " 2   model             33 non-null     object \n",
            " 3   operating system  33 non-null     object \n",
            " 4   internal memory   33 non-null     int64  \n",
            " 5   RAM               33 non-null     int64  \n",
            " 6   performance       33 non-null     float64\n",
            " 7   main camera       33 non-null     int64  \n",
            " 8   selfie camera     33 non-null     int64  \n",
            " 9   battery size      33 non-null     int64  \n",
            " 10  screen size       33 non-null     float64\n",
            " 11  weight            33 non-null     int64  \n",
            " 12  price             33 non-null     int64  \n",
            " 13  release date      33 non-null     object \n",
            "dtypes: float64(2), int64(8), object(4)\n",
            "memory usage: 3.7+ KB\n",
            "None\n",
            "\n",
            "=== SAMPLE DATA PONSEL ===\n",
            "   cellphone_id  brand              model operating system  internal memory  \\\n",
            "0             0  Apple   iPhone SE (2025)              iOS              128   \n",
            "1             1  Apple     iPhone 13 Mini              iOS              128   \n",
            "2             2  Apple          iPhone 13              iOS              128   \n",
            "3             3  Apple      iPhone 13 Pro              iOS              256   \n",
            "4             4  Apple  iPhone 13 Pro Max              iOS              256   \n",
            "\n",
            "   RAM  performance  main camera  selfie camera  battery size  screen size  \\\n",
            "0    4         7.23           12              7          2018          4.7   \n",
            "1    4         7.72           12             12          2438          5.4   \n",
            "2    4         7.75           12             12          3240          6.1   \n",
            "3    6         7.94           12             12          3065          6.1   \n",
            "4    6         8.01           12             12          4352          6.7   \n",
            "\n",
            "   weight  price release date  \n",
            "0     144    429   18/03/2025  \n",
            "1     141    699   24/09/2025  \n",
            "2     174    699   24/09/2025  \n",
            "3     204    999   24/09/2025  \n",
            "4     240   1199   24/09/2025  \n",
            "\n",
            "=== INFORMASI DATASET RATING ===\n",
            "<class 'pandas.core.frame.DataFrame'>\n",
            "RangeIndex: 990 entries, 0 to 989\n",
            "Data columns (total 3 columns):\n",
            " #   Column        Non-Null Count  Dtype\n",
            "---  ------        --------------  -----\n",
            " 0   user_id       990 non-null    int64\n",
            " 1   cellphone_id  990 non-null    int64\n",
            " 2   rating        990 non-null    int64\n",
            "dtypes: int64(3)\n",
            "memory usage: 23.3 KB\n",
            "None\n",
            "\n",
            "=== SAMPLE DATA RATING ===\n",
            "   user_id  cellphone_id  rating\n",
            "0        0            30       1\n",
            "1        0             5       3\n",
            "2        0            10       9\n",
            "3        0             9       3\n",
            "4        0            23       2\n",
            "\n",
            "=== INFORMASI DATASET PENGGUNA ===\n",
            "<class 'pandas.core.frame.DataFrame'>\n",
            "RangeIndex: 99 entries, 0 to 98\n",
            "Data columns (total 4 columns):\n",
            " #   Column      Non-Null Count  Dtype \n",
            "---  ------      --------------  ----- \n",
            " 0   user_id     99 non-null     int64 \n",
            " 1   age         99 non-null     int64 \n",
            " 2   gender      99 non-null     object\n",
            " 3   occupation  98 non-null     object\n",
            "dtypes: int64(2), object(2)\n",
            "memory usage: 3.2+ KB\n",
            "None\n",
            "\n",
            "=== SAMPLE DATA PENGGUNA ===\n",
            "   user_id  age  gender         occupation\n",
            "0        0   38  Female       Data analyst\n",
            "1        1   40  Female  team worker in it\n",
            "2        6   55  Female                 IT\n",
            "3        8   25  Female            Manager\n",
            "4       10   23    Male             worker\n"
          ]
        }
      ],
      "source": [
        "# Menampilkan informasi detail dataset\n",
        "print(\"=== INFORMASI DATASET PONSEL ===\")\n",
        "print(data.info())\n",
        "print(\"\\n=== SAMPLE DATA PONSEL ===\")\n",
        "print(data.head())\n",
        "\n",
        "print(\"\\n=== INFORMASI DATASET RATING ===\")\n",
        "print(rating.info())\n",
        "print(\"\\n=== SAMPLE DATA RATING ===\")\n",
        "print(rating.head())\n",
        "\n",
        "print(\"\\n=== INFORMASI DATASET PENGGUNA ===\")\n",
        "print(users.info())\n",
        "print(\"\\n=== SAMPLE DATA PENGGUNA ===\")\n",
        "print(users.head())"
      ]
    },
    {
      "cell_type": "markdown",
      "metadata": {
        "id": "NHN6zUyw5Zul"
      },
      "source": [
        "Membaca file .csv dan menyimpannya pada suatu variabel."
      ]
    },
    {
      "cell_type": "code",
      "execution_count": 9,
      "metadata": {
        "id": "zXRJ-xZlwRUZ"
      },
      "outputs": [
        {
          "name": "stdout",
          "output_type": "stream",
          "text": [
            "✓ cellphones data.csv → data.csv\n",
            "✓ cellphones ratings.csv → rating.csv\n",
            "✓ cellphones users.csv → users.csv\n",
            "✓ dataset.zip dihapus\n",
            "\n",
            "File berhasil diubah! Sekarang Anda bisa membaca dengan:\n",
            "data = pd.read_csv('data.csv')\n",
            "rating = pd.read_csv('rating.csv')\n",
            "users = pd.read_csv('users.csv')\n"
          ]
        }
      ],
      "source": [
        "import os\n",
        "\n",
        "# Path ke folder dataset\n",
        "dataset_path = r\"D:\\PROJECT\\DBS DICODING\\machine learning terapan\\sistem rekomendasi\\Dicoding-ModelSistemRekomendasi-main\\dataset\"\n",
        "\n",
        "# Pindah ke direktori dataset\n",
        "os.chdir(dataset_path)\n",
        "\n",
        "# Mengubah nama file menggunakan os.rename()\n",
        "try:\n",
        "    os.rename(\"cellphones data.csv\", \"data.csv\")\n",
        "    print(\"✓ cellphones data.csv → data.csv\")\n",
        "except FileNotFoundError:\n",
        "    print(\"⚠ File 'cellphones data.csv' tidak ditemukan atau sudah diubah\")\n",
        "except FileExistsError:\n",
        "    print(\"⚠ File 'data.csv' sudah ada\")\n",
        "\n",
        "try:\n",
        "    os.rename(\"cellphones ratings.csv\", \"rating.csv\")\n",
        "    print(\"✓ cellphones ratings.csv → rating.csv\")\n",
        "except FileNotFoundError:\n",
        "    print(\"⚠ File 'cellphones ratings.csv' tidak ditemukan atau sudah diubah\")\n",
        "except FileExistsError:\n",
        "    print(\"⚠ File 'rating.csv' sudah ada\")\n",
        "\n",
        "try:\n",
        "    os.rename(\"cellphones users.csv\", \"users.csv\")\n",
        "    print(\"✓ cellphones users.csv → users.csv\")\n",
        "except FileNotFoundError:\n",
        "    print(\"⚠ File 'cellphones users.csv' tidak ditemukan atau sudah diubah\")\n",
        "except FileExistsError:\n",
        "    print(\"⚠ File 'users.csv' sudah ada\")\n",
        "\n",
        "# Hapus file zip jika ada\n",
        "try:\n",
        "    os.remove(\"dataset.zip\")\n",
        "    print(\"✓ dataset.zip dihapus\")\n",
        "except FileNotFoundError:\n",
        "    print(\"⚠ File 'dataset.zip' tidak ditemukan\")\n",
        "\n",
        "print(\"\\nFile berhasil diubah! Sekarang Anda bisa membaca dengan:\")\n",
        "print(\"data = pd.read_csv('data.csv')\")\n",
        "print(\"rating = pd.read_csv('rating.csv')\")\n",
        "print(\"users = pd.read_csv('users.csv')\")"
      ]
    },
    {
      "cell_type": "markdown",
      "metadata": {},
      "source": [
        "####"
      ]
    },
    {
      "cell_type": "markdown",
      "metadata": {
        "id": "BbeHcyl36olS"
      },
      "source": [
        "#### Menampilkan informasi dari dataset menggunakan .info()"
      ]
    },
    {
      "cell_type": "code",
      "execution_count": 10,
      "metadata": {
        "colab": {
          "base_uri": "https://localhost:8080/"
        },
        "id": "u3fWOkat6hA-",
        "outputId": "e9ed7e89-43d9-45fc-943c-10527241b23a"
      },
      "outputs": [
        {
          "name": "stdout",
          "output_type": "stream",
          "text": [
            "<class 'pandas.core.frame.DataFrame'>\n",
            "RangeIndex: 33 entries, 0 to 32\n",
            "Data columns (total 14 columns):\n",
            " #   Column            Non-Null Count  Dtype  \n",
            "---  ------            --------------  -----  \n",
            " 0   cellphone_id      33 non-null     int64  \n",
            " 1   brand             33 non-null     object \n",
            " 2   model             33 non-null     object \n",
            " 3   operating system  33 non-null     object \n",
            " 4   internal memory   33 non-null     int64  \n",
            " 5   RAM               33 non-null     int64  \n",
            " 6   performance       33 non-null     float64\n",
            " 7   main camera       33 non-null     int64  \n",
            " 8   selfie camera     33 non-null     int64  \n",
            " 9   battery size      33 non-null     int64  \n",
            " 10  screen size       33 non-null     float64\n",
            " 11  weight            33 non-null     int64  \n",
            " 12  price             33 non-null     int64  \n",
            " 13  release date      33 non-null     object \n",
            "dtypes: float64(2), int64(8), object(4)\n",
            "memory usage: 3.7+ KB\n"
          ]
        }
      ],
      "source": [
        "#Menampilkan info dari dataset\n",
        "data.info()"
      ]
    },
    {
      "cell_type": "markdown",
      "metadata": {
        "id": "SoDZzsHG6ueG"
      },
      "source": [
        "Output kode di atas memberikan informasi :\n",
        "- Total baris ada 33\n",
        "- Total kolom ada 14\n",
        "- Terdapat 10 kolom bertipe data numerik\n",
        "- Terdapat 4 kolom bertipe data object\n"
      ]
    },
    {
      "cell_type": "markdown",
      "metadata": {},
      "source": [
        "####"
      ]
    },
    {
      "cell_type": "markdown",
      "metadata": {
        "id": "TLS2Hu7_5f9t"
      },
      "source": [
        "#### Menampilkan 5 sampel teratas dari varibel data."
      ]
    },
    {
      "cell_type": "code",
      "execution_count": 11,
      "metadata": {
        "colab": {
          "base_uri": "https://localhost:8080/",
          "height": 206
        },
        "id": "hB-Wy4hqxJRz",
        "outputId": "7cdbccee-049d-4c7c-e07d-523885d18199"
      },
      "outputs": [
        {
          "data": {
            "text/html": [
              "<div>\n",
              "<style scoped>\n",
              "    .dataframe tbody tr th:only-of-type {\n",
              "        vertical-align: middle;\n",
              "    }\n",
              "\n",
              "    .dataframe tbody tr th {\n",
              "        vertical-align: top;\n",
              "    }\n",
              "\n",
              "    .dataframe thead th {\n",
              "        text-align: right;\n",
              "    }\n",
              "</style>\n",
              "<table border=\"1\" class=\"dataframe\">\n",
              "  <thead>\n",
              "    <tr style=\"text-align: right;\">\n",
              "      <th></th>\n",
              "      <th>cellphone_id</th>\n",
              "      <th>brand</th>\n",
              "      <th>model</th>\n",
              "      <th>operating system</th>\n",
              "      <th>internal memory</th>\n",
              "      <th>RAM</th>\n",
              "      <th>performance</th>\n",
              "      <th>main camera</th>\n",
              "      <th>selfie camera</th>\n",
              "      <th>battery size</th>\n",
              "      <th>screen size</th>\n",
              "      <th>weight</th>\n",
              "      <th>price</th>\n",
              "      <th>release date</th>\n",
              "    </tr>\n",
              "  </thead>\n",
              "  <tbody>\n",
              "    <tr>\n",
              "      <th>0</th>\n",
              "      <td>0</td>\n",
              "      <td>Apple</td>\n",
              "      <td>iPhone SE (2025)</td>\n",
              "      <td>iOS</td>\n",
              "      <td>128</td>\n",
              "      <td>4</td>\n",
              "      <td>7.23</td>\n",
              "      <td>12</td>\n",
              "      <td>7</td>\n",
              "      <td>2018</td>\n",
              "      <td>4.7</td>\n",
              "      <td>144</td>\n",
              "      <td>429</td>\n",
              "      <td>18/03/2025</td>\n",
              "    </tr>\n",
              "    <tr>\n",
              "      <th>1</th>\n",
              "      <td>1</td>\n",
              "      <td>Apple</td>\n",
              "      <td>iPhone 13 Mini</td>\n",
              "      <td>iOS</td>\n",
              "      <td>128</td>\n",
              "      <td>4</td>\n",
              "      <td>7.72</td>\n",
              "      <td>12</td>\n",
              "      <td>12</td>\n",
              "      <td>2438</td>\n",
              "      <td>5.4</td>\n",
              "      <td>141</td>\n",
              "      <td>699</td>\n",
              "      <td>24/09/2025</td>\n",
              "    </tr>\n",
              "    <tr>\n",
              "      <th>2</th>\n",
              "      <td>2</td>\n",
              "      <td>Apple</td>\n",
              "      <td>iPhone 13</td>\n",
              "      <td>iOS</td>\n",
              "      <td>128</td>\n",
              "      <td>4</td>\n",
              "      <td>7.75</td>\n",
              "      <td>12</td>\n",
              "      <td>12</td>\n",
              "      <td>3240</td>\n",
              "      <td>6.1</td>\n",
              "      <td>174</td>\n",
              "      <td>699</td>\n",
              "      <td>24/09/2025</td>\n",
              "    </tr>\n",
              "    <tr>\n",
              "      <th>3</th>\n",
              "      <td>3</td>\n",
              "      <td>Apple</td>\n",
              "      <td>iPhone 13 Pro</td>\n",
              "      <td>iOS</td>\n",
              "      <td>256</td>\n",
              "      <td>6</td>\n",
              "      <td>7.94</td>\n",
              "      <td>12</td>\n",
              "      <td>12</td>\n",
              "      <td>3065</td>\n",
              "      <td>6.1</td>\n",
              "      <td>204</td>\n",
              "      <td>999</td>\n",
              "      <td>24/09/2025</td>\n",
              "    </tr>\n",
              "    <tr>\n",
              "      <th>4</th>\n",
              "      <td>4</td>\n",
              "      <td>Apple</td>\n",
              "      <td>iPhone 13 Pro Max</td>\n",
              "      <td>iOS</td>\n",
              "      <td>256</td>\n",
              "      <td>6</td>\n",
              "      <td>8.01</td>\n",
              "      <td>12</td>\n",
              "      <td>12</td>\n",
              "      <td>4352</td>\n",
              "      <td>6.7</td>\n",
              "      <td>240</td>\n",
              "      <td>1199</td>\n",
              "      <td>24/09/2025</td>\n",
              "    </tr>\n",
              "  </tbody>\n",
              "</table>\n",
              "</div>"
            ],
            "text/plain": [
              "   cellphone_id  brand              model operating system  internal memory  \\\n",
              "0             0  Apple   iPhone SE (2025)              iOS              128   \n",
              "1             1  Apple     iPhone 13 Mini              iOS              128   \n",
              "2             2  Apple          iPhone 13              iOS              128   \n",
              "3             3  Apple      iPhone 13 Pro              iOS              256   \n",
              "4             4  Apple  iPhone 13 Pro Max              iOS              256   \n",
              "\n",
              "   RAM  performance  main camera  selfie camera  battery size  screen size  \\\n",
              "0    4         7.23           12              7          2018          4.7   \n",
              "1    4         7.72           12             12          2438          5.4   \n",
              "2    4         7.75           12             12          3240          6.1   \n",
              "3    6         7.94           12             12          3065          6.1   \n",
              "4    6         8.01           12             12          4352          6.7   \n",
              "\n",
              "   weight  price release date  \n",
              "0     144    429   18/03/2025  \n",
              "1     141    699   24/09/2025  \n",
              "2     174    699   24/09/2025  \n",
              "3     204    999   24/09/2025  \n",
              "4     240   1199   24/09/2025  "
            ]
          },
          "execution_count": 11,
          "metadata": {},
          "output_type": "execute_result"
        }
      ],
      "source": [
        "data.head()"
      ]
    },
    {
      "cell_type": "markdown",
      "metadata": {},
      "source": [
        "####"
      ]
    },
    {
      "cell_type": "markdown",
      "metadata": {
        "id": "RocqRcep7jlO"
      },
      "source": [
        "#### Menampilkan informasi dari dataset menggunakan .info()"
      ]
    },
    {
      "cell_type": "code",
      "execution_count": 12,
      "metadata": {
        "colab": {
          "base_uri": "https://localhost:8080/"
        },
        "id": "nBz6FRrm7kJ9",
        "outputId": "aa826cab-da71-49a7-8f9c-239a83a04c2e"
      },
      "outputs": [
        {
          "name": "stdout",
          "output_type": "stream",
          "text": [
            "<class 'pandas.core.frame.DataFrame'>\n",
            "RangeIndex: 990 entries, 0 to 989\n",
            "Data columns (total 3 columns):\n",
            " #   Column        Non-Null Count  Dtype\n",
            "---  ------        --------------  -----\n",
            " 0   user_id       990 non-null    int64\n",
            " 1   cellphone_id  990 non-null    int64\n",
            " 2   rating        990 non-null    int64\n",
            "dtypes: int64(3)\n",
            "memory usage: 23.3 KB\n"
          ]
        }
      ],
      "source": [
        "rating.info()"
      ]
    },
    {
      "cell_type": "markdown",
      "metadata": {
        "id": "9Aq2jNpQ7m_e"
      },
      "source": [
        "Output kode di atas memberikan informasi :\n",
        "- Total baris ada 990\n",
        "- Total kolom ada 3\n",
        "- Terdapat 3 kolom bertipe data numerik"
      ]
    },
    {
      "cell_type": "markdown",
      "metadata": {},
      "source": [
        "####"
      ]
    },
    {
      "cell_type": "markdown",
      "metadata": {
        "id": "O7UYkDJ_5x2U"
      },
      "source": [
        "#### Menampilkan 5 sampel teratas dari varibel rating."
      ]
    },
    {
      "cell_type": "code",
      "execution_count": 13,
      "metadata": {
        "colab": {
          "base_uri": "https://localhost:8080/",
          "height": 206
        },
        "id": "bVg9UwPWxQsC",
        "outputId": "3ac2d390-fe37-40e4-b19f-b2e939cd3193"
      },
      "outputs": [
        {
          "data": {
            "text/html": [
              "<div>\n",
              "<style scoped>\n",
              "    .dataframe tbody tr th:only-of-type {\n",
              "        vertical-align: middle;\n",
              "    }\n",
              "\n",
              "    .dataframe tbody tr th {\n",
              "        vertical-align: top;\n",
              "    }\n",
              "\n",
              "    .dataframe thead th {\n",
              "        text-align: right;\n",
              "    }\n",
              "</style>\n",
              "<table border=\"1\" class=\"dataframe\">\n",
              "  <thead>\n",
              "    <tr style=\"text-align: right;\">\n",
              "      <th></th>\n",
              "      <th>user_id</th>\n",
              "      <th>cellphone_id</th>\n",
              "      <th>rating</th>\n",
              "    </tr>\n",
              "  </thead>\n",
              "  <tbody>\n",
              "    <tr>\n",
              "      <th>0</th>\n",
              "      <td>0</td>\n",
              "      <td>30</td>\n",
              "      <td>1</td>\n",
              "    </tr>\n",
              "    <tr>\n",
              "      <th>1</th>\n",
              "      <td>0</td>\n",
              "      <td>5</td>\n",
              "      <td>3</td>\n",
              "    </tr>\n",
              "    <tr>\n",
              "      <th>2</th>\n",
              "      <td>0</td>\n",
              "      <td>10</td>\n",
              "      <td>9</td>\n",
              "    </tr>\n",
              "    <tr>\n",
              "      <th>3</th>\n",
              "      <td>0</td>\n",
              "      <td>9</td>\n",
              "      <td>3</td>\n",
              "    </tr>\n",
              "    <tr>\n",
              "      <th>4</th>\n",
              "      <td>0</td>\n",
              "      <td>23</td>\n",
              "      <td>2</td>\n",
              "    </tr>\n",
              "  </tbody>\n",
              "</table>\n",
              "</div>"
            ],
            "text/plain": [
              "   user_id  cellphone_id  rating\n",
              "0        0            30       1\n",
              "1        0             5       3\n",
              "2        0            10       9\n",
              "3        0             9       3\n",
              "4        0            23       2"
            ]
          },
          "execution_count": 13,
          "metadata": {},
          "output_type": "execute_result"
        }
      ],
      "source": [
        "rating.head()"
      ]
    },
    {
      "cell_type": "markdown",
      "metadata": {},
      "source": [
        "####"
      ]
    },
    {
      "cell_type": "markdown",
      "metadata": {
        "id": "a1yJ4vsQ78hb"
      },
      "source": [
        "#### Menampilkan informasi dari dataset menggunakan .info()"
      ]
    },
    {
      "cell_type": "code",
      "execution_count": 14,
      "metadata": {
        "colab": {
          "base_uri": "https://localhost:8080/"
        },
        "id": "OJ4uXb8I79Ka",
        "outputId": "8007c7f8-d849-4afb-b6f2-f649e2b34ff5"
      },
      "outputs": [
        {
          "name": "stdout",
          "output_type": "stream",
          "text": [
            "<class 'pandas.core.frame.DataFrame'>\n",
            "RangeIndex: 99 entries, 0 to 98\n",
            "Data columns (total 4 columns):\n",
            " #   Column      Non-Null Count  Dtype \n",
            "---  ------      --------------  ----- \n",
            " 0   user_id     99 non-null     int64 \n",
            " 1   age         99 non-null     int64 \n",
            " 2   gender      99 non-null     object\n",
            " 3   occupation  98 non-null     object\n",
            "dtypes: int64(2), object(2)\n",
            "memory usage: 3.2+ KB\n"
          ]
        }
      ],
      "source": [
        "#Menampilkan info dari dataset\n",
        "users.info()"
      ]
    },
    {
      "cell_type": "markdown",
      "metadata": {
        "id": "X3D9oxQ68AFu"
      },
      "source": [
        "Output kode di atas memberikan informasi :\n",
        "- Total baris ada 99\n",
        "- Total kolom ada 4\n",
        "- Terdapat 2 kolom bertipe data numerik\n",
        "- Terdapat 2 kolom bertipe data object"
      ]
    },
    {
      "cell_type": "markdown",
      "metadata": {},
      "source": [
        "####"
      ]
    },
    {
      "cell_type": "markdown",
      "metadata": {
        "id": "rJjAp7Na51u0"
      },
      "source": [
        "#### Menampilkan 5 sampel teratas dari varibel users."
      ]
    },
    {
      "cell_type": "code",
      "execution_count": 15,
      "metadata": {
        "colab": {
          "base_uri": "https://localhost:8080/",
          "height": 206
        },
        "id": "tPEKTaZgxSnf",
        "outputId": "dbcc8f1a-b4fc-44dc-d868-1f85d8ba2625"
      },
      "outputs": [
        {
          "data": {
            "text/html": [
              "<div>\n",
              "<style scoped>\n",
              "    .dataframe tbody tr th:only-of-type {\n",
              "        vertical-align: middle;\n",
              "    }\n",
              "\n",
              "    .dataframe tbody tr th {\n",
              "        vertical-align: top;\n",
              "    }\n",
              "\n",
              "    .dataframe thead th {\n",
              "        text-align: right;\n",
              "    }\n",
              "</style>\n",
              "<table border=\"1\" class=\"dataframe\">\n",
              "  <thead>\n",
              "    <tr style=\"text-align: right;\">\n",
              "      <th></th>\n",
              "      <th>user_id</th>\n",
              "      <th>age</th>\n",
              "      <th>gender</th>\n",
              "      <th>occupation</th>\n",
              "    </tr>\n",
              "  </thead>\n",
              "  <tbody>\n",
              "    <tr>\n",
              "      <th>0</th>\n",
              "      <td>0</td>\n",
              "      <td>38</td>\n",
              "      <td>Female</td>\n",
              "      <td>Data analyst</td>\n",
              "    </tr>\n",
              "    <tr>\n",
              "      <th>1</th>\n",
              "      <td>1</td>\n",
              "      <td>40</td>\n",
              "      <td>Female</td>\n",
              "      <td>team worker in it</td>\n",
              "    </tr>\n",
              "    <tr>\n",
              "      <th>2</th>\n",
              "      <td>6</td>\n",
              "      <td>55</td>\n",
              "      <td>Female</td>\n",
              "      <td>IT</td>\n",
              "    </tr>\n",
              "    <tr>\n",
              "      <th>3</th>\n",
              "      <td>8</td>\n",
              "      <td>25</td>\n",
              "      <td>Female</td>\n",
              "      <td>Manager</td>\n",
              "    </tr>\n",
              "    <tr>\n",
              "      <th>4</th>\n",
              "      <td>10</td>\n",
              "      <td>23</td>\n",
              "      <td>Male</td>\n",
              "      <td>worker</td>\n",
              "    </tr>\n",
              "  </tbody>\n",
              "</table>\n",
              "</div>"
            ],
            "text/plain": [
              "   user_id  age  gender         occupation\n",
              "0        0   38  Female       Data analyst\n",
              "1        1   40  Female  team worker in it\n",
              "2        6   55  Female                 IT\n",
              "3        8   25  Female            Manager\n",
              "4       10   23    Male             worker"
            ]
          },
          "execution_count": 15,
          "metadata": {},
          "output_type": "execute_result"
        }
      ],
      "source": [
        "#Menampilkan isi dari variabel users\n",
        "users.head()"
      ]
    },
    {
      "cell_type": "markdown",
      "metadata": {
        "id": "1wtKeZxZu9VI"
      },
      "source": [
        "## Univariate Exploratory Data Analysis"
      ]
    },
    {
      "cell_type": "markdown",
      "metadata": {
        "id": "hDcJnGWUyVtb"
      },
      "source": [
        "## Overview\n",
        "Dataset ini terdiri dari tiga file CSV yang berisi informasi mengenai ponsel, rating pengguna, dan profil pengguna untuk sistem rekomendasi ponsel.\n",
        "\n",
        "## File Structure\n",
        "\n",
        "### 📱 data.csv (Informasi Ponsel)\n",
        "File ini berisi informasi detail mengenai spesifikasi dan karakteristik ponsel.\n",
        "\n",
        "| Variabel | Tipe Data | Deskripsi |\n",
        "|----------|-----------|-----------|\n",
        "| `cellphone_id` | Integer | Identifikasi unik untuk setiap unit ponsel |\n",
        "| `brand` | String | Nama merek atau brand ponsel |\n",
        "| `model` | String | Tipe atau model spesifik ponsel |\n",
        "| `operating_system` | String | Jenis sistem operasi yang digunakan |\n",
        "| `internal_memory` | Integer | Kapasitas penyimpanan internal dalam satuan GB |\n",
        "| `RAM` | Integer | Kapasitas memori akses acak dalam satuan GB |\n",
        "| `performance` | Float | Nilai evaluasi performa ponsel |\n",
        "| `main_camera` | Integer | Kualitas kamera belakang dalam satuan MP |\n",
        "| `selfie_camera` | Integer | Kualitas kamera depan dalam satuan MP |\n",
        "| `battery_size` | Integer | Daya tampung baterai dalam satuan mAh |\n",
        "| `screen_size` | Float | Dimensi layar dalam satuan inci |\n",
        "| `weight` | Integer | Bobot ponsel dalam satuan gram |\n",
        "| `price` | Float | Nilai harga ponsel dalam mata uang USD |\n",
        "| `release_date` | Date | Waktu peluncuran produk ponsel |\n",
        "\n",
        "### ⭐ rating.csv (Penilaian Pengguna)\n",
        "File ini berisi data rating yang diberikan pengguna terhadap ponsel tertentu.\n",
        "\n",
        "| Variabel | Tipe Data | Deskripsi |\n",
        "|----------|-----------|-----------|\n",
        "| `user_id` | Integer | Kode identifikasi unik setiap pengguna |\n",
        "| `cellphone_id` | Integer | Kode identifikasi unik ponsel (terhubung dengan data.csv) |\n",
        "| `rating` | Integer | Nilai penilaian yang diberikan pengguna terhadap ponsel (rentang 1-10) |\n",
        "\n",
        "### 👤 users.csv (Profil Pengguna)\n",
        "File ini berisi informasi demografis pengguna.\n",
        "\n",
        "| Variabel | Tipe Data | Deskripsi |\n",
        "|----------|-----------|-----------|\n",
        "| `user_id` | Integer | Kode identifikasi unik setiap pengguna |\n",
        "| `age` | Integer | Umur pengguna |\n",
        "| `gender` | String | Jenis kelamin pengguna |\n",
        "| `occupation` | String | Profesi atau pekerjaan pengguna |\n",
        "\n",
        "## Relationships\n",
        "\n",
        "```\n",
        "users.csv ──┐\n",
        "            │\n",
        "            ├─── user_id ─── rating.csv ─── cellphone_id ─── data.csv\n",
        "            │\n",
        "            └─── (One-to-Many relationship)\n",
        "```\n",
        "\n",
        "- **users.csv** dan **rating.csv** terhubung melalui `user_id`\n",
        "- **rating.csv** dan **data.csv** terhubung melalui `cellphone_id`\n",
        "- Satu pengguna dapat memberikan rating untuk beberapa ponsel\n",
        "- Satu ponsel dapat memiliki rating dari beberapa pengguna"
      ]
    },
    {
      "cell_type": "markdown",
      "metadata": {
        "id": "f9jUxiYz4riH"
      },
      "source": [
        "## **Dataset Data**"
      ]
    },
    {
      "cell_type": "markdown",
      "metadata": {
        "id": "GcGIQMSF85ZE"
      },
      "source": [
        "#### Menampilkan satu contoh dari dataset data"
      ]
    },
    {
      "cell_type": "code",
      "execution_count": 16,
      "metadata": {
        "colab": {
          "base_uri": "https://localhost:8080/",
          "height": 81
        },
        "id": "Owk16bqn5ICY",
        "outputId": "1184af3c-d2ab-4861-b0cb-4f1fae139151"
      },
      "outputs": [
        {
          "data": {
            "text/html": [
              "<div>\n",
              "<style scoped>\n",
              "    .dataframe tbody tr th:only-of-type {\n",
              "        vertical-align: middle;\n",
              "    }\n",
              "\n",
              "    .dataframe tbody tr th {\n",
              "        vertical-align: top;\n",
              "    }\n",
              "\n",
              "    .dataframe thead th {\n",
              "        text-align: right;\n",
              "    }\n",
              "</style>\n",
              "<table border=\"1\" class=\"dataframe\">\n",
              "  <thead>\n",
              "    <tr style=\"text-align: right;\">\n",
              "      <th></th>\n",
              "      <th>cellphone_id</th>\n",
              "      <th>brand</th>\n",
              "      <th>model</th>\n",
              "      <th>operating system</th>\n",
              "      <th>internal memory</th>\n",
              "      <th>RAM</th>\n",
              "      <th>performance</th>\n",
              "      <th>main camera</th>\n",
              "      <th>selfie camera</th>\n",
              "      <th>battery size</th>\n",
              "      <th>screen size</th>\n",
              "      <th>weight</th>\n",
              "      <th>price</th>\n",
              "      <th>release date</th>\n",
              "    </tr>\n",
              "  </thead>\n",
              "  <tbody>\n",
              "    <tr>\n",
              "      <th>0</th>\n",
              "      <td>0</td>\n",
              "      <td>Apple</td>\n",
              "      <td>iPhone SE (2025)</td>\n",
              "      <td>iOS</td>\n",
              "      <td>128</td>\n",
              "      <td>4</td>\n",
              "      <td>7.23</td>\n",
              "      <td>12</td>\n",
              "      <td>7</td>\n",
              "      <td>2018</td>\n",
              "      <td>4.7</td>\n",
              "      <td>144</td>\n",
              "      <td>429</td>\n",
              "      <td>18/03/2025</td>\n",
              "    </tr>\n",
              "  </tbody>\n",
              "</table>\n",
              "</div>"
            ],
            "text/plain": [
              "   cellphone_id  brand             model operating system  internal memory  \\\n",
              "0             0  Apple  iPhone SE (2025)              iOS              128   \n",
              "\n",
              "   RAM  performance  main camera  selfie camera  battery size  screen size  \\\n",
              "0    4         7.23           12              7          2018          4.7   \n",
              "\n",
              "   weight  price release date  \n",
              "0     144    429   18/03/2025  "
            ]
          },
          "execution_count": 16,
          "metadata": {},
          "output_type": "execute_result"
        }
      ],
      "source": [
        "#Menampilkan satu contoh\n",
        "data.head(1)"
      ]
    },
    {
      "cell_type": "markdown",
      "metadata": {},
      "source": [
        "#### "
      ]
    },
    {
      "cell_type": "markdown",
      "metadata": {
        "id": "Pwx6Niy69IzF"
      },
      "source": [
        "#### Menghitung jumlah cellphone masing-masing brand dan menampilkan grafik."
      ]
    },
    {
      "cell_type": "code",
      "execution_count": 17,
      "metadata": {
        "colab": {
          "base_uri": "https://localhost:8080/",
          "height": 587
        },
        "id": "fD6fOamQ5LP6",
        "outputId": "dc83a414-cfbb-4d89-86c7-6cb2b74563a7"
      },
      "outputs": [
        {
          "name": "stdout",
          "output_type": "stream",
          "text": [
            "Jumlah brand:  10\n",
            "brand\n",
            "Samsung     8\n",
            "Apple       6\n",
            "OnePlus     4\n",
            "Xiaomi      4\n",
            "Motorola    4\n",
            "Google      3\n",
            "Asus        1\n",
            "Oppo        1\n",
            "Vivo        1\n",
            "Sony        1\n",
            "Name: count, dtype: int64\n"
          ]
        },
        {
          "data": {
            "image/png": "[encoded data removed]",
            "text/plain": [
              "<Figure size 500x300 with 1 Axes>"
            ]
          },
          "metadata": {},
          "output_type": "display_data"
        }
      ],
      "source": [
        "#Menghitung jumlah brand\n",
        "print('Jumlah brand: ',len(data.brand.unique()))\n",
        "\n",
        "#Menghitung jumlah cellphone masing-masing brand\n",
        "brand_counts = data['brand'].value_counts()\n",
        "print(brand_counts)\n",
        "\n",
        "#Menampilkan dalam bentuk grafik\n",
        "plt.figure(figsize=(5, 3))\n",
        "sns.countplot(data=data, x=data['brand'])\n",
        "plt.xticks(rotation=90)\n",
        "plt.show()"
      ]
    },
    {
      "cell_type": "markdown",
      "metadata": {
        "id": "m3hewPhi_LKS"
      },
      "source": [
        "Output kode di atas memberikan informasi :\n",
        "- Terdapat 10 brand berbeda\n",
        "- Brand dengan jumlah cellphone paling banyak adalah Samsung\n",
        "- Brand dengan jumlah cellphone paling sedikit adalah Asus, Oppo, Vivo, dan Sony"
      ]
    },
    {
      "cell_type": "markdown",
      "metadata": {},
      "source": [
        "#### "
      ]
    },
    {
      "cell_type": "markdown",
      "metadata": {
        "id": "F2i_RGoM-eKb"
      },
      "source": [
        "#### Menampilkan jenis-jenis model cellphone."
      ]
    },
    {
      "cell_type": "code",
      "execution_count": 18,
      "metadata": {
        "colab": {
          "base_uri": "https://localhost:8080/"
        },
        "id": "oMinf3Xh7M5M",
        "outputId": "0c7e69de-6ccb-4f35-96ee-bd4603020d6e"
      },
      "outputs": [
        {
          "name": "stdout",
          "output_type": "stream",
          "text": [
            "Jumlah model cellphone:  33\n"
          ]
        },
        {
          "data": {
            "text/plain": [
              "array(['iPhone SE (2025)', 'iPhone 13 Mini', 'iPhone 13', 'iPhone 13 Pro',\n",
              "       'iPhone 13 Pro Max', 'iPhone XR', 'Zenfone 8', 'Galaxy A13',\n",
              "       'Galaxy A32', 'Galaxy A53', 'Galaxy S22', 'Galaxy S22 Plus',\n",
              "       'Galaxy S22 Ultra', 'Galaxy Z Flip 3', 'Galaxy Z Fold 3',\n",
              "       'Pixel 6 \\xa0', 'Pixel 6a', 'Pixel 6 Pro\\xa0', 'Nord N20',\n",
              "       'Nord 2T', '10 Pro', '10T', 'Find X5 Pro', 'X80 Pro',\n",
              "       'Redmi Note 11', '11T Pro', '12 Pro', 'Poco F4', 'Xperia Pro',\n",
              "       'Moto G Stylus (2025)', 'Moto G Play (2025)', 'Moto G Pure',\n",
              "       'Moto G Power (2025)'], dtype=object)"
            ]
          },
          "execution_count": 18,
          "metadata": {},
          "output_type": "execute_result"
        }
      ],
      "source": [
        "#Menampilkan semua model cellphone\n",
        "model_counts = data['model'].unique()\n",
        "print('Jumlah model cellphone: ',len(model_counts))\n",
        "model_counts"
      ]
    },
    {
      "cell_type": "markdown",
      "metadata": {
        "id": "65r_TXVR_jfL"
      },
      "source": [
        "Output kode di atas memberikan informasi :\n",
        "- Terdapat 33 model cellphone berbeda"
      ]
    },
    {
      "cell_type": "markdown",
      "metadata": {},
      "source": [
        "#### "
      ]
    },
    {
      "cell_type": "markdown",
      "metadata": {
        "id": "Z1amqw6L-zDL"
      },
      "source": [
        "#### Menghitung jumlah operating system untuk masing-masing kategori."
      ]
    },
    {
      "cell_type": "code",
      "execution_count": 19,
      "metadata": {
        "colab": {
          "base_uri": "https://localhost:8080/",
          "height": 380
        },
        "id": "WGgOOeHw7zSY",
        "outputId": "8939f8e2-f210-4906-a7a3-23c94e7713d4"
      },
      "outputs": [
        {
          "name": "stdout",
          "output_type": "stream",
          "text": [
            "operating system\n",
            "Android    27\n",
            "iOS         6\n",
            "Name: count, dtype: int64\n"
          ]
        },
        {
          "data": {
            "image/png": "[encoded data removed]",
            "text/plain": [
              "<Figure size 500x300 with 1 Axes>"
            ]
          },
          "metadata": {},
          "output_type": "display_data"
        }
      ],
      "source": [
        "#Menghitung jumlah operating system\n",
        "os_counts = data['operating system'].value_counts()\n",
        "print(os_counts)\n",
        "\n",
        "#Menampilkan dalam bentuk grafik\n",
        "plt.figure(figsize=(5, 3))\n",
        "sns.countplot(data=data, x=data['operating system'])\n",
        "plt.show()"
      ]
    },
    {
      "cell_type": "markdown",
      "metadata": {
        "id": "Yk-UkmnC_nnN"
      },
      "source": [
        "Output kode di atas memberikan informasi :\n",
        "- Terdapat dua kategori operating system\n",
        "- Android memiliki jumlah terbanyak dengan total 27"
      ]
    },
    {
      "cell_type": "markdown",
      "metadata": {},
      "source": [
        "#### \n"
      ]
    },
    {
      "cell_type": "markdown",
      "metadata": {
        "id": "4BK0ENIF-7lC"
      },
      "source": [
        "#### Menghitung jumlah internal memory untuk masing-masing kategori."
      ]
    },
    {
      "cell_type": "code",
      "execution_count": 20,
      "metadata": {
        "colab": {
          "base_uri": "https://localhost:8080/",
          "height": 433
        },
        "id": "VrIMJX1778vO",
        "outputId": "6b5b5616-9e2e-47df-bce9-13e91fa813a5"
      },
      "outputs": [
        {
          "name": "stdout",
          "output_type": "stream",
          "text": [
            "internal memory\n",
            "128    20\n",
            "256     6\n",
            "64      3\n",
            "32      3\n",
            "512     1\n",
            "Name: count, dtype: int64\n"
          ]
        },
        {
          "data": {
            "image/png": "[encoded data removed]",
            "text/plain": [
              "<Figure size 500x300 with 1 Axes>"
            ]
          },
          "metadata": {},
          "output_type": "display_data"
        }
      ],
      "source": [
        "#Menghitung jumlah internal memory\n",
        "internalMemory_counts = data['internal memory'].value_counts()\n",
        "print(internalMemory_counts)\n",
        "\n",
        "#Menampilkan dalam bentuk grafik\n",
        "plt.figure(figsize=(5, 3))\n",
        "sns.countplot(data=data, x=data['internal memory'])\n",
        "plt.show()"
      ]
    },
    {
      "cell_type": "markdown",
      "metadata": {
        "id": "WkRrxcXK_t5a"
      },
      "source": [
        "Output kode di atas memberikan informasi :\n",
        "- Terdapat lima kategori internal memory\n",
        "- Kategori internal memory 128 memiliki jumlah terbanyak dengan total 20\n",
        "- Kategori internal memory 512 memiliki jumlah tersedikit dengan total 1"
      ]
    },
    {
      "cell_type": "markdown",
      "metadata": {},
      "source": [
        "#### "
      ]
    },
    {
      "cell_type": "markdown",
      "metadata": {
        "id": "JSqQYzi3_4to"
      },
      "source": [
        "#### Menghitung jumlah RAM untuk masing-masing kategori."
      ]
    },
    {
      "cell_type": "code",
      "execution_count": 21,
      "metadata": {
        "colab": {
          "base_uri": "https://localhost:8080/",
          "height": 433
        },
        "id": "hJoFCfSX8LLn",
        "outputId": "1d72aff5-5281-4b3b-f394-c3f8a37607ba"
      },
      "outputs": [
        {
          "name": "stdout",
          "output_type": "stream",
          "text": [
            "RAM\n",
            "8     13\n",
            "4      6\n",
            "6      6\n",
            "3      4\n",
            "12     4\n",
            "Name: count, dtype: int64\n"
          ]
        },
        {
          "data": {
            "image/png": "[encoded data removed]",
            "text/plain": [
              "<Figure size 500x300 with 1 Axes>"
            ]
          },
          "metadata": {},
          "output_type": "display_data"
        }
      ],
      "source": [
        "#Menghitung jumlah RAM\n",
        "RAM_counts = data['RAM'].value_counts()\n",
        "print(RAM_counts)\n",
        "\n",
        "#Menampilkan dalam bentuk grafik\n",
        "plt.figure(figsize=(5, 3))\n",
        "sns.countplot(data=data, x=data['RAM'])\n",
        "plt.show()"
      ]
    },
    {
      "cell_type": "markdown",
      "metadata": {
        "id": "FWMDd2jcAB1A"
      },
      "source": [
        "Output kode di atas memberikan informasi :\n",
        "- Terdapat lima kategori RAM\n",
        "- Kategori RAM 8 memiliki jumlah terbanyak dengan total 13\n",
        "- Kategori RAM 3 dan RAM 12 memiliki jumlah tersedikit dengan total 4"
      ]
    },
    {
      "cell_type": "markdown",
      "metadata": {},
      "source": [
        "#### "
      ]
    },
    {
      "cell_type": "markdown",
      "metadata": {
        "id": "PmcVUdDbAOsl"
      },
      "source": [
        "#### Menampilkan analisis untuk kolom performance. Analisis dilakukan dengan membagi performance menjadi dua kategori karena nilai yang dimiliki sangat beragam."
      ]
    },
    {
      "cell_type": "code",
      "execution_count": 22,
      "metadata": {
        "colab": {
          "base_uri": "https://localhost:8080/",
          "height": 500
        },
        "id": "sJ7G_rOm8Sji",
        "outputId": "329d7ea3-22b8-471a-903c-818dd6524389"
      },
      "outputs": [
        {
          "name": "stdout",
          "output_type": "stream",
          "text": [
            "Total data dengan performance > 5: 23\n",
            "Total data dengan performance <= 5: 10\n"
          ]
        },
        {
          "data": {
            "image/png": "[encoded data removed]",
            "text/plain": [
              "<Figure size 800x500 with 1 Axes>"
            ]
          },
          "metadata": {},
          "output_type": "display_data"
        }
      ],
      "source": [
        "#Filter data berdasarkan performance\n",
        "performance_above_5 = data[data['performance'] > 5]\n",
        "performance_below_5 = data[data['performance'] <= 5]\n",
        "\n",
        "#Menghitung total untuk setiap kategori\n",
        "total_above_5 = len(performance_above_5)\n",
        "total_below_5 = len(performance_below_5)\n",
        "\n",
        "print('Total data dengan performance > 5:', total_above_5)\n",
        "print('Total data dengan performance <= 5:', total_below_5)\n",
        "\n",
        "#Data untuk plotting\n",
        "performance_data = pd.DataFrame({\n",
        "    'Category': ['Performance > 5', 'Performance <= 5'],\n",
        "    'Total': [total_above_5, total_below_5]\n",
        "})\n",
        "\n",
        "#Menampilkan dalam bentuk grafik\n",
        "plt.figure(figsize=(8, 5))\n",
        "sns.barplot(x='Category', y='Total', data=performance_data)\n",
        "plt.show()"
      ]
    },
    {
      "cell_type": "markdown",
      "metadata": {
        "id": "HPw5h-1zA35s"
      },
      "source": [
        "Output kode di atas memberikan informasi :\n",
        "- Cellphones yang memiliki performance lebih dari lima ada 23\n",
        "- Cellphones yang memiliki performance kurang dari lima ada 10"
      ]
    },
    {
      "cell_type": "markdown",
      "metadata": {},
      "source": [
        "#### "
      ]
    },
    {
      "cell_type": "markdown",
      "metadata": {
        "id": "sDKR4BBmBBEs"
      },
      "source": [
        "#### Menghitung jumlah main camera untuk masing-masing kategori."
      ]
    },
    {
      "cell_type": "code",
      "execution_count": 23,
      "metadata": {
        "colab": {
          "base_uri": "https://localhost:8080/",
          "height": 450
        },
        "id": "9qLbVfPS9b5Z",
        "outputId": "1a67111d-21ac-4822-f7f7-a68bfdb4312f"
      },
      "outputs": [
        {
          "name": "stdout",
          "output_type": "stream",
          "text": [
            "main camera\n",
            "50     13\n",
            "12     10\n",
            "64      4\n",
            "48      2\n",
            "108     2\n",
            "13      2\n",
            "Name: count, dtype: int64\n"
          ]
        },
        {
          "data": {
            "image/png": "[encoded data removed]",
            "text/plain": [
              "<Figure size 500x300 with 1 Axes>"
            ]
          },
          "metadata": {},
          "output_type": "display_data"
        }
      ],
      "source": [
        "#Menghitung jumlah main camera\n",
        "mainCamera_counts = data['main camera'].value_counts()\n",
        "print(mainCamera_counts)\n",
        "\n",
        "#Menampilkan dalam bentuk grafik\n",
        "plt.figure(figsize=(5, 3))\n",
        "sns.countplot(data=data, x=data['main camera'])\n",
        "plt.show()"
      ]
    },
    {
      "cell_type": "markdown",
      "metadata": {
        "id": "CGygoG2wBMcU"
      },
      "source": [
        "Output kode di atas memberikan informasi :\n",
        "- Terdapat enam kategori main camera\n",
        "- Kategori main camera 50 memiliki jumlah terbanyak dengan total 13\n",
        "- Kategori main camera 13, 48, 108 memiliki jumlah tersedikit dengan total 2"
      ]
    },
    {
      "cell_type": "markdown",
      "metadata": {},
      "source": [
        "#### "
      ]
    },
    {
      "cell_type": "markdown",
      "metadata": {
        "id": "LMHBSvKqBq8d"
      },
      "source": [
        "#### Menghitung jumlah battery size."
      ]
    },
    {
      "cell_type": "code",
      "execution_count": 24,
      "metadata": {
        "colab": {
          "base_uri": "https://localhost:8080/",
          "height": 658
        },
        "id": "PQsqBGUz9fvN",
        "outputId": "5d736277-0801-4410-b09a-6a7fbe093a72"
      },
      "outputs": [
        {
          "name": "stdout",
          "output_type": "stream",
          "text": [
            "battery size\n",
            "5000    11\n",
            "4500     4\n",
            "4000     3\n",
            "3300     1\n",
            "4700     1\n",
            "4800     1\n",
            "5003     1\n",
            "4410     1\n",
            "4614     1\n",
            "4400     1\n",
            "2018     1\n",
            "2438     1\n",
            "3700     1\n",
            "2942     1\n",
            "4352     1\n",
            "3065     1\n",
            "3240     1\n",
            "4600     1\n",
            "Name: count, dtype: int64\n"
          ]
        },
        {
          "data": {
            "image/png": "[encoded data removed]",
            "text/plain": [
              "<Figure size 1500x300 with 1 Axes>"
            ]
          },
          "metadata": {},
          "output_type": "display_data"
        }
      ],
      "source": [
        "#Menghitung jumlah battery size\n",
        "batterySize_counts = data['battery size'].value_counts()\n",
        "print(batterySize_counts)\n",
        "\n",
        "#Menampilkan dalam bentuk grafik\n",
        "plt.figure(figsize=(15, 3))\n",
        "sns.countplot(data=data, x=data['battery size'])\n",
        "plt.show()"
      ]
    },
    {
      "cell_type": "markdown",
      "metadata": {
        "id": "_v8Q4rZJBx-C"
      },
      "source": [
        "Output kode di atas memberikan informasi :\n",
        "- Terdapat 18 kategori battery size\n",
        "- kategori battery size 5000 memiliki jumlah terbanyak dengan total 11"
      ]
    },
    {
      "cell_type": "markdown",
      "metadata": {},
      "source": [
        "#### "
      ]
    },
    {
      "cell_type": "markdown",
      "metadata": {
        "id": "zhGDtbPzB9GH"
      },
      "source": [
        "#### Menghitung jumlah screen size."
      ]
    },
    {
      "cell_type": "code",
      "execution_count": 25,
      "metadata": {
        "colab": {
          "base_uri": "https://localhost:8080/",
          "height": 519
        },
        "id": "YhJdBK5w9oj1",
        "outputId": "0c84556e-6330-45d3-ba6d-92366d44201d"
      },
      "outputs": [
        {
          "name": "stdout",
          "output_type": "stream",
          "text": [
            "screen size\n",
            "6.7    8\n",
            "6.5    6\n",
            "6.1    5\n",
            "6.6    4\n",
            "6.4    4\n",
            "6.8    2\n",
            "4.7    1\n",
            "5.4    1\n",
            "5.9    1\n",
            "7.6    1\n",
            "Name: count, dtype: int64\n"
          ]
        },
        {
          "data": {
            "image/png": "[encoded data removed]",
            "text/plain": [
              "<Figure size 500x300 with 1 Axes>"
            ]
          },
          "metadata": {},
          "output_type": "display_data"
        }
      ],
      "source": [
        "#Menghitung jumlah screen size\n",
        "screenSize_counts = data['screen size'].value_counts()\n",
        "print(screenSize_counts)\n",
        "\n",
        "#Menampilkan dalam bentuk grafik\n",
        "plt.figure(figsize=(5, 3))\n",
        "sns.countplot(data=data, x=data['screen size'])\n",
        "plt.show()"
      ]
    },
    {
      "cell_type": "markdown",
      "metadata": {
        "id": "gdfSgL9lCDH4"
      },
      "source": [
        "Output kode di atas memberikan informasi :\n",
        "- Terdapat sepuluh kategori screen size\n",
        "- Kategori screen size 6.7 memiliki jumlah terbanyak dengan total 8"
      ]
    },
    {
      "cell_type": "markdown",
      "metadata": {},
      "source": [
        "#### "
      ]
    },
    {
      "cell_type": "markdown",
      "metadata": {
        "id": "fGiWdeRsCMLn"
      },
      "source": [
        "#### Menghitung jumlah weight."
      ]
    },
    {
      "cell_type": "code",
      "execution_count": 26,
      "metadata": {
        "colab": {
          "base_uri": "https://localhost:8080/",
          "height": 832
        },
        "id": "megZ9TLb9r0p",
        "outputId": "03040a69-63ae-4616-d84b-b06ad13aae36"
      },
      "outputs": [
        {
          "name": "stdout",
          "output_type": "stream",
          "text": [
            "27\n",
            "weight\n",
            "204    5\n",
            "215    2\n",
            "195    2\n",
            "144    1\n",
            "207    1\n",
            "188    1\n",
            "225    1\n",
            "179    1\n",
            "218    1\n",
            "201    1\n",
            "190    1\n",
            "173    1\n",
            "210    1\n",
            "178    1\n",
            "183    1\n",
            "271    1\n",
            "141    1\n",
            "228    1\n",
            "167    1\n",
            "189    1\n",
            "205    1\n",
            "196    1\n",
            "169    1\n",
            "194    1\n",
            "240    1\n",
            "174    1\n",
            "203    1\n",
            "Name: count, dtype: int64\n"
          ]
        },
        {
          "data": {
            "image/png": "[encoded data removed]",
            "text/plain": [
              "<Figure size 1500x300 with 1 Axes>"
            ]
          },
          "metadata": {},
          "output_type": "display_data"
        }
      ],
      "source": [
        "#Menghitung jumlah weight\n",
        "weight_counts = data['weight'].value_counts()\n",
        "print(len(weight_counts))\n",
        "print(weight_counts)\n",
        "\n",
        "#Menampilkan dalam bentuk grafik\n",
        "plt.figure(figsize=(15, 3))\n",
        "sns.countplot(data=data, x=data['weight'])\n",
        "plt.show()"
      ]
    },
    {
      "cell_type": "markdown",
      "metadata": {
        "id": "Xq82nMeeCRIR"
      },
      "source": [
        "Output kode di atas memberikan informasi :\n",
        "- Terdapat 27 kategori weight\n",
        "- Kategori weight 204 memiliki jumlah terbanyak dengan total 5"
      ]
    },
    {
      "cell_type": "markdown",
      "metadata": {},
      "source": [
        "#### "
      ]
    },
    {
      "cell_type": "markdown",
      "metadata": {
        "id": "zBPAhtdfCec5"
      },
      "source": [
        "#### Melakukan analisis kolom release date dengan membagi data berdasarkan tahun."
      ]
    },
    {
      "cell_type": "code",
      "execution_count": 27,
      "metadata": {
        "colab": {
          "base_uri": "https://localhost:8080/",
          "height": 398
        },
        "id": "sbplJsSK-rSE",
        "outputId": "66932540-9065-42b2-bb68-fea613e41da9"
      },
      "outputs": [
        {
          "name": "stdout",
          "output_type": "stream",
          "text": [
            "release_year\n",
            "2018     1\n",
            "2025    32\n",
            "Name: count, dtype: int64\n"
          ]
        },
        {
          "data": {
            "image/png": "[encoded data removed]",
            "text/plain": [
              "<Figure size 500x300 with 1 Axes>"
            ]
          },
          "metadata": {},
          "output_type": "display_data"
        }
      ],
      "source": [
        "#Mengcopy dataset original\n",
        "data_new = data.copy()\n",
        "\n",
        "#Konversi kolom 'release date' ke tipe datetime\n",
        "data_new['release date'] = pd.to_datetime(data['release date'], format='%d/%m/%Y')\n",
        "\n",
        "# Ekstraksi tahun rilis\n",
        "data_new['release_year'] = data_new['release date'].dt.year\n",
        "\n",
        "# Hitung jumlah rilis per tahun\n",
        "release_counts = data_new['release_year'].value_counts().sort_index()\n",
        "\n",
        "print(release_counts)\n",
        "\n",
        "#Menampilkan dalam bentuk grafik\n",
        "plt.figure(figsize=(5, 3))\n",
        "sns.countplot(data=data, x=data_new['release_year'])\n",
        "plt.show()"
      ]
    },
    {
      "cell_type": "markdown",
      "metadata": {
        "id": "MdH-d1LUCxM3"
      },
      "source": [
        "Output kode di atas memberikan informasi :\n",
        "- Terdapat tiga kategori tahun\n",
        "- Tahun 2025 memiliki jumlah terbanyak dengan total 16\n",
        "- Tahun 2018 memiliki jumlah tersedikit dengan total 1"
      ]
    },
    {
      "cell_type": "markdown",
      "metadata": {
        "id": "XFvdd-Ax4tmg"
      },
      "source": [
        "**Rating**"
      ]
    },
    {
      "cell_type": "markdown",
      "metadata": {
        "id": "OerLB12cDQya"
      },
      "source": [
        "Mencari tahu masing-masing user melakukan review berapa kali dan mencari tahu apakah ada user yang melakukan jumlah review berbeda dari user lainnya."
      ]
    },
    {
      "cell_type": "code",
      "execution_count": 28,
      "metadata": {
        "colab": {
          "base_uri": "https://localhost:8080/"
        },
        "id": "rJC9M2aX_AmW",
        "outputId": "982f16ab-6ddc-4db5-8175-32a143156f11"
      },
      "outputs": [
        {
          "name": "stdout",
          "output_type": "stream",
          "text": [
            "user_id\n",
            "0      10\n",
            "226    10\n",
            "211    10\n",
            "208    10\n",
            "204    10\n",
            "       ..\n",
            "95     10\n",
            "91     10\n",
            "85     10\n",
            "84     10\n",
            "258    10\n",
            "Name: count, Length: 99, dtype: int64\n",
            "\n",
            " [10]\n"
          ]
        }
      ],
      "source": [
        "#Menghitung masing-masing user melakukan review berapa kali\n",
        "user_review_counts = rating['user_id'].value_counts()\n",
        "print(user_review_counts)\n",
        "\n",
        "#Mencari nilai unik untuk mencari tahu apakah ada user yang memiliki nilai berbeda\n",
        "print(\"\\n\",user_review_counts.unique())"
      ]
    },
    {
      "cell_type": "markdown",
      "metadata": {
        "id": "MRUDovQyDmJe"
      },
      "source": [
        "Output kode di atas memberikan informasi :\n",
        "- Masing-masing user melakukan review sebanyak sepuluh kali\n",
        "- Semua user memiliki jumlah review yang sama yaitu sepuluh"
      ]
    },
    {
      "cell_type": "markdown",
      "metadata": {
        "id": "gBqJz64WEPxJ"
      },
      "source": [
        "Menghitung jumlah kemunculan cellphone yang diriview."
      ]
    },
    {
      "cell_type": "code",
      "execution_count": 29,
      "metadata": {
        "colab": {
          "base_uri": "https://localhost:8080/",
          "height": 1000
        },
        "id": "1NzlwdeK_qqM",
        "outputId": "6b6c4c2d-b2b2-46ba-dc3b-42c202c8c7e1"
      },
      "outputs": [
        {
          "name": "stdout",
          "output_type": "stream",
          "text": [
            "\n",
            "Jumlah kemunculan per cellphone_id:\n",
            " cellphone_id\n",
            "0     20\n",
            "1     24\n",
            "2     27\n",
            "3     29\n",
            "4     34\n",
            "5     31\n",
            "6     30\n",
            "7     29\n",
            "8     39\n",
            "9     29\n",
            "10    27\n",
            "11    22\n",
            "12    32\n",
            "13    32\n",
            "14    27\n",
            "15    38\n",
            "16    31\n",
            "17    30\n",
            "18    31\n",
            "19    31\n",
            "20    30\n",
            "21    20\n",
            "22    30\n",
            "23    24\n",
            "24    35\n",
            "25    38\n",
            "26    28\n",
            "27    34\n",
            "28    26\n",
            "29    25\n",
            "30    41\n",
            "31    31\n",
            "32    35\n",
            "Name: count, dtype: int64\n",
            "\n",
            "Minimum: 20\n",
            "Maximum: 41\n"
          ]
        },
        {
          "data": {
            "image/png": "[encoded data removed]",
            "text/plain": [
              "<Figure size 1500x300 with 1 Axes>"
            ]
          },
          "metadata": {},
          "output_type": "display_data"
        }
      ],
      "source": [
        "#Menghitung cellphone dengan id X muncul berapa kali\n",
        "cellphone_review_counts = rating['cellphone_id'].value_counts()\n",
        "print(\"\\nJumlah kemunculan per cellphone_id:\\n\", cellphone_review_counts.sort_index())\n",
        "\n",
        "#Menghitung nilai minimum dan maximum\n",
        "print(\"\\nMinimum:\", cellphone_review_counts.min())\n",
        "print(\"Maximum:\", cellphone_review_counts.max())\n",
        "\n",
        "#Menampilkan grafik\n",
        "plt.figure(figsize=(15, 3))\n",
        "sns.countplot(data=rating, x=rating['cellphone_id'])\n",
        "plt.show()"
      ]
    },
    {
      "cell_type": "markdown",
      "metadata": {
        "id": "r2dedarmEcTo"
      },
      "source": [
        "Output kode di atas memberikan informasi :\n",
        "- Cellphone paling banyak direview sebanyak 41 kali\n",
        "- Cellphone paling sedikit direview sebanyak 20 kali"
      ]
    },
    {
      "cell_type": "markdown",
      "metadata": {
        "id": "xoJ_zgizFIar"
      },
      "source": [
        "Menghitung jumlah rating."
      ]
    },
    {
      "cell_type": "code",
      "execution_count": 30,
      "metadata": {
        "colab": {
          "base_uri": "https://localhost:8080/",
          "height": 571
        },
        "id": "OGDXWqMm_0SG",
        "outputId": "448fc04b-f12c-4c56-c605-e97fbcf83e79"
      },
      "outputs": [
        {
          "name": "stdout",
          "output_type": "stream",
          "text": [
            "\n",
            "Jumlah kemunculan per rating:\n",
            " rating\n",
            "1      74\n",
            "2      44\n",
            "3      30\n",
            "4      39\n",
            "5      68\n",
            "6     112\n",
            "7     169\n",
            "8     195\n",
            "9     128\n",
            "10    130\n",
            "18      1\n",
            "Name: count, dtype: int64\n"
          ]
        },
        {
          "data": {
            "image/png": "[encoded data removed]",
            "text/plain": [
              "<Figure size 500x300 with 1 Axes>"
            ]
          },
          "metadata": {},
          "output_type": "display_data"
        }
      ],
      "source": [
        "#Menghitung rating X muncul berapa kali\n",
        "rating_counts = rating['rating'].value_counts()\n",
        "print(\"\\nJumlah kemunculan per rating:\\n\", rating_counts.sort_index())\n",
        "\n",
        "#Menampilkan grafik\n",
        "plt.figure(figsize=(5, 3))\n",
        "sns.countplot(data=rating, x=rating['rating'])\n",
        "plt.show()"
      ]
    },
    {
      "cell_type": "markdown",
      "metadata": {
        "id": "TV_hL5y8FNaL"
      },
      "source": [
        "Output kode di atas memberikan informasi :\n",
        "- Rating memiliki skala 0 - 10\n",
        "- Rating terbanyak dengan nilai 8\n",
        "- Rating tersedikit dengan nilai 3\n",
        "- Terdapat outliers yaitu rating dengan nilai 18"
      ]
    },
    {
      "cell_type": "markdown",
      "metadata": {
        "id": "bbui64o44vbm"
      },
      "source": [
        "**User**"
      ]
    },
    {
      "cell_type": "code",
      "execution_count": 31,
      "metadata": {
        "colab": {
          "base_uri": "https://localhost:8080/",
          "height": 901
        },
        "id": "R1qo7pbcApuM",
        "outputId": "60a87326-e29f-48ff-d573-52f51a098729"
      },
      "outputs": [
        {
          "name": "stdout",
          "output_type": "stream",
          "text": [
            "\n",
            "Jumlah kemunculan age:\n",
            " age\n",
            "21     1\n",
            "23     1\n",
            "25    12\n",
            "27     3\n",
            "28     3\n",
            "29     5\n",
            "30     6\n",
            "31     4\n",
            "32    10\n",
            "33     5\n",
            "34     3\n",
            "35     3\n",
            "36     1\n",
            "37     4\n",
            "38     5\n",
            "39     3\n",
            "40     2\n",
            "41     2\n",
            "42     4\n",
            "43     1\n",
            "45     1\n",
            "46     3\n",
            "48     2\n",
            "49     2\n",
            "50     5\n",
            "55     1\n",
            "56     2\n",
            "57     1\n",
            "58     2\n",
            "61     2\n",
            "Name: count, dtype: int64\n"
          ]
        },
        {
          "data": {
            "image/png": "[encoded data removed]",
            "text/plain": [
              "<Figure size 1000x300 with 1 Axes>"
            ]
          },
          "metadata": {},
          "output_type": "display_data"
        }
      ],
      "source": [
        "#Menghitung age X muncul berapa kali\n",
        "age_counts = users['age'].value_counts()\n",
        "print(\"\\nJumlah kemunculan age:\\n\", age_counts.sort_index())\n",
        "\n",
        "#Menampilkan grafik\n",
        "plt.figure(figsize=(10, 3))\n",
        "sns.countplot(data=users, x=users['age'])\n",
        "plt.show()"
      ]
    },
    {
      "cell_type": "markdown",
      "metadata": {
        "id": "XSGrnWoZFmF_"
      },
      "source": [
        "Output kode di atas memberikan informasi :\n",
        "- Usia paling tua dari user adalah 61\n",
        "- Usia paling muda dari user adalah 21\n",
        "- User dengan usia 25 memiliki jumlah paling banyak yaitu 12"
      ]
    },
    {
      "cell_type": "markdown",
      "metadata": {
        "id": "4ddjhf29F3gn"
      },
      "source": [
        "Menghitung jumlah masing-masing kategori gender."
      ]
    },
    {
      "cell_type": "code",
      "execution_count": 32,
      "metadata": {
        "colab": {
          "base_uri": "https://localhost:8080/",
          "height": 433
        },
        "id": "UNlOO_WfA7sL",
        "outputId": "323f5274-1933-4204-ff92-30eb0de3c0ec"
      },
      "outputs": [
        {
          "name": "stdout",
          "output_type": "stream",
          "text": [
            "\n",
            "Jumlah kemunculan gender:\n",
            " gender\n",
            "-Select Gender-     3\n",
            "Female             46\n",
            "Male               50\n",
            "Name: count, dtype: int64\n"
          ]
        },
        {
          "data": {
            "image/png": "[encoded data removed]",
            "text/plain": [
              "<Figure size 500x300 with 1 Axes>"
            ]
          },
          "metadata": {},
          "output_type": "display_data"
        }
      ],
      "source": [
        "#Menghitung gender X muncul berapa kali\n",
        "users_counts = users['gender'].value_counts()\n",
        "print(\"\\nJumlah kemunculan gender:\\n\", users_counts.sort_index())\n",
        "\n",
        "#Menampilkan grafik\n",
        "plt.figure(figsize=(5, 3))\n",
        "sns.countplot(data=users, x=users['gender'])\n",
        "plt.show()"
      ]
    },
    {
      "cell_type": "markdown",
      "metadata": {
        "id": "afbbkNhJF6VH"
      },
      "source": [
        "Output kode di atas memberikan informasi :\n",
        "- Gender female memiliki jumlah 46\n",
        "- Gender male memiliki jumlah 50\n",
        "- Terdapat outliers yaitu `-Select Gender-`"
      ]
    },
    {
      "cell_type": "markdown",
      "metadata": {
        "id": "6MNDIWm9GImV"
      },
      "source": [
        "Menghitung jumlah occupation X muncul berapa kali."
      ]
    },
    {
      "cell_type": "code",
      "execution_count": 33,
      "metadata": {
        "colab": {
          "base_uri": "https://localhost:8080/"
        },
        "id": "umK8ZIJuBCGk",
        "outputId": "96da44d1-f2c0-48df-cb93-cf9ba4d01bbd"
      },
      "outputs": [
        {
          "name": "stdout",
          "output_type": "stream",
          "text": [
            "Jumlah occupation:  45\n",
            "\n",
            "Jumlah kemunculan occupation:\n",
            " occupation\n",
            "accountant                           2\n",
            "administrative officer               5\n",
            "administrator                        1\n",
            "banking                              1\n",
            "business                             1\n",
            "computer technician                  1\n",
            "construction                         2\n",
            "data analyst                         2\n",
            "education                            2\n",
            "executive                            1\n",
            "executive manager                    1\n",
            "finance                              2\n",
            "healthare                            1\n",
            "healthcare                           2\n",
            "homemaker                            1\n",
            "ict officer                          1\n",
            "information                          1\n",
            "information technology              12\n",
            "it                                   6\n",
            "manager                             18\n",
            "marketing                            1\n",
            "master degree                        1\n",
            "nurse                                1\n",
            "ops manager                          1\n",
            "president transportation company     1\n",
            "purchase manager                     1\n",
            "qa software manager                  1\n",
            "registered                           1\n",
            "retail                               1\n",
            "sales                                3\n",
            "sales manager                        2\n",
            "security                             3\n",
            "self employed                        1\n",
            "software developer                   4\n",
            "system administrator                 1\n",
            "teacher                              1\n",
            "team leader                          2\n",
            "team worker in it                    1\n",
            "technical engineer                   1\n",
            "technician                           1\n",
            "transportation                       1\n",
            "warehousing                          1\n",
            "web design                           1\n",
            "worker                               2\n",
            "writer                               1\n",
            "Name: count, dtype: int64\n"
          ]
        }
      ],
      "source": [
        "#Menghitung occupation X muncul berapa kali\n",
        "occupation_counts = users['occupation'].str.lower().value_counts()\n",
        "print('Jumlah occupation: ',len(occupation_counts))\n",
        "print(\"\\nJumlah kemunculan occupation:\\n\", occupation_counts.sort_index())"
      ]
    },
    {
      "cell_type": "markdown",
      "metadata": {
        "id": "gIjyX7NLGjxa"
      },
      "source": [
        "Output kode di atas memberikan informasi :\n",
        "- Terdapat 45 jenis pekerjaan\n",
        "- Terdapat kesalahan penulisan pada `healthare`\n",
        "- Pekerjaan `information technology` dan `it` dapat dijadikan satu"
      ]
    },
    {
      "cell_type": "markdown",
      "metadata": {},
      "source": [
        "####"
      ]
    },
    {
      "cell_type": "markdown",
      "metadata": {
        "id": "hgz8GGGEvAvF"
      },
      "source": [
        "## Data Preprocessing"
      ]
    },
    {
      "cell_type": "markdown",
      "metadata": {
        "id": "BMn8YlOlH1Dl"
      },
      "source": [
        "Menggabungkan dataset data, rating, dan users menjadi satu."
      ]
    },
    {
      "cell_type": "code",
      "execution_count": 34,
      "metadata": {
        "colab": {
          "base_uri": "https://localhost:8080/",
          "height": 206
        },
        "id": "01B-lfm_QTwn",
        "outputId": "85e13a61-8895-4cb8-d791-dbe01ab2cd60"
      },
      "outputs": [
        {
          "data": {
            "text/html": [
              "<div>\n",
              "<style scoped>\n",
              "    .dataframe tbody tr th:only-of-type {\n",
              "        vertical-align: middle;\n",
              "    }\n",
              "\n",
              "    .dataframe tbody tr th {\n",
              "        vertical-align: top;\n",
              "    }\n",
              "\n",
              "    .dataframe thead th {\n",
              "        text-align: right;\n",
              "    }\n",
              "</style>\n",
              "<table border=\"1\" class=\"dataframe\">\n",
              "  <thead>\n",
              "    <tr style=\"text-align: right;\">\n",
              "      <th></th>\n",
              "      <th>user_id</th>\n",
              "      <th>cellphone_id</th>\n",
              "      <th>rating</th>\n",
              "      <th>brand</th>\n",
              "      <th>model</th>\n",
              "      <th>operating system</th>\n",
              "      <th>internal memory</th>\n",
              "      <th>RAM</th>\n",
              "      <th>performance</th>\n",
              "      <th>main camera</th>\n",
              "      <th>selfie camera</th>\n",
              "      <th>battery size</th>\n",
              "      <th>screen size</th>\n",
              "      <th>weight</th>\n",
              "      <th>price</th>\n",
              "      <th>release date</th>\n",
              "      <th>age</th>\n",
              "      <th>gender</th>\n",
              "      <th>occupation</th>\n",
              "    </tr>\n",
              "  </thead>\n",
              "  <tbody>\n",
              "    <tr>\n",
              "      <th>0</th>\n",
              "      <td>0</td>\n",
              "      <td>30</td>\n",
              "      <td>1</td>\n",
              "      <td>Motorola</td>\n",
              "      <td>Moto G Play (2025)</td>\n",
              "      <td>Android</td>\n",
              "      <td>32</td>\n",
              "      <td>3</td>\n",
              "      <td>1.42</td>\n",
              "      <td>13</td>\n",
              "      <td>5</td>\n",
              "      <td>5000</td>\n",
              "      <td>6.5</td>\n",
              "      <td>204</td>\n",
              "      <td>159</td>\n",
              "      <td>14/01/2025</td>\n",
              "      <td>38</td>\n",
              "      <td>Female</td>\n",
              "      <td>Data analyst</td>\n",
              "    </tr>\n",
              "    <tr>\n",
              "      <th>1</th>\n",
              "      <td>0</td>\n",
              "      <td>5</td>\n",
              "      <td>3</td>\n",
              "      <td>Apple</td>\n",
              "      <td>iPhone XR</td>\n",
              "      <td>iOS</td>\n",
              "      <td>64</td>\n",
              "      <td>3</td>\n",
              "      <td>4.22</td>\n",
              "      <td>12</td>\n",
              "      <td>7</td>\n",
              "      <td>2942</td>\n",
              "      <td>6.1</td>\n",
              "      <td>194</td>\n",
              "      <td>236</td>\n",
              "      <td>26/10/2018</td>\n",
              "      <td>38</td>\n",
              "      <td>Female</td>\n",
              "      <td>Data analyst</td>\n",
              "    </tr>\n",
              "    <tr>\n",
              "      <th>2</th>\n",
              "      <td>0</td>\n",
              "      <td>10</td>\n",
              "      <td>9</td>\n",
              "      <td>Samsung</td>\n",
              "      <td>Galaxy S22</td>\n",
              "      <td>Android</td>\n",
              "      <td>128</td>\n",
              "      <td>8</td>\n",
              "      <td>8.81</td>\n",
              "      <td>50</td>\n",
              "      <td>10</td>\n",
              "      <td>3700</td>\n",
              "      <td>6.1</td>\n",
              "      <td>167</td>\n",
              "      <td>528</td>\n",
              "      <td>25/02/2025</td>\n",
              "      <td>38</td>\n",
              "      <td>Female</td>\n",
              "      <td>Data analyst</td>\n",
              "    </tr>\n",
              "    <tr>\n",
              "      <th>3</th>\n",
              "      <td>0</td>\n",
              "      <td>9</td>\n",
              "      <td>3</td>\n",
              "      <td>Samsung</td>\n",
              "      <td>Galaxy A53</td>\n",
              "      <td>Android</td>\n",
              "      <td>128</td>\n",
              "      <td>6</td>\n",
              "      <td>3.79</td>\n",
              "      <td>64</td>\n",
              "      <td>32</td>\n",
              "      <td>5000</td>\n",
              "      <td>6.5</td>\n",
              "      <td>189</td>\n",
              "      <td>312</td>\n",
              "      <td>24/03/2025</td>\n",
              "      <td>38</td>\n",
              "      <td>Female</td>\n",
              "      <td>Data analyst</td>\n",
              "    </tr>\n",
              "    <tr>\n",
              "      <th>4</th>\n",
              "      <td>0</td>\n",
              "      <td>23</td>\n",
              "      <td>2</td>\n",
              "      <td>Vivo</td>\n",
              "      <td>X80 Pro</td>\n",
              "      <td>Android</td>\n",
              "      <td>256</td>\n",
              "      <td>8</td>\n",
              "      <td>9.81</td>\n",
              "      <td>50</td>\n",
              "      <td>32</td>\n",
              "      <td>4700</td>\n",
              "      <td>6.7</td>\n",
              "      <td>215</td>\n",
              "      <td>872</td>\n",
              "      <td>29/04/2025</td>\n",
              "      <td>38</td>\n",
              "      <td>Female</td>\n",
              "      <td>Data analyst</td>\n",
              "    </tr>\n",
              "  </tbody>\n",
              "</table>\n",
              "</div>"
            ],
            "text/plain": [
              "   user_id  cellphone_id  rating     brand               model  \\\n",
              "0        0            30       1  Motorola  Moto G Play (2025)   \n",
              "1        0             5       3     Apple           iPhone XR   \n",
              "2        0            10       9   Samsung          Galaxy S22   \n",
              "3        0             9       3   Samsung          Galaxy A53   \n",
              "4        0            23       2      Vivo             X80 Pro   \n",
              "\n",
              "  operating system  internal memory  RAM  performance  main camera  \\\n",
              "0          Android               32    3         1.42           13   \n",
              "1              iOS               64    3         4.22           12   \n",
              "2          Android              128    8         8.81           50   \n",
              "3          Android              128    6         3.79           64   \n",
              "4          Android              256    8         9.81           50   \n",
              "\n",
              "   selfie camera  battery size  screen size  weight  price release date  age  \\\n",
              "0              5          5000          6.5     204    159   14/01/2025   38   \n",
              "1              7          2942          6.1     194    236   26/10/2018   38   \n",
              "2             10          3700          6.1     167    528   25/02/2025   38   \n",
              "3             32          5000          6.5     189    312   24/03/2025   38   \n",
              "4             32          4700          6.7     215    872   29/04/2025   38   \n",
              "\n",
              "   gender    occupation  \n",
              "0  Female  Data analyst  \n",
              "1  Female  Data analyst  \n",
              "2  Female  Data analyst  \n",
              "3  Female  Data analyst  \n",
              "4  Female  Data analyst  "
            ]
          },
          "execution_count": 34,
          "metadata": {},
          "output_type": "execute_result"
        }
      ],
      "source": [
        "#Gabungkan cellphones_ratings dengan cellphones_data\n",
        "ratings_data = pd.merge(rating, data, on='cellphone_id')\n",
        "\n",
        "#Gabungkan hasil dengan cellphones_users\n",
        "merged_data = pd.merge(ratings_data, users, on='user_id')\n",
        "\n",
        "#Menampilkan dataset hasil merged\n",
        "merged_data.head()"
      ]
    },
    {
      "cell_type": "markdown",
      "metadata": {
        "id": "QUDtSDYsIXFv"
      },
      "source": [
        "Melakukan cek missing value."
      ]
    },
    {
      "cell_type": "code",
      "execution_count": 35,
      "metadata": {
        "colab": {
          "base_uri": "https://localhost:8080/"
        },
        "id": "iiGjwZVdQi_1",
        "outputId": "2187b07c-7900-4249-8fc6-c9dff055121b"
      },
      "outputs": [
        {
          "data": {
            "text/plain": [
              "user_id              0\n",
              "cellphone_id         0\n",
              "rating               0\n",
              "brand                0\n",
              "model                0\n",
              "operating system     0\n",
              "internal memory      0\n",
              "RAM                  0\n",
              "performance          0\n",
              "main camera          0\n",
              "selfie camera        0\n",
              "battery size         0\n",
              "screen size          0\n",
              "weight               0\n",
              "price                0\n",
              "release date         0\n",
              "age                  0\n",
              "gender               0\n",
              "occupation          10\n",
              "dtype: int64"
            ]
          },
          "execution_count": 35,
          "metadata": {},
          "output_type": "execute_result"
        }
      ],
      "source": [
        "#Cek missing value\n",
        "merged_data.isnull().sum()"
      ]
    },
    {
      "cell_type": "markdown",
      "metadata": {
        "id": "KhiZWc-RIhZA"
      },
      "source": [
        "Output kode di atas memberikan informasi :\n",
        "- Terdapat 10 missing value pada occupation"
      ]
    },
    {
      "cell_type": "markdown",
      "metadata": {
        "id": "rQvJWHsXInAD"
      },
      "source": [
        "Menampilkan isi dari baris yang memiliki missing value."
      ]
    },
    {
      "cell_type": "code",
      "execution_count": 36,
      "metadata": {
        "colab": {
          "base_uri": "https://localhost:8080/"
        },
        "id": "M4ZJYUZFRNcE",
        "outputId": "32876a62-96b0-487d-b621-2ac078b58806"
      },
      "outputs": [
        {
          "name": "stdout",
          "output_type": "stream",
          "text": [
            "     user_id  cellphone_id  rating     brand                 model  \\\n",
            "210       53            32       9  Motorola   Moto G Power (2025)   \n",
            "211       53             5       8     Apple             iPhone XR   \n",
            "212       53            15      10    Google             Pixel 6     \n",
            "213       53             4       9     Apple     iPhone 13 Pro Max   \n",
            "214       53            26       9    Xiaomi                12 Pro   \n",
            "215       53             9       8   Samsung            Galaxy A53   \n",
            "216       53             7       8   Samsung            Galaxy A13   \n",
            "217       53            29       8  Motorola  Moto G Stylus (2025)   \n",
            "218       53            25       9    Xiaomi               11T Pro   \n",
            "219       53            17       8    Google          Pixel 6 Pro    \n",
            "\n",
            "    operating system  internal memory  RAM  performance  main camera  \\\n",
            "210          Android               64    4         1.35           50   \n",
            "211              iOS               64    3         4.22           12   \n",
            "212          Android              128    8         6.76           50   \n",
            "213              iOS              256    6         8.01           12   \n",
            "214          Android              128    8         9.85           50   \n",
            "215          Android              128    6         3.79           64   \n",
            "216          Android               32    3         1.36           50   \n",
            "217          Android              128    6         2.30           50   \n",
            "218          Android              256    8         7.59          108   \n",
            "219          Android              128   12         7.19           50   \n",
            "\n",
            "     selfie camera  battery size  screen size  weight  price release date  \\\n",
            "210              8          5000          6.5     203    189   22/02/2025   \n",
            "211              7          2942          6.1     194    236   26/10/2018   \n",
            "212              8          4614          6.4     207    499   28/10/2025   \n",
            "213             12          4352          6.7     240   1199   24/09/2025   \n",
            "214             32          4600          6.7     204    618   31/12/2025   \n",
            "215             32          5000          6.5     189    312   24/03/2025   \n",
            "216              8          5000          6.6     196    154   23/03/2025   \n",
            "217             16          5000          6.8     215    500   27/04/2025   \n",
            "218             16          5000          6.6     204    435   05/10/2025   \n",
            "219             11          5003          6.7     210    699   28/10/2025   \n",
            "\n",
            "     age           gender occupation  \n",
            "210   38  -Select Gender-        NaN  \n",
            "211   38  -Select Gender-        NaN  \n",
            "212   38  -Select Gender-        NaN  \n",
            "213   38  -Select Gender-        NaN  \n",
            "214   38  -Select Gender-        NaN  \n",
            "215   38  -Select Gender-        NaN  \n",
            "216   38  -Select Gender-        NaN  \n",
            "217   38  -Select Gender-        NaN  \n",
            "218   38  -Select Gender-        NaN  \n",
            "219   38  -Select Gender-        NaN  \n"
          ]
        }
      ],
      "source": [
        "#Menampilkan baris yang memiliki nilai null\n",
        "rows_with_null = merged_data[merged_data.isnull().any(axis=1)]\n",
        "print(rows_with_null)"
      ]
    },
    {
      "cell_type": "markdown",
      "metadata": {
        "id": "7AsIx8lPIqjF"
      },
      "source": [
        "Output kode di atas memberikan informasi :\n",
        "- Seperti yang ditemukan saat univariate analysis bahwa terdapat outlier pada kolom gender yaitu `-Select Gender-` yang ternyata berhubungan dengan nilai occupation NaN\n",
        "- Akan dilakukan drop"
      ]
    },
    {
      "cell_type": "markdown",
      "metadata": {},
      "source": [
        "####"
      ]
    },
    {
      "cell_type": "markdown",
      "metadata": {
        "id": "ASfkz9y1JBYP"
      },
      "source": [
        "#### Drop missing value."
      ]
    },
    {
      "cell_type": "code",
      "execution_count": 37,
      "metadata": {
        "id": "Z6rcOFaAR22J"
      },
      "outputs": [],
      "source": [
        "#Menghapus missing value\n",
        "merged_data = merged_data.dropna()"
      ]
    },
    {
      "cell_type": "markdown",
      "metadata": {},
      "source": [
        "####\n"
      ]
    },
    {
      "cell_type": "markdown",
      "metadata": {
        "id": "vml-OzXYJKEO"
      },
      "source": [
        "Memastikan bahwa tidak terdapat missing value lagi."
      ]
    },
    {
      "cell_type": "code",
      "execution_count": 38,
      "metadata": {
        "colab": {
          "base_uri": "https://localhost:8080/"
        },
        "id": "eMrVDA4xR6Ls",
        "outputId": "d1ec2c01-3345-465f-c2e8-eab6a9973306"
      },
      "outputs": [
        {
          "data": {
            "text/plain": [
              "user_id             0\n",
              "cellphone_id        0\n",
              "rating              0\n",
              "brand               0\n",
              "model               0\n",
              "operating system    0\n",
              "internal memory     0\n",
              "RAM                 0\n",
              "performance         0\n",
              "main camera         0\n",
              "selfie camera       0\n",
              "battery size        0\n",
              "screen size         0\n",
              "weight              0\n",
              "price               0\n",
              "release date        0\n",
              "age                 0\n",
              "gender              0\n",
              "occupation          0\n",
              "dtype: int64"
            ]
          },
          "execution_count": 38,
          "metadata": {},
          "output_type": "execute_result"
        }
      ],
      "source": [
        "#Cek missing value\n",
        "merged_data.isnull().sum()"
      ]
    },
    {
      "cell_type": "markdown",
      "metadata": {
        "id": "9apohczBJT3_"
      },
      "source": [
        "Output kode di atas memberikan informasi :\n",
        "- Sudah tidak terdapat missing value."
      ]
    },
    {
      "cell_type": "markdown",
      "metadata": {
        "id": "sAryz6A0Jb9c"
      },
      "source": [
        "Berdasarkan univariate analysis terdapat outlier pada kolom rating, terdapat kesalahan tulis pada kolom occupation dan terdapat penyamaan nama pekerjaan pada kolom occupation."
      ]
    },
    {
      "cell_type": "code",
      "execution_count": 39,
      "metadata": {
        "id": "_wMVjYOLR-2Q"
      },
      "outputs": [],
      "source": [
        "#Drop rating 18\n",
        "merged_data = merged_data[merged_data['rating'] != 18]\n",
        "\n",
        "#Mengubah seluruh value occupation menjadi lowercase\n",
        "merged_data['occupation'] = merged_data['occupation'].str.lower()\n",
        "\n",
        "#Mengubah value 'healthare' pada kolom \"occupation\" menjadi 'healthcare'\n",
        "merged_data['occupation'] = merged_data['occupation'].replace('healthare', 'healthcare')\n",
        "\n",
        "#Mengubah value 'it' pada kolom \"occupation\" menjadi 'information technology'\n",
        "merged_data['occupation'] = merged_data['occupation'].replace('it', 'information technology')"
      ]
    },
    {
      "cell_type": "markdown",
      "metadata": {
        "id": "wGN-IXGQJ8j_"
      },
      "source": [
        "Menampilkan dataset yang sudah dibersihkan."
      ]
    },
    {
      "cell_type": "code",
      "execution_count": 40,
      "metadata": {
        "colab": {
          "base_uri": "https://localhost:8080/",
          "height": 424
        },
        "id": "yy8epggeToG1",
        "outputId": "d3f89255-490c-4ac7-c257-be698ffe23e9"
      },
      "outputs": [
        {
          "data": {
            "text/html": [
              "<div>\n",
              "<style scoped>\n",
              "    .dataframe tbody tr th:only-of-type {\n",
              "        vertical-align: middle;\n",
              "    }\n",
              "\n",
              "    .dataframe tbody tr th {\n",
              "        vertical-align: top;\n",
              "    }\n",
              "\n",
              "    .dataframe thead th {\n",
              "        text-align: right;\n",
              "    }\n",
              "</style>\n",
              "<table border=\"1\" class=\"dataframe\">\n",
              "  <thead>\n",
              "    <tr style=\"text-align: right;\">\n",
              "      <th></th>\n",
              "      <th>user_id</th>\n",
              "      <th>cellphone_id</th>\n",
              "      <th>rating</th>\n",
              "      <th>brand</th>\n",
              "      <th>model</th>\n",
              "      <th>operating system</th>\n",
              "      <th>internal memory</th>\n",
              "      <th>RAM</th>\n",
              "      <th>performance</th>\n",
              "      <th>main camera</th>\n",
              "      <th>selfie camera</th>\n",
              "      <th>battery size</th>\n",
              "      <th>screen size</th>\n",
              "      <th>weight</th>\n",
              "      <th>price</th>\n",
              "      <th>release date</th>\n",
              "      <th>age</th>\n",
              "      <th>gender</th>\n",
              "      <th>occupation</th>\n",
              "    </tr>\n",
              "  </thead>\n",
              "  <tbody>\n",
              "    <tr>\n",
              "      <th>0</th>\n",
              "      <td>0</td>\n",
              "      <td>30</td>\n",
              "      <td>1</td>\n",
              "      <td>Motorola</td>\n",
              "      <td>Moto G Play (2025)</td>\n",
              "      <td>Android</td>\n",
              "      <td>32</td>\n",
              "      <td>3</td>\n",
              "      <td>1.42</td>\n",
              "      <td>13</td>\n",
              "      <td>5</td>\n",
              "      <td>5000</td>\n",
              "      <td>6.5</td>\n",
              "      <td>204</td>\n",
              "      <td>159</td>\n",
              "      <td>14/01/2025</td>\n",
              "      <td>38</td>\n",
              "      <td>Female</td>\n",
              "      <td>data analyst</td>\n",
              "    </tr>\n",
              "    <tr>\n",
              "      <th>1</th>\n",
              "      <td>0</td>\n",
              "      <td>5</td>\n",
              "      <td>3</td>\n",
              "      <td>Apple</td>\n",
              "      <td>iPhone XR</td>\n",
              "      <td>iOS</td>\n",
              "      <td>64</td>\n",
              "      <td>3</td>\n",
              "      <td>4.22</td>\n",
              "      <td>12</td>\n",
              "      <td>7</td>\n",
              "      <td>2942</td>\n",
              "      <td>6.1</td>\n",
              "      <td>194</td>\n",
              "      <td>236</td>\n",
              "      <td>26/10/2018</td>\n",
              "      <td>38</td>\n",
              "      <td>Female</td>\n",
              "      <td>data analyst</td>\n",
              "    </tr>\n",
              "    <tr>\n",
              "      <th>2</th>\n",
              "      <td>0</td>\n",
              "      <td>10</td>\n",
              "      <td>9</td>\n",
              "      <td>Samsung</td>\n",
              "      <td>Galaxy S22</td>\n",
              "      <td>Android</td>\n",
              "      <td>128</td>\n",
              "      <td>8</td>\n",
              "      <td>8.81</td>\n",
              "      <td>50</td>\n",
              "      <td>10</td>\n",
              "      <td>3700</td>\n",
              "      <td>6.1</td>\n",
              "      <td>167</td>\n",
              "      <td>528</td>\n",
              "      <td>25/02/2025</td>\n",
              "      <td>38</td>\n",
              "      <td>Female</td>\n",
              "      <td>data analyst</td>\n",
              "    </tr>\n",
              "    <tr>\n",
              "      <th>3</th>\n",
              "      <td>0</td>\n",
              "      <td>9</td>\n",
              "      <td>3</td>\n",
              "      <td>Samsung</td>\n",
              "      <td>Galaxy A53</td>\n",
              "      <td>Android</td>\n",
              "      <td>128</td>\n",
              "      <td>6</td>\n",
              "      <td>3.79</td>\n",
              "      <td>64</td>\n",
              "      <td>32</td>\n",
              "      <td>5000</td>\n",
              "      <td>6.5</td>\n",
              "      <td>189</td>\n",
              "      <td>312</td>\n",
              "      <td>24/03/2025</td>\n",
              "      <td>38</td>\n",
              "      <td>Female</td>\n",
              "      <td>data analyst</td>\n",
              "    </tr>\n",
              "    <tr>\n",
              "      <th>4</th>\n",
              "      <td>0</td>\n",
              "      <td>23</td>\n",
              "      <td>2</td>\n",
              "      <td>Vivo</td>\n",
              "      <td>X80 Pro</td>\n",
              "      <td>Android</td>\n",
              "      <td>256</td>\n",
              "      <td>8</td>\n",
              "      <td>9.81</td>\n",
              "      <td>50</td>\n",
              "      <td>32</td>\n",
              "      <td>4700</td>\n",
              "      <td>6.7</td>\n",
              "      <td>215</td>\n",
              "      <td>872</td>\n",
              "      <td>29/04/2025</td>\n",
              "      <td>38</td>\n",
              "      <td>Female</td>\n",
              "      <td>data analyst</td>\n",
              "    </tr>\n",
              "    <tr>\n",
              "      <th>...</th>\n",
              "      <td>...</td>\n",
              "      <td>...</td>\n",
              "      <td>...</td>\n",
              "      <td>...</td>\n",
              "      <td>...</td>\n",
              "      <td>...</td>\n",
              "      <td>...</td>\n",
              "      <td>...</td>\n",
              "      <td>...</td>\n",
              "      <td>...</td>\n",
              "      <td>...</td>\n",
              "      <td>...</td>\n",
              "      <td>...</td>\n",
              "      <td>...</td>\n",
              "      <td>...</td>\n",
              "      <td>...</td>\n",
              "      <td>...</td>\n",
              "      <td>...</td>\n",
              "      <td>...</td>\n",
              "    </tr>\n",
              "    <tr>\n",
              "      <th>985</th>\n",
              "      <td>258</td>\n",
              "      <td>31</td>\n",
              "      <td>5</td>\n",
              "      <td>Motorola</td>\n",
              "      <td>Moto G Pure</td>\n",
              "      <td>Android</td>\n",
              "      <td>32</td>\n",
              "      <td>3</td>\n",
              "      <td>1.02</td>\n",
              "      <td>13</td>\n",
              "      <td>5</td>\n",
              "      <td>4000</td>\n",
              "      <td>6.5</td>\n",
              "      <td>188</td>\n",
              "      <td>129</td>\n",
              "      <td>14/10/2025</td>\n",
              "      <td>25</td>\n",
              "      <td>Male</td>\n",
              "      <td>executive manager</td>\n",
              "    </tr>\n",
              "    <tr>\n",
              "      <th>986</th>\n",
              "      <td>258</td>\n",
              "      <td>17</td>\n",
              "      <td>8</td>\n",
              "      <td>Google</td>\n",
              "      <td>Pixel 6 Pro</td>\n",
              "      <td>Android</td>\n",
              "      <td>128</td>\n",
              "      <td>12</td>\n",
              "      <td>7.19</td>\n",
              "      <td>50</td>\n",
              "      <td>11</td>\n",
              "      <td>5003</td>\n",
              "      <td>6.7</td>\n",
              "      <td>210</td>\n",
              "      <td>699</td>\n",
              "      <td>28/10/2025</td>\n",
              "      <td>25</td>\n",
              "      <td>Male</td>\n",
              "      <td>executive manager</td>\n",
              "    </tr>\n",
              "    <tr>\n",
              "      <th>987</th>\n",
              "      <td>258</td>\n",
              "      <td>23</td>\n",
              "      <td>9</td>\n",
              "      <td>Vivo</td>\n",
              "      <td>X80 Pro</td>\n",
              "      <td>Android</td>\n",
              "      <td>256</td>\n",
              "      <td>8</td>\n",
              "      <td>9.81</td>\n",
              "      <td>50</td>\n",
              "      <td>32</td>\n",
              "      <td>4700</td>\n",
              "      <td>6.7</td>\n",
              "      <td>215</td>\n",
              "      <td>872</td>\n",
              "      <td>29/04/2025</td>\n",
              "      <td>25</td>\n",
              "      <td>Male</td>\n",
              "      <td>executive manager</td>\n",
              "    </tr>\n",
              "    <tr>\n",
              "      <th>988</th>\n",
              "      <td>258</td>\n",
              "      <td>27</td>\n",
              "      <td>8</td>\n",
              "      <td>Xiaomi</td>\n",
              "      <td>Poco F4</td>\n",
              "      <td>Android</td>\n",
              "      <td>128</td>\n",
              "      <td>8</td>\n",
              "      <td>6.98</td>\n",
              "      <td>64</td>\n",
              "      <td>20</td>\n",
              "      <td>4500</td>\n",
              "      <td>6.6</td>\n",
              "      <td>195</td>\n",
              "      <td>428</td>\n",
              "      <td>27/07/2025</td>\n",
              "      <td>25</td>\n",
              "      <td>Male</td>\n",
              "      <td>executive manager</td>\n",
              "    </tr>\n",
              "    <tr>\n",
              "      <th>989</th>\n",
              "      <td>258</td>\n",
              "      <td>24</td>\n",
              "      <td>6</td>\n",
              "      <td>Xiaomi</td>\n",
              "      <td>Redmi Note 11</td>\n",
              "      <td>Android</td>\n",
              "      <td>128</td>\n",
              "      <td>4</td>\n",
              "      <td>2.44</td>\n",
              "      <td>50</td>\n",
              "      <td>13</td>\n",
              "      <td>5000</td>\n",
              "      <td>6.4</td>\n",
              "      <td>179</td>\n",
              "      <td>174</td>\n",
              "      <td>09/02/2025</td>\n",
              "      <td>25</td>\n",
              "      <td>Male</td>\n",
              "      <td>executive manager</td>\n",
              "    </tr>\n",
              "  </tbody>\n",
              "</table>\n",
              "<p>979 rows × 19 columns</p>\n",
              "</div>"
            ],
            "text/plain": [
              "     user_id  cellphone_id  rating     brand               model  \\\n",
              "0          0            30       1  Motorola  Moto G Play (2025)   \n",
              "1          0             5       3     Apple           iPhone XR   \n",
              "2          0            10       9   Samsung          Galaxy S22   \n",
              "3          0             9       3   Samsung          Galaxy A53   \n",
              "4          0            23       2      Vivo             X80 Pro   \n",
              "..       ...           ...     ...       ...                 ...   \n",
              "985      258            31       5  Motorola         Moto G Pure   \n",
              "986      258            17       8    Google        Pixel 6 Pro    \n",
              "987      258            23       9      Vivo             X80 Pro   \n",
              "988      258            27       8    Xiaomi             Poco F4   \n",
              "989      258            24       6    Xiaomi       Redmi Note 11   \n",
              "\n",
              "    operating system  internal memory  RAM  performance  main camera  \\\n",
              "0            Android               32    3         1.42           13   \n",
              "1                iOS               64    3         4.22           12   \n",
              "2            Android              128    8         8.81           50   \n",
              "3            Android              128    6         3.79           64   \n",
              "4            Android              256    8         9.81           50   \n",
              "..               ...              ...  ...          ...          ...   \n",
              "985          Android               32    3         1.02           13   \n",
              "986          Android              128   12         7.19           50   \n",
              "987          Android              256    8         9.81           50   \n",
              "988          Android              128    8         6.98           64   \n",
              "989          Android              128    4         2.44           50   \n",
              "\n",
              "     selfie camera  battery size  screen size  weight  price release date  \\\n",
              "0                5          5000          6.5     204    159   14/01/2025   \n",
              "1                7          2942          6.1     194    236   26/10/2018   \n",
              "2               10          3700          6.1     167    528   25/02/2025   \n",
              "3               32          5000          6.5     189    312   24/03/2025   \n",
              "4               32          4700          6.7     215    872   29/04/2025   \n",
              "..             ...           ...          ...     ...    ...          ...   \n",
              "985              5          4000          6.5     188    129   14/10/2025   \n",
              "986             11          5003          6.7     210    699   28/10/2025   \n",
              "987             32          4700          6.7     215    872   29/04/2025   \n",
              "988             20          4500          6.6     195    428   27/07/2025   \n",
              "989             13          5000          6.4     179    174   09/02/2025   \n",
              "\n",
              "     age  gender         occupation  \n",
              "0     38  Female       data analyst  \n",
              "1     38  Female       data analyst  \n",
              "2     38  Female       data analyst  \n",
              "3     38  Female       data analyst  \n",
              "4     38  Female       data analyst  \n",
              "..   ...     ...                ...  \n",
              "985   25    Male  executive manager  \n",
              "986   25    Male  executive manager  \n",
              "987   25    Male  executive manager  \n",
              "988   25    Male  executive manager  \n",
              "989   25    Male  executive manager  \n",
              "\n",
              "[979 rows x 19 columns]"
            ]
          },
          "execution_count": 40,
          "metadata": {},
          "output_type": "execute_result"
        }
      ],
      "source": [
        "#Menampilkan dataset\n",
        "cleaned_data = merged_data\n",
        "cleaned_data"
      ]
    },
    {
      "cell_type": "markdown",
      "metadata": {},
      "source": [
        "####"
      ]
    },
    {
      "cell_type": "markdown",
      "metadata": {
        "id": "mmypzEJjNx9A"
      },
      "source": [
        "# Data Preparation"
      ]
    },
    {
      "cell_type": "markdown",
      "metadata": {
        "id": "Iz0jhiXkgFsq"
      },
      "source": [
        "Menghapus data duplikat sehingga cellphone hanya muncul satu kali."
      ]
    },
    {
      "cell_type": "code",
      "execution_count": 41,
      "metadata": {
        "id": "nl_EaYu1Nztf"
      },
      "outputs": [],
      "source": [
        "#Menghapus data duplikat\n",
        "cleaned_data = cleaned_data.drop_duplicates('cellphone_id')"
      ]
    },
    {
      "cell_type": "markdown",
      "metadata": {
        "id": "hA7eZ9fDgXWE"
      },
      "source": [
        "Melakukan konversi data series menjadi list."
      ]
    },
    {
      "cell_type": "code",
      "execution_count": 42,
      "metadata": {
        "colab": {
          "base_uri": "https://localhost:8080/"
        },
        "id": "jKiQUS-_N7KH",
        "outputId": "f7170ae6-bc8c-400f-87d1-ef4b3e8b5608"
      },
      "outputs": [
        {
          "name": "stdout",
          "output_type": "stream",
          "text": [
            "33\n",
            "33\n",
            "33\n",
            "33\n"
          ]
        }
      ],
      "source": [
        "#Melakukan konversi data series menjadi list\n",
        "cellphone_id = cleaned_data['cellphone_id'].tolist()\n",
        "brand = cleaned_data['brand'].tolist()\n",
        "model = cleaned_data['model'].tolist()\n",
        "operating_system = cleaned_data['operating system'].tolist()\n",
        "\n",
        "print(len(cellphone_id))\n",
        "print(len(brand))\n",
        "print(len(model))\n",
        "print(len(operating_system))"
      ]
    },
    {
      "cell_type": "markdown",
      "metadata": {
        "id": "GnRaRMwQgcXJ"
      },
      "source": [
        "Membuat dictionary untuk menentukan pasangan key-value.\n",
        "\n",
        "Karena TF-IDF hanya cocok untuk data teks maka hanya kolom yang bertipe object saja yang dipilih."
      ]
    },
    {
      "cell_type": "code",
      "execution_count": 43,
      "metadata": {
        "colab": {
          "base_uri": "https://localhost:8080/",
          "height": 1000
        },
        "id": "-MlYpjjnN85b",
        "outputId": "8d1d4922-12d4-407e-9b07-bdeef5a34527"
      },
      "outputs": [
        {
          "data": {
            "text/html": [
              "<div>\n",
              "<style scoped>\n",
              "    .dataframe tbody tr th:only-of-type {\n",
              "        vertical-align: middle;\n",
              "    }\n",
              "\n",
              "    .dataframe tbody tr th {\n",
              "        vertical-align: top;\n",
              "    }\n",
              "\n",
              "    .dataframe thead th {\n",
              "        text-align: right;\n",
              "    }\n",
              "</style>\n",
              "<table border=\"1\" class=\"dataframe\">\n",
              "  <thead>\n",
              "    <tr style=\"text-align: right;\">\n",
              "      <th></th>\n",
              "      <th>cellphone_id</th>\n",
              "      <th>brand</th>\n",
              "      <th>model</th>\n",
              "      <th>operating_system</th>\n",
              "    </tr>\n",
              "  </thead>\n",
              "  <tbody>\n",
              "    <tr>\n",
              "      <th>0</th>\n",
              "      <td>30</td>\n",
              "      <td>Motorola</td>\n",
              "      <td>Moto G Play (2025)</td>\n",
              "      <td>Android</td>\n",
              "    </tr>\n",
              "    <tr>\n",
              "      <th>1</th>\n",
              "      <td>5</td>\n",
              "      <td>Apple</td>\n",
              "      <td>iPhone XR</td>\n",
              "      <td>iOS</td>\n",
              "    </tr>\n",
              "    <tr>\n",
              "      <th>2</th>\n",
              "      <td>10</td>\n",
              "      <td>Samsung</td>\n",
              "      <td>Galaxy S22</td>\n",
              "      <td>Android</td>\n",
              "    </tr>\n",
              "    <tr>\n",
              "      <th>3</th>\n",
              "      <td>9</td>\n",
              "      <td>Samsung</td>\n",
              "      <td>Galaxy A53</td>\n",
              "      <td>Android</td>\n",
              "    </tr>\n",
              "    <tr>\n",
              "      <th>4</th>\n",
              "      <td>23</td>\n",
              "      <td>Vivo</td>\n",
              "      <td>X80 Pro</td>\n",
              "      <td>Android</td>\n",
              "    </tr>\n",
              "    <tr>\n",
              "      <th>5</th>\n",
              "      <td>8</td>\n",
              "      <td>Samsung</td>\n",
              "      <td>Galaxy A32</td>\n",
              "      <td>Android</td>\n",
              "    </tr>\n",
              "    <tr>\n",
              "      <th>6</th>\n",
              "      <td>22</td>\n",
              "      <td>Oppo</td>\n",
              "      <td>Find X5 Pro</td>\n",
              "      <td>Android</td>\n",
              "    </tr>\n",
              "    <tr>\n",
              "      <th>7</th>\n",
              "      <td>16</td>\n",
              "      <td>Google</td>\n",
              "      <td>Pixel 6a</td>\n",
              "      <td>Android</td>\n",
              "    </tr>\n",
              "    <tr>\n",
              "      <th>8</th>\n",
              "      <td>19</td>\n",
              "      <td>OnePlus</td>\n",
              "      <td>Nord 2T</td>\n",
              "      <td>Android</td>\n",
              "    </tr>\n",
              "    <tr>\n",
              "      <th>9</th>\n",
              "      <td>3</td>\n",
              "      <td>Apple</td>\n",
              "      <td>iPhone 13 Pro</td>\n",
              "      <td>iOS</td>\n",
              "    </tr>\n",
              "    <tr>\n",
              "      <th>10</th>\n",
              "      <td>7</td>\n",
              "      <td>Samsung</td>\n",
              "      <td>Galaxy A13</td>\n",
              "      <td>Android</td>\n",
              "    </tr>\n",
              "    <tr>\n",
              "      <th>11</th>\n",
              "      <td>31</td>\n",
              "      <td>Motorola</td>\n",
              "      <td>Moto G Pure</td>\n",
              "      <td>Android</td>\n",
              "    </tr>\n",
              "    <tr>\n",
              "      <th>12</th>\n",
              "      <td>18</td>\n",
              "      <td>OnePlus</td>\n",
              "      <td>Nord N20</td>\n",
              "      <td>Android</td>\n",
              "    </tr>\n",
              "    <tr>\n",
              "      <th>13</th>\n",
              "      <td>32</td>\n",
              "      <td>Motorola</td>\n",
              "      <td>Moto G Power (2025)</td>\n",
              "      <td>Android</td>\n",
              "    </tr>\n",
              "    <tr>\n",
              "      <th>14</th>\n",
              "      <td>28</td>\n",
              "      <td>Sony</td>\n",
              "      <td>Xperia Pro</td>\n",
              "      <td>Android</td>\n",
              "    </tr>\n",
              "    <tr>\n",
              "      <th>15</th>\n",
              "      <td>15</td>\n",
              "      <td>Google</td>\n",
              "      <td>Pixel 6</td>\n",
              "      <td>Android</td>\n",
              "    </tr>\n",
              "    <tr>\n",
              "      <th>16</th>\n",
              "      <td>4</td>\n",
              "      <td>Apple</td>\n",
              "      <td>iPhone 13 Pro Max</td>\n",
              "      <td>iOS</td>\n",
              "    </tr>\n",
              "    <tr>\n",
              "      <th>17</th>\n",
              "      <td>13</td>\n",
              "      <td>Samsung</td>\n",
              "      <td>Galaxy Z Flip 3</td>\n",
              "      <td>Android</td>\n",
              "    </tr>\n",
              "    <tr>\n",
              "      <th>18</th>\n",
              "      <td>1</td>\n",
              "      <td>Apple</td>\n",
              "      <td>iPhone 13 Mini</td>\n",
              "      <td>iOS</td>\n",
              "    </tr>\n",
              "    <tr>\n",
              "      <th>19</th>\n",
              "      <td>27</td>\n",
              "      <td>Xiaomi</td>\n",
              "      <td>Poco F4</td>\n",
              "      <td>Android</td>\n",
              "    </tr>\n",
              "    <tr>\n",
              "      <th>20</th>\n",
              "      <td>29</td>\n",
              "      <td>Motorola</td>\n",
              "      <td>Moto G Stylus (2025)</td>\n",
              "      <td>Android</td>\n",
              "    </tr>\n",
              "    <tr>\n",
              "      <th>21</th>\n",
              "      <td>25</td>\n",
              "      <td>Xiaomi</td>\n",
              "      <td>11T Pro</td>\n",
              "      <td>Android</td>\n",
              "    </tr>\n",
              "    <tr>\n",
              "      <th>22</th>\n",
              "      <td>20</td>\n",
              "      <td>OnePlus</td>\n",
              "      <td>10 Pro</td>\n",
              "      <td>Android</td>\n",
              "    </tr>\n",
              "    <tr>\n",
              "      <th>23</th>\n",
              "      <td>0</td>\n",
              "      <td>Apple</td>\n",
              "      <td>iPhone SE (2025)</td>\n",
              "      <td>iOS</td>\n",
              "    </tr>\n",
              "    <tr>\n",
              "      <th>24</th>\n",
              "      <td>11</td>\n",
              "      <td>Samsung</td>\n",
              "      <td>Galaxy S22 Plus</td>\n",
              "      <td>Android</td>\n",
              "    </tr>\n",
              "    <tr>\n",
              "      <th>25</th>\n",
              "      <td>17</td>\n",
              "      <td>Google</td>\n",
              "      <td>Pixel 6 Pro</td>\n",
              "      <td>Android</td>\n",
              "    </tr>\n",
              "    <tr>\n",
              "      <th>26</th>\n",
              "      <td>21</td>\n",
              "      <td>OnePlus</td>\n",
              "      <td>10T</td>\n",
              "      <td>Android</td>\n",
              "    </tr>\n",
              "    <tr>\n",
              "      <th>27</th>\n",
              "      <td>6</td>\n",
              "      <td>Asus</td>\n",
              "      <td>Zenfone 8</td>\n",
              "      <td>Android</td>\n",
              "    </tr>\n",
              "    <tr>\n",
              "      <th>28</th>\n",
              "      <td>14</td>\n",
              "      <td>Samsung</td>\n",
              "      <td>Galaxy Z Fold 3</td>\n",
              "      <td>Android</td>\n",
              "    </tr>\n",
              "    <tr>\n",
              "      <th>29</th>\n",
              "      <td>12</td>\n",
              "      <td>Samsung</td>\n",
              "      <td>Galaxy S22 Ultra</td>\n",
              "      <td>Android</td>\n",
              "    </tr>\n",
              "    <tr>\n",
              "      <th>30</th>\n",
              "      <td>24</td>\n",
              "      <td>Xiaomi</td>\n",
              "      <td>Redmi Note 11</td>\n",
              "      <td>Android</td>\n",
              "    </tr>\n",
              "    <tr>\n",
              "      <th>31</th>\n",
              "      <td>26</td>\n",
              "      <td>Xiaomi</td>\n",
              "      <td>12 Pro</td>\n",
              "      <td>Android</td>\n",
              "    </tr>\n",
              "    <tr>\n",
              "      <th>32</th>\n",
              "      <td>2</td>\n",
              "      <td>Apple</td>\n",
              "      <td>iPhone 13</td>\n",
              "      <td>iOS</td>\n",
              "    </tr>\n",
              "  </tbody>\n",
              "</table>\n",
              "</div>"
            ],
            "text/plain": [
              "    cellphone_id     brand                 model operating_system\n",
              "0             30  Motorola    Moto G Play (2025)          Android\n",
              "1              5     Apple             iPhone XR              iOS\n",
              "2             10   Samsung            Galaxy S22          Android\n",
              "3              9   Samsung            Galaxy A53          Android\n",
              "4             23      Vivo               X80 Pro          Android\n",
              "5              8   Samsung            Galaxy A32          Android\n",
              "6             22      Oppo           Find X5 Pro          Android\n",
              "7             16    Google              Pixel 6a          Android\n",
              "8             19   OnePlus               Nord 2T          Android\n",
              "9              3     Apple         iPhone 13 Pro              iOS\n",
              "10             7   Samsung            Galaxy A13          Android\n",
              "11            31  Motorola           Moto G Pure          Android\n",
              "12            18   OnePlus              Nord N20          Android\n",
              "13            32  Motorola   Moto G Power (2025)          Android\n",
              "14            28      Sony            Xperia Pro          Android\n",
              "15            15    Google             Pixel 6            Android\n",
              "16             4     Apple     iPhone 13 Pro Max              iOS\n",
              "17            13   Samsung       Galaxy Z Flip 3          Android\n",
              "18             1     Apple        iPhone 13 Mini              iOS\n",
              "19            27    Xiaomi               Poco F4          Android\n",
              "20            29  Motorola  Moto G Stylus (2025)          Android\n",
              "21            25    Xiaomi               11T Pro          Android\n",
              "22            20   OnePlus                10 Pro          Android\n",
              "23             0     Apple      iPhone SE (2025)              iOS\n",
              "24            11   Samsung       Galaxy S22 Plus          Android\n",
              "25            17    Google          Pixel 6 Pro           Android\n",
              "26            21   OnePlus                   10T          Android\n",
              "27             6      Asus             Zenfone 8          Android\n",
              "28            14   Samsung       Galaxy Z Fold 3          Android\n",
              "29            12   Samsung      Galaxy S22 Ultra          Android\n",
              "30            24    Xiaomi         Redmi Note 11          Android\n",
              "31            26    Xiaomi                12 Pro          Android\n",
              "32             2     Apple             iPhone 13              iOS"
            ]
          },
          "execution_count": 43,
          "metadata": {},
          "output_type": "execute_result"
        }
      ],
      "source": [
        "#Membuat dictionary untuk menentukan pasangan key-value\n",
        "phone_new = pd.DataFrame({\n",
        "    'cellphone_id': cellphone_id,\n",
        "    'brand': brand,\n",
        "    'model': model,\n",
        "    'operating_system': operating_system,\n",
        "})\n",
        "\n",
        "phone_new"
      ]
    },
    {
      "cell_type": "markdown",
      "metadata": {
        "id": "LdggACo5vEPg"
      },
      "source": [
        "#Model Development Dengan Content Based Filtering"
      ]
    },
    {
      "cell_type": "markdown",
      "metadata": {
        "id": "WBK-31sMytv-"
      },
      "source": [
        "Melakukan assign dataframe ke variabel baru yaitu data."
      ]
    },
    {
      "cell_type": "code",
      "execution_count": 44,
      "metadata": {
        "id": "1Fo50dw7y0EL"
      },
      "outputs": [],
      "source": [
        "#Assign dataframe phone_new ke variabel data\n",
        "data = phone_new"
      ]
    },
    {
      "cell_type": "markdown",
      "metadata": {
        "id": "qV5bOspRy5d1"
      },
      "source": [
        "Membangun sistem rekomendasi."
      ]
    },
    {
      "cell_type": "code",
      "execution_count": 45,
      "metadata": {
        "colab": {
          "base_uri": "https://localhost:8080/"
        },
        "id": "hFgy70iUjwL_",
        "outputId": "e60a8c88-9495-402c-e1c9-f29889ed48d8"
      },
      "outputs": [
        {
          "data": {
            "text/plain": [
              "array(['apple', 'asus', 'google', 'motorola', 'oneplus', 'oppo',\n",
              "       'samsung', 'sony', 'vivo', 'xiaomi'], dtype=object)"
            ]
          },
          "execution_count": 45,
          "metadata": {},
          "output_type": "execute_result"
        }
      ],
      "source": [
        "#Inisialisasi TfidfVectorizer\n",
        "tf = TfidfVectorizer()\n",
        "\n",
        "#Melakukan perhitungan idf pada data brand\n",
        "tf.fit(data['brand'])\n",
        "\n",
        "#Mapping array dari fitur index integer ke fitur nama\n",
        "tf.get_feature_names_out()"
      ]
    },
    {
      "cell_type": "markdown",
      "metadata": {
        "id": "0qWATqs4zCUl"
      },
      "source": [
        "Melakukan fit dan transformasi ke bentuk matriks."
      ]
    },
    {
      "cell_type": "code",
      "execution_count": 46,
      "metadata": {
        "colab": {
          "base_uri": "https://localhost:8080/"
        },
        "id": "ITn9KKpij939",
        "outputId": "07e1b029-0dd3-444a-ed6f-4754c0f961bb"
      },
      "outputs": [
        {
          "data": {
            "text/plain": [
              "(33, 10)"
            ]
          },
          "execution_count": 46,
          "metadata": {},
          "output_type": "execute_result"
        }
      ],
      "source": [
        "#Melakukan fit lalu ditransformasikan ke bentuk matrix\n",
        "tfidf_matrix = tf.fit_transform(data['brand'])\n",
        "\n",
        "#Melihat ukuran matrix tfidf\n",
        "tfidf_matrix.shape"
      ]
    },
    {
      "cell_type": "markdown",
      "metadata": {
        "id": "ynZ9vPoOzGpt"
      },
      "source": [
        "Menghasilkan vektor TF-IDF dalam bentuk matriks."
      ]
    },
    {
      "cell_type": "code",
      "execution_count": 47,
      "metadata": {
        "colab": {
          "base_uri": "https://localhost:8080/"
        },
        "id": "U_lLi5UMkBMa",
        "outputId": "6505a488-6219-4299-87db-b16721236040"
      },
      "outputs": [
        {
          "data": {
            "text/plain": [
              "matrix([[0., 0., 0., 1., 0., 0., 0., 0., 0., 0.],\n",
              "        [1., 0., 0., 0., 0., 0., 0., 0., 0., 0.],\n",
              "        [0., 0., 0., 0., 0., 0., 1., 0., 0., 0.],\n",
              "        [0., 0., 0., 0., 0., 0., 1., 0., 0., 0.],\n",
              "        [0., 0., 0., 0., 0., 0., 0., 0., 1., 0.],\n",
              "        [0., 0., 0., 0., 0., 0., 1., 0., 0., 0.],\n",
              "        [0., 0., 0., 0., 0., 1., 0., 0., 0., 0.],\n",
              "        [0., 0., 1., 0., 0., 0., 0., 0., 0., 0.],\n",
              "        [0., 0., 0., 0., 1., 0., 0., 0., 0., 0.],\n",
              "        [1., 0., 0., 0., 0., 0., 0., 0., 0., 0.],\n",
              "        [0., 0., 0., 0., 0., 0., 1., 0., 0., 0.],\n",
              "        [0., 0., 0., 1., 0., 0., 0., 0., 0., 0.],\n",
              "        [0., 0., 0., 0., 1., 0., 0., 0., 0., 0.],\n",
              "        [0., 0., 0., 1., 0., 0., 0., 0., 0., 0.],\n",
              "        [0., 0., 0., 0., 0., 0., 0., 1., 0., 0.],\n",
              "        [0., 0., 1., 0., 0., 0., 0., 0., 0., 0.],\n",
              "        [1., 0., 0., 0., 0., 0., 0., 0., 0., 0.],\n",
              "        [0., 0., 0., 0., 0., 0., 1., 0., 0., 0.],\n",
              "        [1., 0., 0., 0., 0., 0., 0., 0., 0., 0.],\n",
              "        [0., 0., 0., 0., 0., 0., 0., 0., 0., 1.],\n",
              "        [0., 0., 0., 1., 0., 0., 0., 0., 0., 0.],\n",
              "        [0., 0., 0., 0., 0., 0., 0., 0., 0., 1.],\n",
              "        [0., 0., 0., 0., 1., 0., 0., 0., 0., 0.],\n",
              "        [1., 0., 0., 0., 0., 0., 0., 0., 0., 0.],\n",
              "        [0., 0., 0., 0., 0., 0., 1., 0., 0., 0.],\n",
              "        [0., 0., 1., 0., 0., 0., 0., 0., 0., 0.],\n",
              "        [0., 0., 0., 0., 1., 0., 0., 0., 0., 0.],\n",
              "        [0., 1., 0., 0., 0., 0., 0., 0., 0., 0.],\n",
              "        [0., 0., 0., 0., 0., 0., 1., 0., 0., 0.],\n",
              "        [0., 0., 0., 0., 0., 0., 1., 0., 0., 0.],\n",
              "        [0., 0., 0., 0., 0., 0., 0., 0., 0., 1.],\n",
              "        [0., 0., 0., 0., 0., 0., 0., 0., 0., 1.],\n",
              "        [1., 0., 0., 0., 0., 0., 0., 0., 0., 0.]])"
            ]
          },
          "execution_count": 47,
          "metadata": {},
          "output_type": "execute_result"
        }
      ],
      "source": [
        "#Menghasilkan vektor TF-IDF dalam bentuk matriks.\n",
        "tfidf_matrix.todense()"
      ]
    },
    {
      "cell_type": "markdown",
      "metadata": {
        "id": "wEVpK220zRgF"
      },
      "source": [
        "Melihat matriks TF-IDF untuk beberapa model dan brand."
      ]
    },
    {
      "cell_type": "code",
      "execution_count": 48,
      "metadata": {
        "colab": {
          "base_uri": "https://localhost:8080/",
          "height": 394
        },
        "id": "kR-7M89bkDlv",
        "outputId": "f0a860f2-9ce3-4767-f402-0c137211183e"
      },
      "outputs": [
        {
          "data": {
            "text/html": [
              "<div>\n",
              "<style scoped>\n",
              "    .dataframe tbody tr th:only-of-type {\n",
              "        vertical-align: middle;\n",
              "    }\n",
              "\n",
              "    .dataframe tbody tr th {\n",
              "        vertical-align: top;\n",
              "    }\n",
              "\n",
              "    .dataframe thead th {\n",
              "        text-align: right;\n",
              "    }\n",
              "</style>\n",
              "<table border=\"1\" class=\"dataframe\">\n",
              "  <thead>\n",
              "    <tr style=\"text-align: right;\">\n",
              "      <th></th>\n",
              "      <th>asus</th>\n",
              "      <th>oppo</th>\n",
              "      <th>vivo</th>\n",
              "      <th>apple</th>\n",
              "      <th>samsung</th>\n",
              "      <th>motorola</th>\n",
              "      <th>google</th>\n",
              "      <th>sony</th>\n",
              "      <th>xiaomi</th>\n",
              "      <th>oneplus</th>\n",
              "    </tr>\n",
              "    <tr>\n",
              "      <th>model</th>\n",
              "      <th></th>\n",
              "      <th></th>\n",
              "      <th></th>\n",
              "      <th></th>\n",
              "      <th></th>\n",
              "      <th></th>\n",
              "      <th></th>\n",
              "      <th></th>\n",
              "      <th></th>\n",
              "      <th></th>\n",
              "    </tr>\n",
              "  </thead>\n",
              "  <tbody>\n",
              "    <tr>\n",
              "      <th>Pixel 6 Pro</th>\n",
              "      <td>0.0</td>\n",
              "      <td>0.0</td>\n",
              "      <td>0.0</td>\n",
              "      <td>0.0</td>\n",
              "      <td>0.0</td>\n",
              "      <td>0.0</td>\n",
              "      <td>1.0</td>\n",
              "      <td>0.0</td>\n",
              "      <td>0.0</td>\n",
              "      <td>0.0</td>\n",
              "    </tr>\n",
              "    <tr>\n",
              "      <th>Galaxy S22 Plus</th>\n",
              "      <td>0.0</td>\n",
              "      <td>0.0</td>\n",
              "      <td>0.0</td>\n",
              "      <td>0.0</td>\n",
              "      <td>1.0</td>\n",
              "      <td>0.0</td>\n",
              "      <td>0.0</td>\n",
              "      <td>0.0</td>\n",
              "      <td>0.0</td>\n",
              "      <td>0.0</td>\n",
              "    </tr>\n",
              "    <tr>\n",
              "      <th>Galaxy S22 Ultra</th>\n",
              "      <td>0.0</td>\n",
              "      <td>0.0</td>\n",
              "      <td>0.0</td>\n",
              "      <td>0.0</td>\n",
              "      <td>1.0</td>\n",
              "      <td>0.0</td>\n",
              "      <td>0.0</td>\n",
              "      <td>0.0</td>\n",
              "      <td>0.0</td>\n",
              "      <td>0.0</td>\n",
              "    </tr>\n",
              "    <tr>\n",
              "      <th>Galaxy S22</th>\n",
              "      <td>0.0</td>\n",
              "      <td>0.0</td>\n",
              "      <td>0.0</td>\n",
              "      <td>0.0</td>\n",
              "      <td>1.0</td>\n",
              "      <td>0.0</td>\n",
              "      <td>0.0</td>\n",
              "      <td>0.0</td>\n",
              "      <td>0.0</td>\n",
              "      <td>0.0</td>\n",
              "    </tr>\n",
              "    <tr>\n",
              "      <th>12 Pro</th>\n",
              "      <td>0.0</td>\n",
              "      <td>0.0</td>\n",
              "      <td>0.0</td>\n",
              "      <td>0.0</td>\n",
              "      <td>0.0</td>\n",
              "      <td>0.0</td>\n",
              "      <td>0.0</td>\n",
              "      <td>0.0</td>\n",
              "      <td>1.0</td>\n",
              "      <td>0.0</td>\n",
              "    </tr>\n",
              "    <tr>\n",
              "      <th>iPhone 13</th>\n",
              "      <td>0.0</td>\n",
              "      <td>0.0</td>\n",
              "      <td>0.0</td>\n",
              "      <td>1.0</td>\n",
              "      <td>0.0</td>\n",
              "      <td>0.0</td>\n",
              "      <td>0.0</td>\n",
              "      <td>0.0</td>\n",
              "      <td>0.0</td>\n",
              "      <td>0.0</td>\n",
              "    </tr>\n",
              "    <tr>\n",
              "      <th>iPhone 13 Mini</th>\n",
              "      <td>0.0</td>\n",
              "      <td>0.0</td>\n",
              "      <td>0.0</td>\n",
              "      <td>1.0</td>\n",
              "      <td>0.0</td>\n",
              "      <td>0.0</td>\n",
              "      <td>0.0</td>\n",
              "      <td>0.0</td>\n",
              "      <td>0.0</td>\n",
              "      <td>0.0</td>\n",
              "    </tr>\n",
              "    <tr>\n",
              "      <th>Galaxy Z Flip 3</th>\n",
              "      <td>0.0</td>\n",
              "      <td>0.0</td>\n",
              "      <td>0.0</td>\n",
              "      <td>0.0</td>\n",
              "      <td>1.0</td>\n",
              "      <td>0.0</td>\n",
              "      <td>0.0</td>\n",
              "      <td>0.0</td>\n",
              "      <td>0.0</td>\n",
              "      <td>0.0</td>\n",
              "    </tr>\n",
              "    <tr>\n",
              "      <th>iPhone SE (2025)</th>\n",
              "      <td>0.0</td>\n",
              "      <td>0.0</td>\n",
              "      <td>0.0</td>\n",
              "      <td>1.0</td>\n",
              "      <td>0.0</td>\n",
              "      <td>0.0</td>\n",
              "      <td>0.0</td>\n",
              "      <td>0.0</td>\n",
              "      <td>0.0</td>\n",
              "      <td>0.0</td>\n",
              "    </tr>\n",
              "    <tr>\n",
              "      <th>Pixel 6</th>\n",
              "      <td>0.0</td>\n",
              "      <td>0.0</td>\n",
              "      <td>0.0</td>\n",
              "      <td>0.0</td>\n",
              "      <td>0.0</td>\n",
              "      <td>0.0</td>\n",
              "      <td>1.0</td>\n",
              "      <td>0.0</td>\n",
              "      <td>0.0</td>\n",
              "      <td>0.0</td>\n",
              "    </tr>\n",
              "  </tbody>\n",
              "</table>\n",
              "</div>"
            ],
            "text/plain": [
              "                  asus  oppo  vivo  apple  samsung  motorola  google  sony  \\\n",
              "model                                                                        \n",
              "Pixel 6 Pro        0.0   0.0   0.0    0.0      0.0       0.0     1.0   0.0   \n",
              "Galaxy S22 Plus    0.0   0.0   0.0    0.0      1.0       0.0     0.0   0.0   \n",
              "Galaxy S22 Ultra   0.0   0.0   0.0    0.0      1.0       0.0     0.0   0.0   \n",
              "Galaxy S22         0.0   0.0   0.0    0.0      1.0       0.0     0.0   0.0   \n",
              "12 Pro             0.0   0.0   0.0    0.0      0.0       0.0     0.0   0.0   \n",
              "iPhone 13          0.0   0.0   0.0    1.0      0.0       0.0     0.0   0.0   \n",
              "iPhone 13 Mini     0.0   0.0   0.0    1.0      0.0       0.0     0.0   0.0   \n",
              "Galaxy Z Flip 3    0.0   0.0   0.0    0.0      1.0       0.0     0.0   0.0   \n",
              "iPhone SE (2025)   0.0   0.0   0.0    1.0      0.0       0.0     0.0   0.0   \n",
              "Pixel 6            0.0   0.0   0.0    0.0      0.0       0.0     1.0   0.0   \n",
              "\n",
              "                  xiaomi  oneplus  \n",
              "model                              \n",
              "Pixel 6 Pro          0.0      0.0  \n",
              "Galaxy S22 Plus      0.0      0.0  \n",
              "Galaxy S22 Ultra     0.0      0.0  \n",
              "Galaxy S22           0.0      0.0  \n",
              "12 Pro               1.0      0.0  \n",
              "iPhone 13            0.0      0.0  \n",
              "iPhone 13 Mini       0.0      0.0  \n",
              "Galaxy Z Flip 3      0.0      0.0  \n",
              "iPhone SE (2025)     0.0      0.0  \n",
              "Pixel 6              0.0      0.0  "
            ]
          },
          "execution_count": 48,
          "metadata": {},
          "output_type": "execute_result"
        }
      ],
      "source": [
        "#Menampilkan matriks TF-IDF untuk beberapa model dan brand.\n",
        "pd.DataFrame(\n",
        "    tfidf_matrix.todense(),\n",
        "    columns=tf.get_feature_names_out(),\n",
        "    index=data.model\n",
        ").sample(10, axis=1).sample(10, axis=0)"
      ]
    },
    {
      "cell_type": "markdown",
      "metadata": {
        "id": "ycRfl3c9zcS4"
      },
      "source": [
        "Menghitung derajat kesamaan (similarity degree) antar model dengan teknik cosine similarity."
      ]
    },
    {
      "cell_type": "code",
      "execution_count": 49,
      "metadata": {
        "colab": {
          "base_uri": "https://localhost:8080/"
        },
        "id": "deRDU3Sakim5",
        "outputId": "f373848a-3d87-41ee-ca66-ac617fb1aea2"
      },
      "outputs": [
        {
          "data": {
            "text/plain": [
              "array([[1., 0., 0., ..., 0., 0., 0.],\n",
              "       [0., 1., 0., ..., 0., 0., 1.],\n",
              "       [0., 0., 1., ..., 0., 0., 0.],\n",
              "       ...,\n",
              "       [0., 0., 0., ..., 1., 1., 0.],\n",
              "       [0., 0., 0., ..., 1., 1., 0.],\n",
              "       [0., 1., 0., ..., 0., 0., 1.]])"
            ]
          },
          "execution_count": 49,
          "metadata": {},
          "output_type": "execute_result"
        }
      ],
      "source": [
        "#Menampilkan cosine_similatiry\n",
        "cosine_sim = cosine_similarity(tfidf_matrix)\n",
        "cosine_sim"
      ]
    },
    {
      "cell_type": "markdown",
      "metadata": {
        "id": "1zJ2bnHoz0Fj"
      },
      "source": [
        "Matriks kesamaan setiap model dengan menampilkan nama model dalam 33 sampel kolom (axis = 1) dan 10 sampel baris (axis=0)."
      ]
    },
    {
      "cell_type": "code",
      "execution_count": 50,
      "metadata": {
        "colab": {
          "base_uri": "https://localhost:8080/",
          "height": 476
        },
        "id": "etXQK8dLklkG",
        "outputId": "b7f9243d-fff9-48ea-d0c9-fc7db947e7ca"
      },
      "outputs": [
        {
          "name": "stdout",
          "output_type": "stream",
          "text": [
            "Shape: (33, 33)\n"
          ]
        },
        {
          "data": {
            "text/html": [
              "<div>\n",
              "<style scoped>\n",
              "    .dataframe tbody tr th:only-of-type {\n",
              "        vertical-align: middle;\n",
              "    }\n",
              "\n",
              "    .dataframe tbody tr th {\n",
              "        vertical-align: top;\n",
              "    }\n",
              "\n",
              "    .dataframe thead th {\n",
              "        text-align: right;\n",
              "    }\n",
              "</style>\n",
              "<table border=\"1\" class=\"dataframe\">\n",
              "  <thead>\n",
              "    <tr style=\"text-align: right;\">\n",
              "      <th>model</th>\n",
              "      <th>11T Pro</th>\n",
              "      <th>iPhone XR</th>\n",
              "      <th>Moto G Stylus (2025)</th>\n",
              "      <th>Xperia Pro</th>\n",
              "      <th>Moto G Play (2025)</th>\n",
              "      <th>iPhone 13 Mini</th>\n",
              "      <th>Moto G Pure</th>\n",
              "      <th>10T</th>\n",
              "      <th>Pixel 6 Pro</th>\n",
              "      <th>X80 Pro</th>\n",
              "      <th>...</th>\n",
              "      <th>12 Pro</th>\n",
              "      <th>iPhone 13 Pro</th>\n",
              "      <th>Galaxy S22</th>\n",
              "      <th>Galaxy A13</th>\n",
              "      <th>Nord 2T</th>\n",
              "      <th>Poco F4</th>\n",
              "      <th>Nord N20</th>\n",
              "      <th>Galaxy A53</th>\n",
              "      <th>iPhone 13</th>\n",
              "      <th>Pixel 6a</th>\n",
              "    </tr>\n",
              "    <tr>\n",
              "      <th>model</th>\n",
              "      <th></th>\n",
              "      <th></th>\n",
              "      <th></th>\n",
              "      <th></th>\n",
              "      <th></th>\n",
              "      <th></th>\n",
              "      <th></th>\n",
              "      <th></th>\n",
              "      <th></th>\n",
              "      <th></th>\n",
              "      <th></th>\n",
              "      <th></th>\n",
              "      <th></th>\n",
              "      <th></th>\n",
              "      <th></th>\n",
              "      <th></th>\n",
              "      <th></th>\n",
              "      <th></th>\n",
              "      <th></th>\n",
              "      <th></th>\n",
              "      <th></th>\n",
              "    </tr>\n",
              "  </thead>\n",
              "  <tbody>\n",
              "    <tr>\n",
              "      <th>Redmi Note 11</th>\n",
              "      <td>1.0</td>\n",
              "      <td>0.0</td>\n",
              "      <td>0.0</td>\n",
              "      <td>0.0</td>\n",
              "      <td>0.0</td>\n",
              "      <td>0.0</td>\n",
              "      <td>0.0</td>\n",
              "      <td>0.0</td>\n",
              "      <td>0.0</td>\n",
              "      <td>0.0</td>\n",
              "      <td>...</td>\n",
              "      <td>1.0</td>\n",
              "      <td>0.0</td>\n",
              "      <td>0.0</td>\n",
              "      <td>0.0</td>\n",
              "      <td>0.0</td>\n",
              "      <td>1.0</td>\n",
              "      <td>0.0</td>\n",
              "      <td>0.0</td>\n",
              "      <td>0.0</td>\n",
              "      <td>0.0</td>\n",
              "    </tr>\n",
              "    <tr>\n",
              "      <th>Xperia Pro</th>\n",
              "      <td>0.0</td>\n",
              "      <td>0.0</td>\n",
              "      <td>0.0</td>\n",
              "      <td>1.0</td>\n",
              "      <td>0.0</td>\n",
              "      <td>0.0</td>\n",
              "      <td>0.0</td>\n",
              "      <td>0.0</td>\n",
              "      <td>0.0</td>\n",
              "      <td>0.0</td>\n",
              "      <td>...</td>\n",
              "      <td>0.0</td>\n",
              "      <td>0.0</td>\n",
              "      <td>0.0</td>\n",
              "      <td>0.0</td>\n",
              "      <td>0.0</td>\n",
              "      <td>0.0</td>\n",
              "      <td>0.0</td>\n",
              "      <td>0.0</td>\n",
              "      <td>0.0</td>\n",
              "      <td>0.0</td>\n",
              "    </tr>\n",
              "    <tr>\n",
              "      <th>Find X5 Pro</th>\n",
              "      <td>0.0</td>\n",
              "      <td>0.0</td>\n",
              "      <td>0.0</td>\n",
              "      <td>0.0</td>\n",
              "      <td>0.0</td>\n",
              "      <td>0.0</td>\n",
              "      <td>0.0</td>\n",
              "      <td>0.0</td>\n",
              "      <td>0.0</td>\n",
              "      <td>0.0</td>\n",
              "      <td>...</td>\n",
              "      <td>0.0</td>\n",
              "      <td>0.0</td>\n",
              "      <td>0.0</td>\n",
              "      <td>0.0</td>\n",
              "      <td>0.0</td>\n",
              "      <td>0.0</td>\n",
              "      <td>0.0</td>\n",
              "      <td>0.0</td>\n",
              "      <td>0.0</td>\n",
              "      <td>0.0</td>\n",
              "    </tr>\n",
              "    <tr>\n",
              "      <th>Galaxy A13</th>\n",
              "      <td>0.0</td>\n",
              "      <td>0.0</td>\n",
              "      <td>0.0</td>\n",
              "      <td>0.0</td>\n",
              "      <td>0.0</td>\n",
              "      <td>0.0</td>\n",
              "      <td>0.0</td>\n",
              "      <td>0.0</td>\n",
              "      <td>0.0</td>\n",
              "      <td>0.0</td>\n",
              "      <td>...</td>\n",
              "      <td>0.0</td>\n",
              "      <td>0.0</td>\n",
              "      <td>1.0</td>\n",
              "      <td>1.0</td>\n",
              "      <td>0.0</td>\n",
              "      <td>0.0</td>\n",
              "      <td>0.0</td>\n",
              "      <td>1.0</td>\n",
              "      <td>0.0</td>\n",
              "      <td>0.0</td>\n",
              "    </tr>\n",
              "    <tr>\n",
              "      <th>X80 Pro</th>\n",
              "      <td>0.0</td>\n",
              "      <td>0.0</td>\n",
              "      <td>0.0</td>\n",
              "      <td>0.0</td>\n",
              "      <td>0.0</td>\n",
              "      <td>0.0</td>\n",
              "      <td>0.0</td>\n",
              "      <td>0.0</td>\n",
              "      <td>0.0</td>\n",
              "      <td>1.0</td>\n",
              "      <td>...</td>\n",
              "      <td>0.0</td>\n",
              "      <td>0.0</td>\n",
              "      <td>0.0</td>\n",
              "      <td>0.0</td>\n",
              "      <td>0.0</td>\n",
              "      <td>0.0</td>\n",
              "      <td>0.0</td>\n",
              "      <td>0.0</td>\n",
              "      <td>0.0</td>\n",
              "      <td>0.0</td>\n",
              "    </tr>\n",
              "    <tr>\n",
              "      <th>Galaxy S22 Plus</th>\n",
              "      <td>0.0</td>\n",
              "      <td>0.0</td>\n",
              "      <td>0.0</td>\n",
              "      <td>0.0</td>\n",
              "      <td>0.0</td>\n",
              "      <td>0.0</td>\n",
              "      <td>0.0</td>\n",
              "      <td>0.0</td>\n",
              "      <td>0.0</td>\n",
              "      <td>0.0</td>\n",
              "      <td>...</td>\n",
              "      <td>0.0</td>\n",
              "      <td>0.0</td>\n",
              "      <td>1.0</td>\n",
              "      <td>1.0</td>\n",
              "      <td>0.0</td>\n",
              "      <td>0.0</td>\n",
              "      <td>0.0</td>\n",
              "      <td>1.0</td>\n",
              "      <td>0.0</td>\n",
              "      <td>0.0</td>\n",
              "    </tr>\n",
              "    <tr>\n",
              "      <th>10 Pro</th>\n",
              "      <td>0.0</td>\n",
              "      <td>0.0</td>\n",
              "      <td>0.0</td>\n",
              "      <td>0.0</td>\n",
              "      <td>0.0</td>\n",
              "      <td>0.0</td>\n",
              "      <td>0.0</td>\n",
              "      <td>1.0</td>\n",
              "      <td>0.0</td>\n",
              "      <td>0.0</td>\n",
              "      <td>...</td>\n",
              "      <td>0.0</td>\n",
              "      <td>0.0</td>\n",
              "      <td>0.0</td>\n",
              "      <td>0.0</td>\n",
              "      <td>1.0</td>\n",
              "      <td>0.0</td>\n",
              "      <td>1.0</td>\n",
              "      <td>0.0</td>\n",
              "      <td>0.0</td>\n",
              "      <td>0.0</td>\n",
              "    </tr>\n",
              "    <tr>\n",
              "      <th>10T</th>\n",
              "      <td>0.0</td>\n",
              "      <td>0.0</td>\n",
              "      <td>0.0</td>\n",
              "      <td>0.0</td>\n",
              "      <td>0.0</td>\n",
              "      <td>0.0</td>\n",
              "      <td>0.0</td>\n",
              "      <td>1.0</td>\n",
              "      <td>0.0</td>\n",
              "      <td>0.0</td>\n",
              "      <td>...</td>\n",
              "      <td>0.0</td>\n",
              "      <td>0.0</td>\n",
              "      <td>0.0</td>\n",
              "      <td>0.0</td>\n",
              "      <td>1.0</td>\n",
              "      <td>0.0</td>\n",
              "      <td>1.0</td>\n",
              "      <td>0.0</td>\n",
              "      <td>0.0</td>\n",
              "      <td>0.0</td>\n",
              "    </tr>\n",
              "    <tr>\n",
              "      <th>Galaxy Z Flip 3</th>\n",
              "      <td>0.0</td>\n",
              "      <td>0.0</td>\n",
              "      <td>0.0</td>\n",
              "      <td>0.0</td>\n",
              "      <td>0.0</td>\n",
              "      <td>0.0</td>\n",
              "      <td>0.0</td>\n",
              "      <td>0.0</td>\n",
              "      <td>0.0</td>\n",
              "      <td>0.0</td>\n",
              "      <td>...</td>\n",
              "      <td>0.0</td>\n",
              "      <td>0.0</td>\n",
              "      <td>1.0</td>\n",
              "      <td>1.0</td>\n",
              "      <td>0.0</td>\n",
              "      <td>0.0</td>\n",
              "      <td>0.0</td>\n",
              "      <td>1.0</td>\n",
              "      <td>0.0</td>\n",
              "      <td>0.0</td>\n",
              "    </tr>\n",
              "    <tr>\n",
              "      <th>Poco F4</th>\n",
              "      <td>1.0</td>\n",
              "      <td>0.0</td>\n",
              "      <td>0.0</td>\n",
              "      <td>0.0</td>\n",
              "      <td>0.0</td>\n",
              "      <td>0.0</td>\n",
              "      <td>0.0</td>\n",
              "      <td>0.0</td>\n",
              "      <td>0.0</td>\n",
              "      <td>0.0</td>\n",
              "      <td>...</td>\n",
              "      <td>1.0</td>\n",
              "      <td>0.0</td>\n",
              "      <td>0.0</td>\n",
              "      <td>0.0</td>\n",
              "      <td>0.0</td>\n",
              "      <td>1.0</td>\n",
              "      <td>0.0</td>\n",
              "      <td>0.0</td>\n",
              "      <td>0.0</td>\n",
              "      <td>0.0</td>\n",
              "    </tr>\n",
              "  </tbody>\n",
              "</table>\n",
              "<p>10 rows × 33 columns</p>\n",
              "</div>"
            ],
            "text/plain": [
              "model            11T Pro  iPhone XR  Moto G Stylus (2025)  Xperia Pro  \\\n",
              "model                                                                   \n",
              "Redmi Note 11        1.0        0.0                   0.0         0.0   \n",
              "Xperia Pro           0.0        0.0                   0.0         1.0   \n",
              "Find X5 Pro          0.0        0.0                   0.0         0.0   \n",
              "Galaxy A13           0.0        0.0                   0.0         0.0   \n",
              "X80 Pro              0.0        0.0                   0.0         0.0   \n",
              "Galaxy S22 Plus      0.0        0.0                   0.0         0.0   \n",
              "10 Pro               0.0        0.0                   0.0         0.0   \n",
              "10T                  0.0        0.0                   0.0         0.0   \n",
              "Galaxy Z Flip 3      0.0        0.0                   0.0         0.0   \n",
              "Poco F4              1.0        0.0                   0.0         0.0   \n",
              "\n",
              "model            Moto G Play (2025)  iPhone 13 Mini  Moto G Pure  10T  \\\n",
              "model                                                                   \n",
              "Redmi Note 11                   0.0             0.0          0.0  0.0   \n",
              "Xperia Pro                      0.0             0.0          0.0  0.0   \n",
              "Find X5 Pro                     0.0             0.0          0.0  0.0   \n",
              "Galaxy A13                      0.0             0.0          0.0  0.0   \n",
              "X80 Pro                         0.0             0.0          0.0  0.0   \n",
              "Galaxy S22 Plus                 0.0             0.0          0.0  0.0   \n",
              "10 Pro                          0.0             0.0          0.0  1.0   \n",
              "10T                             0.0             0.0          0.0  1.0   \n",
              "Galaxy Z Flip 3                 0.0             0.0          0.0  0.0   \n",
              "Poco F4                         0.0             0.0          0.0  0.0   \n",
              "\n",
              "model            Pixel 6 Pro   X80 Pro  ...  12 Pro  iPhone 13 Pro  \\\n",
              "model                                   ...                          \n",
              "Redmi Note 11             0.0      0.0  ...     1.0            0.0   \n",
              "Xperia Pro                0.0      0.0  ...     0.0            0.0   \n",
              "Find X5 Pro               0.0      0.0  ...     0.0            0.0   \n",
              "Galaxy A13                0.0      0.0  ...     0.0            0.0   \n",
              "X80 Pro                   0.0      1.0  ...     0.0            0.0   \n",
              "Galaxy S22 Plus           0.0      0.0  ...     0.0            0.0   \n",
              "10 Pro                    0.0      0.0  ...     0.0            0.0   \n",
              "10T                       0.0      0.0  ...     0.0            0.0   \n",
              "Galaxy Z Flip 3           0.0      0.0  ...     0.0            0.0   \n",
              "Poco F4                   0.0      0.0  ...     1.0            0.0   \n",
              "\n",
              "model            Galaxy S22  Galaxy A13  Nord 2T  Poco F4  Nord N20  \\\n",
              "model                                                                 \n",
              "Redmi Note 11           0.0         0.0      0.0      1.0       0.0   \n",
              "Xperia Pro              0.0         0.0      0.0      0.0       0.0   \n",
              "Find X5 Pro             0.0         0.0      0.0      0.0       0.0   \n",
              "Galaxy A13              1.0         1.0      0.0      0.0       0.0   \n",
              "X80 Pro                 0.0         0.0      0.0      0.0       0.0   \n",
              "Galaxy S22 Plus         1.0         1.0      0.0      0.0       0.0   \n",
              "10 Pro                  0.0         0.0      1.0      0.0       1.0   \n",
              "10T                     0.0         0.0      1.0      0.0       1.0   \n",
              "Galaxy Z Flip 3         1.0         1.0      0.0      0.0       0.0   \n",
              "Poco F4                 0.0         0.0      0.0      1.0       0.0   \n",
              "\n",
              "model            Galaxy A53  iPhone 13  Pixel 6a  \n",
              "model                                             \n",
              "Redmi Note 11           0.0        0.0       0.0  \n",
              "Xperia Pro              0.0        0.0       0.0  \n",
              "Find X5 Pro             0.0        0.0       0.0  \n",
              "Galaxy A13              1.0        0.0       0.0  \n",
              "X80 Pro                 0.0        0.0       0.0  \n",
              "Galaxy S22 Plus         1.0        0.0       0.0  \n",
              "10 Pro                  0.0        0.0       0.0  \n",
              "10T                     0.0        0.0       0.0  \n",
              "Galaxy Z Flip 3         1.0        0.0       0.0  \n",
              "Poco F4                 0.0        0.0       0.0  \n",
              "\n",
              "[10 rows x 33 columns]"
            ]
          },
          "execution_count": 50,
          "metadata": {},
          "output_type": "execute_result"
        }
      ],
      "source": [
        "#Membuat dataframe dari variabel cosine_sim\n",
        "cosine_sim_df = pd.DataFrame(cosine_sim, index=data['model'], columns=data['model'])\n",
        "print('Shape:', cosine_sim_df.shape)\n",
        "\n",
        "#Melihat similarity matrix pada setiap resto\n",
        "cosine_sim_df.sample(33, axis=1).sample(10, axis=0)"
      ]
    },
    {
      "cell_type": "markdown",
      "metadata": {
        "id": "Q1QrdQWTz9PN"
      },
      "source": [
        "Membuat fungsi model_recommendations"
      ]
    },
    {
      "cell_type": "code",
      "execution_count": 51,
      "metadata": {
        "id": "skcpmVUkkpd9"
      },
      "outputs": [],
      "source": [
        "def model_recommendations(model, similarity_data=cosine_sim_df, items=phone_new[['model','brand','operating_system']], k=4):\n",
        "    #Mengambil data dengan menggunakan argpartition untuk melakukan partisi secara tidak langsung sepanjang sumbu yang diberikan\n",
        "    #Dataframe diubah menjadi numpy\n",
        "    #Range(start, stop, step)\n",
        "    index = similarity_data.loc[:,model].to_numpy().argpartition(\n",
        "        range(-1, -k, -1))\n",
        "\n",
        "    #Mengambil data dengan similarity terbesar dari index yang ada\n",
        "    closest = similarity_data.columns[index[-1:-(k+2):-1]]\n",
        "\n",
        "    # Drop nama_model agar nama model yang dicari tidak muncul dalam daftar rekomendasi\n",
        "    closest = closest.drop(model, errors='ignore')\n",
        "\n",
        "    return pd.DataFrame(closest).merge(items).head(k)"
      ]
    },
    {
      "cell_type": "markdown",
      "metadata": {
        "id": "OMMO0Iw40T-U"
      },
      "source": [
        "Menampilkan hasil rekomendasi untuk `iPhone XR`"
      ]
    },
    {
      "cell_type": "code",
      "execution_count": 52,
      "metadata": {
        "colab": {
          "base_uri": "https://localhost:8080/",
          "height": 175
        },
        "id": "5M3CgqLDk1wR",
        "outputId": "64d9203d-5fa2-47a6-851a-5ce2364bcfea"
      },
      "outputs": [
        {
          "data": {
            "text/html": [
              "<div>\n",
              "<style scoped>\n",
              "    .dataframe tbody tr th:only-of-type {\n",
              "        vertical-align: middle;\n",
              "    }\n",
              "\n",
              "    .dataframe tbody tr th {\n",
              "        vertical-align: top;\n",
              "    }\n",
              "\n",
              "    .dataframe thead th {\n",
              "        text-align: right;\n",
              "    }\n",
              "</style>\n",
              "<table border=\"1\" class=\"dataframe\">\n",
              "  <thead>\n",
              "    <tr style=\"text-align: right;\">\n",
              "      <th></th>\n",
              "      <th>model</th>\n",
              "      <th>brand</th>\n",
              "      <th>operating_system</th>\n",
              "    </tr>\n",
              "  </thead>\n",
              "  <tbody>\n",
              "    <tr>\n",
              "      <th>0</th>\n",
              "      <td>iPhone 13</td>\n",
              "      <td>Apple</td>\n",
              "      <td>iOS</td>\n",
              "    </tr>\n",
              "    <tr>\n",
              "      <th>1</th>\n",
              "      <td>iPhone 13 Mini</td>\n",
              "      <td>Apple</td>\n",
              "      <td>iOS</td>\n",
              "    </tr>\n",
              "    <tr>\n",
              "      <th>2</th>\n",
              "      <td>iPhone SE (2025)</td>\n",
              "      <td>Apple</td>\n",
              "      <td>iOS</td>\n",
              "    </tr>\n",
              "    <tr>\n",
              "      <th>3</th>\n",
              "      <td>iPhone 13 Pro</td>\n",
              "      <td>Apple</td>\n",
              "      <td>iOS</td>\n",
              "    </tr>\n",
              "  </tbody>\n",
              "</table>\n",
              "</div>"
            ],
            "text/plain": [
              "              model  brand operating_system\n",
              "0         iPhone 13  Apple              iOS\n",
              "1    iPhone 13 Mini  Apple              iOS\n",
              "2  iPhone SE (2025)  Apple              iOS\n",
              "3     iPhone 13 Pro  Apple              iOS"
            ]
          },
          "execution_count": 52,
          "metadata": {},
          "output_type": "execute_result"
        }
      ],
      "source": [
        "#Menampilkan hasil rekomendasi\n",
        "model_recommendations('iPhone XR')"
      ]
    },
    {
      "cell_type": "markdown",
      "metadata": {
        "id": "65HByqSP0W_k"
      },
      "source": [
        "Menampilkan hasil rekomendasi untuk `Galaxy S22`"
      ]
    },
    {
      "cell_type": "code",
      "execution_count": 53,
      "metadata": {
        "colab": {
          "base_uri": "https://localhost:8080/",
          "height": 175
        },
        "id": "odBpCCsc0boU",
        "outputId": "e0c7044b-fa5d-4490-ff92-14bb5c2dd083"
      },
      "outputs": [
        {
          "data": {
            "text/html": [
              "<div>\n",
              "<style scoped>\n",
              "    .dataframe tbody tr th:only-of-type {\n",
              "        vertical-align: middle;\n",
              "    }\n",
              "\n",
              "    .dataframe tbody tr th {\n",
              "        vertical-align: top;\n",
              "    }\n",
              "\n",
              "    .dataframe thead th {\n",
              "        text-align: right;\n",
              "    }\n",
              "</style>\n",
              "<table border=\"1\" class=\"dataframe\">\n",
              "  <thead>\n",
              "    <tr style=\"text-align: right;\">\n",
              "      <th></th>\n",
              "      <th>model</th>\n",
              "      <th>brand</th>\n",
              "      <th>operating_system</th>\n",
              "    </tr>\n",
              "  </thead>\n",
              "  <tbody>\n",
              "    <tr>\n",
              "      <th>0</th>\n",
              "      <td>Galaxy Z Flip 3</td>\n",
              "      <td>Samsung</td>\n",
              "      <td>Android</td>\n",
              "    </tr>\n",
              "    <tr>\n",
              "      <th>1</th>\n",
              "      <td>Galaxy S22 Plus</td>\n",
              "      <td>Samsung</td>\n",
              "      <td>Android</td>\n",
              "    </tr>\n",
              "    <tr>\n",
              "      <th>2</th>\n",
              "      <td>Galaxy Z Fold 3</td>\n",
              "      <td>Samsung</td>\n",
              "      <td>Android</td>\n",
              "    </tr>\n",
              "    <tr>\n",
              "      <th>3</th>\n",
              "      <td>Galaxy A32</td>\n",
              "      <td>Samsung</td>\n",
              "      <td>Android</td>\n",
              "    </tr>\n",
              "  </tbody>\n",
              "</table>\n",
              "</div>"
            ],
            "text/plain": [
              "             model    brand operating_system\n",
              "0  Galaxy Z Flip 3  Samsung          Android\n",
              "1  Galaxy S22 Plus  Samsung          Android\n",
              "2  Galaxy Z Fold 3  Samsung          Android\n",
              "3       Galaxy A32  Samsung          Android"
            ]
          },
          "execution_count": 53,
          "metadata": {},
          "output_type": "execute_result"
        }
      ],
      "source": [
        "#Menampilkan hasil rekomendasi\n",
        "model_recommendations('Galaxy S22')"
      ]
    },
    {
      "cell_type": "markdown",
      "metadata": {},
      "source": [
        "####"
      ]
    },
    {
      "cell_type": "markdown",
      "metadata": {
        "id": "LUldJhNpvD5i"
      },
      "source": [
        "# Model Model Development dengan Collaborative Filtering"
      ]
    },
    {
      "cell_type": "markdown",
      "metadata": {
        "id": "C3LJzrq81C1y"
      },
      "source": [
        "Menyimpan dataset rating yang sudah pernah diread di variabel df."
      ]
    },
    {
      "cell_type": "code",
      "execution_count": 54,
      "metadata": {
        "colab": {
          "base_uri": "https://localhost:8080/",
          "height": 424
        },
        "id": "cGVzOhwjvIMw",
        "outputId": "6b841f74-e69d-42b6-c683-28b5c199e4db"
      },
      "outputs": [
        {
          "data": {
            "text/html": [
              "<div>\n",
              "<style scoped>\n",
              "    .dataframe tbody tr th:only-of-type {\n",
              "        vertical-align: middle;\n",
              "    }\n",
              "\n",
              "    .dataframe tbody tr th {\n",
              "        vertical-align: top;\n",
              "    }\n",
              "\n",
              "    .dataframe thead th {\n",
              "        text-align: right;\n",
              "    }\n",
              "</style>\n",
              "<table border=\"1\" class=\"dataframe\">\n",
              "  <thead>\n",
              "    <tr style=\"text-align: right;\">\n",
              "      <th></th>\n",
              "      <th>user_id</th>\n",
              "      <th>cellphone_id</th>\n",
              "      <th>rating</th>\n",
              "    </tr>\n",
              "  </thead>\n",
              "  <tbody>\n",
              "    <tr>\n",
              "      <th>0</th>\n",
              "      <td>0</td>\n",
              "      <td>30</td>\n",
              "      <td>1</td>\n",
              "    </tr>\n",
              "    <tr>\n",
              "      <th>1</th>\n",
              "      <td>0</td>\n",
              "      <td>5</td>\n",
              "      <td>3</td>\n",
              "    </tr>\n",
              "    <tr>\n",
              "      <th>2</th>\n",
              "      <td>0</td>\n",
              "      <td>10</td>\n",
              "      <td>9</td>\n",
              "    </tr>\n",
              "    <tr>\n",
              "      <th>3</th>\n",
              "      <td>0</td>\n",
              "      <td>9</td>\n",
              "      <td>3</td>\n",
              "    </tr>\n",
              "    <tr>\n",
              "      <th>4</th>\n",
              "      <td>0</td>\n",
              "      <td>23</td>\n",
              "      <td>2</td>\n",
              "    </tr>\n",
              "    <tr>\n",
              "      <th>...</th>\n",
              "      <td>...</td>\n",
              "      <td>...</td>\n",
              "      <td>...</td>\n",
              "    </tr>\n",
              "    <tr>\n",
              "      <th>985</th>\n",
              "      <td>258</td>\n",
              "      <td>31</td>\n",
              "      <td>5</td>\n",
              "    </tr>\n",
              "    <tr>\n",
              "      <th>986</th>\n",
              "      <td>258</td>\n",
              "      <td>17</td>\n",
              "      <td>8</td>\n",
              "    </tr>\n",
              "    <tr>\n",
              "      <th>987</th>\n",
              "      <td>258</td>\n",
              "      <td>23</td>\n",
              "      <td>9</td>\n",
              "    </tr>\n",
              "    <tr>\n",
              "      <th>988</th>\n",
              "      <td>258</td>\n",
              "      <td>27</td>\n",
              "      <td>8</td>\n",
              "    </tr>\n",
              "    <tr>\n",
              "      <th>989</th>\n",
              "      <td>258</td>\n",
              "      <td>24</td>\n",
              "      <td>6</td>\n",
              "    </tr>\n",
              "  </tbody>\n",
              "</table>\n",
              "<p>990 rows × 3 columns</p>\n",
              "</div>"
            ],
            "text/plain": [
              "     user_id  cellphone_id  rating\n",
              "0          0            30       1\n",
              "1          0             5       3\n",
              "2          0            10       9\n",
              "3          0             9       3\n",
              "4          0            23       2\n",
              "..       ...           ...     ...\n",
              "985      258            31       5\n",
              "986      258            17       8\n",
              "987      258            23       9\n",
              "988      258            27       8\n",
              "989      258            24       6\n",
              "\n",
              "[990 rows x 3 columns]"
            ]
          },
          "execution_count": 54,
          "metadata": {},
          "output_type": "execute_result"
        }
      ],
      "source": [
        "#Membaca dataset\n",
        "df = rating\n",
        "df"
      ]
    },
    {
      "cell_type": "markdown",
      "metadata": {
        "id": "Pxc_Xk_32UGO"
      },
      "source": [
        "Menyandikan (encode) fitur user_id."
      ]
    },
    {
      "cell_type": "code",
      "execution_count": 77,
      "metadata": {
        "colab": {
          "base_uri": "https://localhost:8080/"
        },
        "id": "fVcxy7_rvTWQ",
        "outputId": "b05f7efd-e5c7-4451-a725-3442284262b0"
      },
      "outputs": [
        {
          "name": "stdout",
          "output_type": "stream",
          "text": [
            "list userID:  [0, 1, 6, 8, 10, 12, 16, 24, 25, 26, 27, 28, 29, 30, 32, 33, 35, 36, 37, 38, 52, 53, 56, 60, 74, 79, 80, 84, 85, 91, 95, 98, 99, 100, 104, 105, 106, 110, 111, 112, 113, 114, 115, 116, 119, 120, 123, 124, 126, 128, 129, 137, 140, 142, 143, 144, 145, 148, 152, 154, 156, 160, 162, 164, 169, 178, 183, 194, 200, 203, 204, 208, 211, 215, 226, 227, 230, 231, 232, 233, 234, 235, 236, 237, 238, 240, 242, 243, 244, 245, 246, 251, 252, 253, 254, 255, 256, 257, 258]\n",
            "encoded userID :  {0: 0, 1: 1, 6: 2, 8: 3, 10: 4, 12: 5, 16: 6, 24: 7, 25: 8, 26: 9, 27: 10, 28: 11, 29: 12, 30: 13, 32: 14, 33: 15, 35: 16, 36: 17, 37: 18, 38: 19, 52: 20, 53: 21, 56: 22, 60: 23, 74: 24, 79: 25, 80: 26, 84: 27, 85: 28, 91: 29, 95: 30, 98: 31, 99: 32, 100: 33, 104: 34, 105: 35, 106: 36, 110: 37, 111: 38, 112: 39, 113: 40, 114: 41, 115: 42, 116: 43, 119: 44, 120: 45, 123: 46, 124: 47, 126: 48, 128: 49, 129: 50, 137: 51, 140: 52, 142: 53, 143: 54, 144: 55, 145: 56, 148: 57, 152: 58, 154: 59, 156: 60, 160: 61, 162: 62, 164: 63, 169: 64, 178: 65, 183: 66, 194: 67, 200: 68, 203: 69, 204: 70, 208: 71, 211: 72, 215: 73, 226: 74, 227: 75, 230: 76, 231: 77, 232: 78, 233: 79, 234: 80, 235: 81, 236: 82, 237: 83, 238: 84, 240: 85, 242: 86, 243: 87, 244: 88, 245: 89, 246: 90, 251: 91, 252: 92, 253: 93, 254: 94, 255: 95, 256: 96, 257: 97, 258: 98}\n",
            "encoded angka ke userID:  {0: 0, 1: 1, 2: 6, 3: 8, 4: 10, 5: 12, 6: 16, 7: 24, 8: 25, 9: 26, 10: 27, 11: 28, 12: 29, 13: 30, 14: 32, 15: 33, 16: 35, 17: 36, 18: 37, 19: 38, 20: 52, 21: 53, 22: 56, 23: 60, 24: 74, 25: 79, 26: 80, 27: 84, 28: 85, 29: 91, 30: 95, 31: 98, 32: 99, 33: 100, 34: 104, 35: 105, 36: 106, 37: 110, 38: 111, 39: 112, 40: 113, 41: 114, 42: 115, 43: 116, 44: 119, 45: 120, 46: 123, 47: 124, 48: 126, 49: 128, 50: 129, 51: 137, 52: 140, 53: 142, 54: 143, 55: 144, 56: 145, 57: 148, 58: 152, 59: 154, 60: 156, 61: 160, 62: 162, 63: 164, 64: 169, 65: 178, 66: 183, 67: 194, 68: 200, 69: 203, 70: 204, 71: 208, 72: 211, 73: 215, 74: 226, 75: 227, 76: 230, 77: 231, 78: 232, 79: 233, 80: 234, 81: 235, 82: 236, 83: 237, 84: 238, 85: 240, 86: 242, 87: 243, 88: 244, 89: 245, 90: 246, 91: 251, 92: 252, 93: 253, 94: 254, 95: 255, 96: 256, 97: 257, 98: 258}\n"
          ]
        }
      ],
      "source": [
        "#Mengubah user_id menjadi list tanpa nilai yang sama\n",
        "user_ids = df['user_id'].unique().tolist()\n",
        "print('list userID: ', user_ids)\n",
        "\n",
        "#Melakukan encoding userID\n",
        "user_to_user_encoded = {x: i for i, x in enumerate(user_ids)}\n",
        "print('encoded userID : ', user_to_user_encoded)\n",
        "\n",
        "#Melakukan proses encoding angka ke ke userID\n",
        "user_encoded_to_user = {i: x for i, x in enumerate(user_ids)}\n",
        "print('encoded angka ke userID: ', user_encoded_to_user)"
      ]
    },
    {
      "cell_type": "markdown",
      "metadata": {
        "id": "3Y0rOqWL2apD"
      },
      "source": [
        "Menyandikan (encode) fitur cellphone_id."
      ]
    },
    {
      "cell_type": "code",
      "execution_count": 78,
      "metadata": {
        "id": "eB5eLK1DvhrE"
      },
      "outputs": [],
      "source": [
        "#Mengubah cellphone_id menjadi list tanpa nilai yang sama\n",
        "cellphone_ids = df['cellphone_id'].unique().tolist()\n",
        "\n",
        "#Melakukan proses encoding cellphone_id\n",
        "cellphone_to_cellphone_encoded = {x: i for i, x in enumerate(cellphone_ids)}\n",
        "\n",
        "#Melakukan proses encoding angka ke cellphone_id\n",
        "cellphone_encoded_to_cellphone = {i: x for i, x in enumerate(cellphone_ids)}"
      ]
    },
    {
      "cell_type": "markdown",
      "metadata": {
        "id": "XlByZ8nb2jXW"
      },
      "source": [
        "Mapping user_id dan cellphone_id."
      ]
    },
    {
      "cell_type": "code",
      "execution_count": 79,
      "metadata": {
        "id": "NLhtp5wNvvp8"
      },
      "outputs": [],
      "source": [
        "#Mapping user_id ke dataframe user\n",
        "df['user'] = df['user_id'].map(user_to_user_encoded)\n",
        "\n",
        "#Mapping cellphone_id ke dataframe cellphone\n",
        "df['cellphone'] = df['cellphone_id'].map(cellphone_to_cellphone_encoded)"
      ]
    },
    {
      "cell_type": "markdown",
      "metadata": {
        "id": "fuo5Y-Pp2n8z"
      },
      "source": [
        "Menampilkan jumlah user dan cellphone.\n",
        "\n",
        "Menampilkan nilai minimum dan maximum dari rating."
      ]
    },
    {
      "cell_type": "code",
      "execution_count": 81,
      "metadata": {
        "colab": {
          "base_uri": "https://localhost:8080/"
        },
        "id": "VrIOqs5TwBz2",
        "outputId": "04bcb9e4-bdc5-4997-ab94-507840b74bd4"
      },
      "outputs": [
        {
          "name": "stdout",
          "output_type": "stream",
          "text": [
            "99\n",
            "33\n",
            "Number of User: 99, Number of cellphone: 33, Min Rating: 1.0, Max Rating: 18.0\n"
          ]
        }
      ],
      "source": [
        "#Mendapatkan jumlah user\n",
        "num_users = len(user_to_user_encoded)\n",
        "print(num_users)\n",
        "\n",
        "#Mendapatkan jumlah cellphone\n",
        "num_cellphone = len(cellphone_to_cellphone_encoded)\n",
        "print(num_cellphone)\n",
        "\n",
        "#Mengubah rating menjadi nilai float\n",
        "df['rating'] = df['rating'].values.astype(np.float32)\n",
        "\n",
        "#Nilai minimum rating\n",
        "min_rating = min(df['rating'])\n",
        "\n",
        "#Nilai maksimal rating\n",
        "max_rating = max(df['rating'])\n",
        "\n",
        "print('Number of User: {}, Number of cellphone: {}, Min Rating: {}, Max Rating: {}'.format(\n",
        "    num_users, num_cellphone, min_rating, max_rating\n",
        "))"
      ]
    },
    {
      "cell_type": "markdown",
      "metadata": {
        "id": "G4qv3nXV2tpY"
      },
      "source": [
        "Output kode di atas memberikan informasi :\n",
        "- Terdapat outliers pada fitur rating yaitu value '18'\n",
        "- Outlier tersebut harus di drop"
      ]
    },
    {
      "cell_type": "markdown",
      "metadata": {
        "id": "8ZqkFCmh23O3"
      },
      "source": [
        "Drop baris dengan value pada kolom rating 18."
      ]
    },
    {
      "cell_type": "code",
      "execution_count": 82,
      "metadata": {
        "id": "ZxSI3kd6wSyh"
      },
      "outputs": [],
      "source": [
        "#Drop data\n",
        "df = df[df['rating'] != 18]"
      ]
    },
    {
      "cell_type": "markdown",
      "metadata": {
        "id": "FjQv7m9i276Y"
      },
      "source": [
        "Memastikan kembali tidak ada nilai max yang melebihi 10."
      ]
    },
    {
      "cell_type": "code",
      "execution_count": 83,
      "metadata": {
        "colab": {
          "base_uri": "https://localhost:8080/"
        },
        "id": "SyqMbBySwdwh",
        "outputId": "f599e70e-67c2-4471-821a-78ab858f3f4e"
      },
      "outputs": [
        {
          "name": "stdout",
          "output_type": "stream",
          "text": [
            "Min Rating: 1.0, Max Rating: 10.0\n"
          ]
        }
      ],
      "source": [
        "#Nilai minimum rating\n",
        "min_rating = min(df['rating'])\n",
        "\n",
        "#Nilai maksimal rating\n",
        "max_rating = max(df['rating'])\n",
        "\n",
        "print('Min Rating: {}, Max Rating: {}'.format(\n",
        "    min_rating, max_rating\n",
        "))"
      ]
    },
    {
      "cell_type": "markdown",
      "metadata": {
        "id": "mpm8Jufv3AgU"
      },
      "source": [
        "Melakukan acak terhadap dataset."
      ]
    },
    {
      "cell_type": "code",
      "execution_count": 84,
      "metadata": {
        "colab": {
          "base_uri": "https://localhost:8080/",
          "height": 424
        },
        "id": "S3GNpvoNwf-f",
        "outputId": "8a9ae9ea-f3f5-4e79-96e5-7c467cbfcd95"
      },
      "outputs": [
        {
          "data": {
            "text/html": [
              "<div>\n",
              "<style scoped>\n",
              "    .dataframe tbody tr th:only-of-type {\n",
              "        vertical-align: middle;\n",
              "    }\n",
              "\n",
              "    .dataframe tbody tr th {\n",
              "        vertical-align: top;\n",
              "    }\n",
              "\n",
              "    .dataframe thead th {\n",
              "        text-align: right;\n",
              "    }\n",
              "</style>\n",
              "<table border=\"1\" class=\"dataframe\">\n",
              "  <thead>\n",
              "    <tr style=\"text-align: right;\">\n",
              "      <th></th>\n",
              "      <th>user_id</th>\n",
              "      <th>cellphone_id</th>\n",
              "      <th>rating</th>\n",
              "      <th>user</th>\n",
              "      <th>cellphone</th>\n",
              "    </tr>\n",
              "  </thead>\n",
              "  <tbody>\n",
              "    <tr>\n",
              "      <th>213</th>\n",
              "      <td>53</td>\n",
              "      <td>4</td>\n",
              "      <td>9.0</td>\n",
              "      <td>21</td>\n",
              "      <td>16</td>\n",
              "    </tr>\n",
              "    <tr>\n",
              "      <th>331</th>\n",
              "      <td>100</td>\n",
              "      <td>27</td>\n",
              "      <td>9.0</td>\n",
              "      <td>33</td>\n",
              "      <td>19</td>\n",
              "    </tr>\n",
              "    <tr>\n",
              "      <th>501</th>\n",
              "      <td>129</td>\n",
              "      <td>4</td>\n",
              "      <td>8.0</td>\n",
              "      <td>50</td>\n",
              "      <td>16</td>\n",
              "    </tr>\n",
              "    <tr>\n",
              "      <th>309</th>\n",
              "      <td>95</td>\n",
              "      <td>5</td>\n",
              "      <td>5.0</td>\n",
              "      <td>30</td>\n",
              "      <td>1</td>\n",
              "    </tr>\n",
              "    <tr>\n",
              "      <th>88</th>\n",
              "      <td>25</td>\n",
              "      <td>16</td>\n",
              "      <td>9.0</td>\n",
              "      <td>8</td>\n",
              "      <td>7</td>\n",
              "    </tr>\n",
              "    <tr>\n",
              "      <th>...</th>\n",
              "      <td>...</td>\n",
              "      <td>...</td>\n",
              "      <td>...</td>\n",
              "      <td>...</td>\n",
              "      <td>...</td>\n",
              "    </tr>\n",
              "    <tr>\n",
              "      <th>106</th>\n",
              "      <td>27</td>\n",
              "      <td>6</td>\n",
              "      <td>8.0</td>\n",
              "      <td>10</td>\n",
              "      <td>27</td>\n",
              "    </tr>\n",
              "    <tr>\n",
              "      <th>270</th>\n",
              "      <td>84</td>\n",
              "      <td>25</td>\n",
              "      <td>1.0</td>\n",
              "      <td>27</td>\n",
              "      <td>21</td>\n",
              "    </tr>\n",
              "    <tr>\n",
              "      <th>860</th>\n",
              "      <td>242</td>\n",
              "      <td>24</td>\n",
              "      <td>4.0</td>\n",
              "      <td>86</td>\n",
              "      <td>30</td>\n",
              "    </tr>\n",
              "    <tr>\n",
              "      <th>435</th>\n",
              "      <td>116</td>\n",
              "      <td>13</td>\n",
              "      <td>1.0</td>\n",
              "      <td>43</td>\n",
              "      <td>17</td>\n",
              "    </tr>\n",
              "    <tr>\n",
              "      <th>102</th>\n",
              "      <td>27</td>\n",
              "      <td>19</td>\n",
              "      <td>6.0</td>\n",
              "      <td>10</td>\n",
              "      <td>8</td>\n",
              "    </tr>\n",
              "  </tbody>\n",
              "</table>\n",
              "<p>989 rows × 5 columns</p>\n",
              "</div>"
            ],
            "text/plain": [
              "     user_id  cellphone_id  rating  user  cellphone\n",
              "213       53             4     9.0    21         16\n",
              "331      100            27     9.0    33         19\n",
              "501      129             4     8.0    50         16\n",
              "309       95             5     5.0    30          1\n",
              "88        25            16     9.0     8          7\n",
              "..       ...           ...     ...   ...        ...\n",
              "106       27             6     8.0    10         27\n",
              "270       84            25     1.0    27         21\n",
              "860      242            24     4.0    86         30\n",
              "435      116            13     1.0    43         17\n",
              "102       27            19     6.0    10          8\n",
              "\n",
              "[989 rows x 5 columns]"
            ]
          },
          "execution_count": 84,
          "metadata": {},
          "output_type": "execute_result"
        }
      ],
      "source": [
        "#Mengacak dataset\n",
        "df = df.sample(frac=1, random_state=42)\n",
        "df"
      ]
    },
    {
      "cell_type": "markdown",
      "metadata": {
        "id": "qXsbVyp83JF4"
      },
      "source": [
        "#### Memetakan (mapping) data user dan cellphone menjadi satu value.\n",
        "\n",
        "Mebagi data train dan validasi dengan komposisi 80:20."
      ]
    },
    {
      "cell_type": "code",
      "execution_count": 85,
      "metadata": {
        "colab": {
          "base_uri": "https://localhost:8080/"
        },
        "id": "9Hn_zBlrwlRz",
        "outputId": "71fe3649-a625-495b-a2a4-444ff6218606"
      },
      "outputs": [
        {
          "name": "stdout",
          "output_type": "stream",
          "text": [
            "[[21 16]\n",
            " [33 19]\n",
            " [50 16]\n",
            " ...\n",
            " [86 30]\n",
            " [43 17]\n",
            " [10  8]] [0.88888889 0.88888889 0.77777778 0.44444444 0.88888889 0.66666667\n",
            " 0.         0.88888889 0.55555556 0.66666667 1.         0.22222222\n",
            " 0.88888889 1.         0.66666667 0.88888889 0.55555556 0.66666667\n",
            " 0.77777778 0.77777778 0.44444444 0.11111111 0.66666667 0.55555556\n",
            " 0.66666667 0.22222222 0.55555556 0.55555556 0.77777778 0.55555556\n",
            " 0.11111111 0.77777778 0.77777778 0.88888889 0.44444444 0.55555556\n",
            " 0.22222222 0.66666667 0.33333333 0.88888889 0.66666667 0.11111111\n",
            " 0.55555556 0.77777778 0.77777778 0.55555556 0.88888889 0.88888889\n",
            " 0.66666667 0.88888889 0.44444444 1.         1.         0.55555556\n",
            " 0.55555556 0.77777778 0.55555556 0.66666667 0.44444444 0.88888889\n",
            " 0.33333333 0.77777778 0.66666667 0.         0.33333333 0.77777778\n",
            " 0.77777778 0.77777778 0.55555556 0.44444444 0.66666667 0.66666667\n",
            " 0.44444444 0.66666667 1.         0.66666667 1.         0.88888889\n",
            " 0.66666667 1.         0.88888889 0.88888889 0.11111111 0.77777778\n",
            " 0.44444444 1.         0.77777778 0.77777778 0.77777778 0.55555556\n",
            " 0.88888889 0.66666667 0.55555556 0.11111111 0.44444444 0.55555556\n",
            " 1.         1.         1.         0.66666667 0.77777778 0.77777778\n",
            " 0.11111111 0.11111111 1.         0.66666667 0.88888889 0.77777778\n",
            " 0.         0.66666667 0.         0.33333333 0.66666667 0.44444444\n",
            " 0.44444444 0.88888889 0.44444444 0.55555556 0.22222222 0.\n",
            " 0.44444444 0.         1.         1.         1.         0.88888889\n",
            " 0.88888889 0.77777778 1.         0.66666667 0.66666667 0.77777778\n",
            " 0.77777778 0.22222222 0.77777778 0.44444444 0.66666667 0.77777778\n",
            " 0.66666667 0.77777778 1.         0.         1.         0.88888889\n",
            " 0.         0.22222222 0.66666667 0.11111111 0.44444444 0.77777778\n",
            " 0.77777778 0.88888889 0.88888889 0.88888889 0.55555556 0.\n",
            " 0.77777778 0.66666667 1.         0.22222222 0.55555556 1.\n",
            " 0.88888889 1.         0.66666667 0.         0.77777778 0.77777778\n",
            " 0.77777778 0.         0.77777778 0.66666667 0.77777778 1.\n",
            " 0.77777778 0.66666667 0.66666667 0.66666667 0.66666667 0.66666667\n",
            " 0.22222222 0.88888889 0.66666667 0.55555556 0.66666667 0.55555556\n",
            " 0.77777778 0.77777778 0.66666667 0.77777778 0.88888889 0.77777778\n",
            " 1.         1.         0.22222222 0.66666667 0.44444444 1.\n",
            " 0.66666667 0.77777778 0.55555556 0.77777778 0.77777778 0.88888889\n",
            " 0.33333333 0.55555556 0.77777778 0.77777778 0.77777778 0.55555556\n",
            " 0.55555556 1.         0.77777778 0.88888889 0.66666667 0.77777778\n",
            " 1.         0.         0.66666667 0.77777778 0.55555556 0.88888889\n",
            " 1.         1.         0.88888889 0.22222222 0.66666667 0.11111111\n",
            " 0.33333333 0.77777778 1.         0.55555556 0.33333333 0.66666667\n",
            " 0.         0.88888889 0.77777778 0.55555556 0.66666667 0.88888889\n",
            " 0.44444444 1.         0.11111111 0.55555556 0.55555556 0.88888889\n",
            " 0.66666667 0.88888889 0.44444444 0.77777778 1.         0.77777778\n",
            " 0.77777778 0.55555556 0.66666667 0.66666667 1.         0.77777778\n",
            " 0.88888889 0.88888889 0.77777778 0.11111111 0.77777778 1.\n",
            " 0.88888889 0.77777778 0.55555556 1.         0.77777778 0.88888889\n",
            " 0.55555556 0.66666667 0.66666667 0.66666667 0.66666667 0.88888889\n",
            " 0.77777778 0.66666667 0.66666667 0.77777778 1.         0.11111111\n",
            " 1.         0.77777778 0.77777778 1.         0.66666667 0.77777778\n",
            " 0.66666667 0.77777778 0.11111111 1.         0.66666667 0.44444444\n",
            " 0.77777778 0.77777778 1.         0.55555556 0.55555556 0.33333333\n",
            " 0.77777778 1.         0.88888889 0.         0.55555556 1.\n",
            " 0.66666667 0.55555556 0.66666667 0.77777778 1.         1.\n",
            " 0.11111111 0.44444444 0.77777778 0.55555556 0.77777778 0.88888889\n",
            " 1.         0.55555556 0.33333333 0.88888889 0.77777778 1.\n",
            " 0.         0.77777778 0.66666667 0.66666667 0.77777778 0.77777778\n",
            " 0.66666667 0.55555556 0.         0.77777778 1.         0.55555556\n",
            " 0.66666667 0.55555556 0.88888889 0.44444444 0.         0.88888889\n",
            " 0.11111111 0.66666667 0.55555556 0.88888889 1.         0.88888889\n",
            " 0.         0.77777778 1.         0.33333333 0.         0.11111111\n",
            " 0.33333333 0.77777778 0.66666667 0.55555556 0.77777778 0.\n",
            " 0.33333333 0.         0.55555556 0.         0.55555556 0.77777778\n",
            " 0.77777778 0.77777778 0.55555556 0.11111111 0.22222222 0.33333333\n",
            " 0.         0.44444444 0.66666667 0.66666667 0.66666667 0.88888889\n",
            " 0.11111111 0.11111111 0.22222222 0.77777778 0.77777778 0.77777778\n",
            " 0.33333333 0.77777778 0.         0.66666667 0.66666667 0.66666667\n",
            " 0.77777778 0.77777778 0.         0.44444444 0.66666667 1.\n",
            " 0.88888889 0.44444444 0.66666667 0.         0.55555556 0.88888889\n",
            " 0.77777778 0.88888889 1.         0.66666667 1.         0.77777778\n",
            " 0.66666667 0.88888889 0.         0.77777778 0.66666667 0.55555556\n",
            " 0.44444444 0.22222222 0.55555556 0.88888889 1.         0.66666667\n",
            " 0.77777778 0.66666667 0.88888889 0.44444444 1.         0.77777778\n",
            " 0.88888889 0.66666667 0.88888889 0.66666667 0.44444444 0.44444444\n",
            " 0.66666667 0.33333333 1.         0.33333333 0.66666667 0.55555556\n",
            " 0.88888889 1.         1.         0.22222222 0.66666667 0.77777778\n",
            " 0.88888889 0.44444444 0.11111111 0.66666667 0.66666667 0.\n",
            " 0.55555556 0.55555556 1.         0.66666667 0.         0.77777778\n",
            " 0.77777778 1.         1.         1.         0.44444444 0.77777778\n",
            " 0.55555556 0.66666667 0.33333333 0.88888889 0.77777778 1.\n",
            " 0.55555556 0.66666667 0.33333333 1.         0.88888889 0.66666667\n",
            " 1.         0.66666667 1.         0.66666667 0.55555556 0.\n",
            " 0.77777778 0.33333333 0.33333333 0.88888889 0.66666667 0.11111111\n",
            " 0.66666667 1.         0.         0.11111111 0.66666667 0.33333333\n",
            " 1.         0.55555556 1.         0.44444444 1.         0.44444444\n",
            " 0.66666667 1.         1.         0.77777778 0.22222222 0.77777778\n",
            " 0.88888889 0.88888889 0.66666667 0.77777778 0.66666667 0.88888889\n",
            " 0.55555556 0.88888889 0.11111111 0.11111111 0.66666667 0.77777778\n",
            " 0.88888889 0.88888889 0.77777778 0.55555556 1.         0.66666667\n",
            " 0.         0.55555556 0.66666667 0.66666667 0.66666667 0.55555556\n",
            " 0.66666667 0.         1.         0.         0.77777778 0.66666667\n",
            " 0.88888889 0.11111111 0.44444444 1.         0.33333333 1.\n",
            " 0.         0.88888889 0.88888889 0.77777778 0.         0.55555556\n",
            " 0.         0.55555556 0.77777778 0.66666667 0.55555556 0.55555556\n",
            " 0.66666667 0.77777778 0.77777778 1.         0.11111111 0.55555556\n",
            " 1.         0.66666667 0.88888889 0.44444444 0.77777778 0.55555556\n",
            " 0.66666667 0.66666667 0.77777778 0.55555556 0.88888889 0.33333333\n",
            " 0.55555556 0.55555556 0.         0.55555556 0.77777778 0.88888889\n",
            " 1.         0.77777778 0.         0.33333333 0.         0.\n",
            " 0.77777778 0.55555556 0.44444444 0.33333333 0.55555556 0.55555556\n",
            " 0.77777778 0.77777778 0.11111111 1.         0.         0.77777778\n",
            " 0.77777778 0.66666667 0.77777778 0.66666667 1.         0.77777778\n",
            " 0.44444444 1.         0.66666667 0.         0.22222222 0.55555556\n",
            " 1.         0.66666667 0.88888889 0.77777778 0.77777778 0.55555556\n",
            " 0.88888889 0.66666667 0.88888889 0.44444444 1.         0.66666667\n",
            " 0.         0.66666667 0.88888889 0.77777778 0.77777778 0.88888889\n",
            " 0.77777778 0.22222222 0.88888889 1.         0.77777778 0.77777778\n",
            " 0.88888889 1.         1.         0.         0.55555556 0.55555556\n",
            " 0.88888889 0.77777778 1.         0.         0.66666667 1.\n",
            " 0.55555556 0.66666667 0.77777778 0.66666667 0.77777778 0.44444444\n",
            " 1.         1.         1.         1.         1.         0.11111111\n",
            " 0.         0.77777778 0.11111111 0.33333333 1.         0.\n",
            " 0.44444444 0.88888889 0.66666667 1.         0.77777778 0.77777778\n",
            " 0.11111111 0.77777778 0.         0.55555556 0.88888889 0.\n",
            " 0.33333333 0.11111111 1.         0.22222222 0.55555556 0.\n",
            " 0.66666667 0.55555556 0.55555556 0.88888889 0.77777778 0.88888889\n",
            " 1.         0.11111111 0.77777778 0.22222222 1.         0.77777778\n",
            " 0.         0.77777778 0.55555556 1.         0.33333333 0.\n",
            " 0.77777778 0.66666667 0.33333333 0.77777778 0.         0.11111111\n",
            " 0.77777778 1.         0.55555556 1.         0.77777778 0.77777778\n",
            " 1.         0.88888889 0.88888889 0.44444444 0.88888889 0.88888889\n",
            " 0.77777778 0.66666667 0.55555556 0.         0.88888889 0.44444444\n",
            " 0.44444444 0.         0.33333333 0.         0.55555556 0.55555556\n",
            " 1.         0.88888889 0.77777778 0.88888889 0.33333333 0.77777778\n",
            " 0.11111111 0.66666667 0.66666667 0.11111111 0.77777778 0.44444444\n",
            " 0.22222222 0.66666667 0.33333333 0.88888889 0.88888889 1.\n",
            " 0.77777778 0.11111111 0.44444444 1.         0.66666667 0.22222222\n",
            " 0.         0.77777778 1.         0.88888889 0.77777778 0.66666667\n",
            " 0.77777778 0.77777778 0.11111111 0.66666667 0.44444444 0.44444444\n",
            " 0.66666667 0.22222222 0.55555556 0.77777778 0.66666667 0.77777778\n",
            " 0.55555556 0.88888889 0.66666667 0.77777778 0.77777778 0.66666667\n",
            " 0.         0.22222222 0.44444444 0.22222222 0.44444444 0.55555556\n",
            " 0.77777778 1.         0.88888889 0.66666667 0.44444444 0.77777778\n",
            " 1.         0.         0.11111111 0.66666667 0.44444444 1.\n",
            " 1.         0.44444444 0.88888889 0.66666667 0.22222222 0.77777778\n",
            " 1.         0.44444444 0.77777778 1.         0.77777778 0.88888889\n",
            " 0.         0.33333333 0.77777778 0.66666667 0.88888889 0.66666667\n",
            " 0.77777778 0.88888889 0.44444444 0.66666667 0.77777778 0.66666667\n",
            " 0.11111111 0.11111111 0.77777778 0.         0.22222222 0.77777778\n",
            " 0.66666667 0.77777778 0.11111111 0.66666667 0.66666667 0.88888889\n",
            " 1.         0.77777778 0.55555556 0.77777778 0.66666667 0.44444444\n",
            " 0.         0.66666667 0.11111111 1.         0.88888889 0.77777778\n",
            " 0.88888889 0.55555556 0.22222222 1.         0.88888889 0.88888889\n",
            " 0.77777778 0.55555556 0.77777778 0.33333333 0.66666667 0.\n",
            " 0.88888889 0.33333333 1.         0.55555556 0.44444444 0.66666667\n",
            " 0.         0.88888889 1.         0.44444444 0.77777778 0.66666667\n",
            " 0.77777778 1.         0.33333333 0.55555556 0.55555556 1.\n",
            " 0.88888889 0.77777778 0.         0.         0.77777778 0.77777778\n",
            " 0.22222222 0.66666667 0.88888889 0.88888889 0.66666667 0.66666667\n",
            " 0.44444444 0.44444444 0.77777778 0.55555556 0.66666667 1.\n",
            " 0.77777778 0.88888889 0.44444444 0.88888889 0.44444444 0.11111111\n",
            " 0.88888889 0.77777778 0.44444444 0.77777778 0.88888889 1.\n",
            " 0.66666667 0.55555556 0.77777778 0.77777778 0.22222222 0.44444444\n",
            " 0.77777778 0.66666667 0.88888889 0.         0.66666667 1.\n",
            " 0.88888889 0.66666667 0.55555556 0.44444444 0.88888889 0.88888889\n",
            " 0.11111111 0.77777778 1.         0.44444444 0.66666667 1.\n",
            " 0.88888889 0.77777778 0.66666667 1.         0.88888889 0.88888889\n",
            " 0.55555556 1.         1.         0.88888889 0.77777778 0.66666667\n",
            " 0.55555556 0.77777778 0.66666667 0.77777778 0.66666667 0.\n",
            " 0.44444444 0.55555556 0.55555556 0.77777778 0.33333333 0.66666667\n",
            " 0.22222222 0.55555556 0.77777778 0.77777778 1.         0.66666667\n",
            " 0.55555556 0.66666667 0.66666667 0.66666667 0.88888889 1.\n",
            " 0.33333333 0.88888889 0.55555556 0.55555556 0.55555556 0.88888889\n",
            " 0.66666667 0.44444444 0.55555556 0.77777778 0.44444444 0.77777778\n",
            " 0.88888889 0.         0.         0.66666667 1.         0.88888889\n",
            " 0.66666667 0.66666667 0.         0.44444444 0.55555556 0.77777778\n",
            " 0.77777778 0.         0.33333333 0.         0.55555556]\n"
          ]
        }
      ],
      "source": [
        "#Membuat variabel x untuk mencocokkan data user dan cellphone menjadi satu value\n",
        "x = df[['user', 'cellphone']].values\n",
        "\n",
        "#Membuat variabel y untuk membuat rating dari hasil\n",
        "y = df['rating'].apply(lambda x: (x - min_rating) / (max_rating - min_rating)).values\n",
        "\n",
        "#Membagi menjadi 80% data train dan 20% data validasi\n",
        "train_indices = int(0.8 * df.shape[0])\n",
        "x_train, x_val, y_train, y_val = (\n",
        "    x[:train_indices],\n",
        "    x[train_indices:],\n",
        "    y[:train_indices],\n",
        "    y[train_indices:]\n",
        ")\n",
        "\n",
        "print(x, y)"
      ]
    },
    {
      "cell_type": "markdown",
      "metadata": {
        "id": "fb60ec223WCC"
      },
      "source": [
        "Membuat class recommenderNet."
      ]
    },
    {
      "cell_type": "code",
      "execution_count": 86,
      "metadata": {
        "id": "q8f7QkW-wvKG"
      },
      "outputs": [],
      "source": [
        "import tensorflow as tf\n",
        "class RecommenderNet(tf.keras.Model):\n",
        "\n",
        "  # Insialisasi fungsi\n",
        "  def __init__(self, num_users, num_cellphone, embedding_size, **kwargs):\n",
        "    super(RecommenderNet, self).__init__(**kwargs)\n",
        "    self.num_users = num_users\n",
        "    self.num_cellphone = num_cellphone\n",
        "    self.embedding_size = embedding_size\n",
        "    self.user_embedding = layers.Embedding( # layer embedding user\n",
        "        num_users,\n",
        "        embedding_size,\n",
        "        embeddings_initializer = 'he_normal',\n",
        "        embeddings_regularizer = keras.regularizers.l2(1e-6)\n",
        "    )\n",
        "    self.user_bias = layers.Embedding(num_users, 1) # layer embedding user bias\n",
        "    self.cellphone_embedding = layers.Embedding( # layer embeddings cellphone\n",
        "        num_cellphone,\n",
        "        embedding_size,\n",
        "        embeddings_initializer = 'he_normal',\n",
        "        embeddings_regularizer = keras.regularizers.l2(1e-6)\n",
        "    )\n",
        "    self.cellphone_bias = layers.Embedding(num_cellphone, 1) # layer embedding cellphone bias\n",
        "\n",
        "  def call(self, inputs):\n",
        "    user_vector = self.user_embedding(inputs[:,0]) # memanggil layer embedding 1\n",
        "    user_bias = self.user_bias(inputs[:, 0]) # memanggil layer embedding 2\n",
        "    cellphone_vector = self.cellphone_embedding(inputs[:, 1]) # memanggil layer embedding 3\n",
        "    cellphone_bias = self.cellphone_bias(inputs[:, 1]) # memanggil layer embedding 4\n",
        "\n",
        "    dot_user_cellphone = tf.tensordot(user_vector, cellphone_vector, 2)\n",
        "\n",
        "    x = dot_user_cellphone + user_bias + cellphone_bias\n",
        "\n",
        "    return tf.nn.sigmoid(x) # activation sigmoid"
      ]
    },
    {
      "cell_type": "markdown",
      "metadata": {
        "id": "3IGjP3PO3ffQ"
      },
      "source": [
        "Melakukan inisialisasi model dan compile."
      ]
    },
    {
      "cell_type": "code",
      "execution_count": 87,
      "metadata": {
        "id": "jhMR2pSgxjbZ"
      },
      "outputs": [],
      "source": [
        "model = RecommenderNet(num_users, num_cellphone, 50) #inisialisasi model\n",
        "\n",
        "#model compile\n",
        "model.compile(\n",
        "    loss = tf.keras.losses.BinaryCrossentropy(),\n",
        "    optimizer = keras.optimizers.Adam(learning_rate=0.001),\n",
        "    metrics=[tf.keras.metrics.RootMeanSquaredError()]\n",
        ")"
      ]
    },
    {
      "cell_type": "markdown",
      "metadata": {},
      "source": [
        "####"
      ]
    },
    {
      "cell_type": "markdown",
      "metadata": {
        "id": "DkYEnflV3kJu"
      },
      "source": [
        "## Melakukan training terhadap model."
      ]
    },
    {
      "cell_type": "code",
      "execution_count": 88,
      "metadata": {
        "colab": {
          "base_uri": "https://localhost:8080/"
        },
        "id": "lxdTEBeSxd5m",
        "outputId": "7cc251df-2e52-415b-bf69-9e90c37a52a7"
      },
      "outputs": [
        {
          "name": "stdout",
          "output_type": "stream",
          "text": [
            "Epoch 1/100\n"
          ]
        },
        {
          "name": "stdout",
          "output_type": "stream",
          "text": [
            "\u001b[1m99/99\u001b[0m \u001b[32m━━━━━━━━━━━━━━━━━━━━\u001b[0m\u001b[37m\u001b[0m \u001b[1m2s\u001b[0m 5ms/step - loss: 0.7298 - root_mean_squared_error: 0.3390 - val_loss: 0.6934 - val_root_mean_squared_error: 0.3094\n",
            "Epoch 2/100\n",
            "\u001b[1m99/99\u001b[0m \u001b[32m━━━━━━━━━━━━━━━━━━━━\u001b[0m\u001b[37m\u001b[0m \u001b[1m0s\u001b[0m 2ms/step - loss: 0.7037 - root_mean_squared_error: 0.3299 - val_loss: 0.6930 - val_root_mean_squared_error: 0.3091\n",
            "Epoch 3/100\n",
            "\u001b[1m99/99\u001b[0m \u001b[32m━━━━━━━━━━━━━━━━━━━━\u001b[0m\u001b[37m\u001b[0m \u001b[1m0s\u001b[0m 2ms/step - loss: 0.6892 - root_mean_squared_error: 0.3118 - val_loss: 0.6888 - val_root_mean_squared_error: 0.3062\n",
            "Epoch 4/100\n",
            "\u001b[1m99/99\u001b[0m \u001b[32m━━━━━━━━━━━━━━━━━━━━\u001b[0m\u001b[37m\u001b[0m \u001b[1m0s\u001b[0m 1ms/step - loss: 0.6863 - root_mean_squared_error: 0.3120 - val_loss: 0.6854 - val_root_mean_squared_error: 0.3041\n",
            "Epoch 5/100\n",
            "\u001b[1m99/99\u001b[0m \u001b[32m━━━━━━━━━━━━━━━━━━━━\u001b[0m\u001b[37m\u001b[0m \u001b[1m0s\u001b[0m 2ms/step - loss: 0.6658 - root_mean_squared_error: 0.2959 - val_loss: 0.6857 - val_root_mean_squared_error: 0.3042\n",
            "Epoch 6/100\n",
            "\u001b[1m99/99\u001b[0m \u001b[32m━━━━━━━━━━━━━━━━━━━━\u001b[0m\u001b[37m\u001b[0m \u001b[1m0s\u001b[0m 2ms/step - loss: 0.6829 - root_mean_squared_error: 0.3098 - val_loss: 0.6850 - val_root_mean_squared_error: 0.3037\n",
            "Epoch 7/100\n",
            "\u001b[1m99/99\u001b[0m \u001b[32m━━━━━━━━━━━━━━━━━━━━\u001b[0m\u001b[37m\u001b[0m \u001b[1m0s\u001b[0m 2ms/step - loss: 0.6463 - root_mean_squared_error: 0.2829 - val_loss: 0.6838 - val_root_mean_squared_error: 0.3027\n",
            "Epoch 8/100\n",
            "\u001b[1m99/99\u001b[0m \u001b[32m━━━━━━━━━━━━━━━━━━━━\u001b[0m\u001b[37m\u001b[0m \u001b[1m0s\u001b[0m 2ms/step - loss: 0.6724 - root_mean_squared_error: 0.3006 - val_loss: 0.6832 - val_root_mean_squared_error: 0.3023\n",
            "Epoch 9/100\n",
            "\u001b[1m99/99\u001b[0m \u001b[32m━━━━━━━━━━━━━━━━━━━━\u001b[0m\u001b[37m\u001b[0m \u001b[1m0s\u001b[0m 1ms/step - loss: 0.6459 - root_mean_squared_error: 0.2763 - val_loss: 0.6811 - val_root_mean_squared_error: 0.3008\n",
            "Epoch 10/100\n",
            "\u001b[1m99/99\u001b[0m \u001b[32m━━━━━━━━━━━━━━━━━━━━\u001b[0m\u001b[37m\u001b[0m \u001b[1m0s\u001b[0m 1ms/step - loss: 0.6448 - root_mean_squared_error: 0.2782 - val_loss: 0.6785 - val_root_mean_squared_error: 0.2988\n",
            "Epoch 11/100\n",
            "\u001b[1m99/99\u001b[0m \u001b[32m━━━━━━━━━━━━━━━━━━━━\u001b[0m\u001b[37m\u001b[0m \u001b[1m0s\u001b[0m 1ms/step - loss: 0.6450 - root_mean_squared_error: 0.2923 - val_loss: 0.6763 - val_root_mean_squared_error: 0.2971\n",
            "Epoch 12/100\n",
            "\u001b[1m99/99\u001b[0m \u001b[32m━━━━━━━━━━━━━━━━━━━━\u001b[0m\u001b[37m\u001b[0m \u001b[1m0s\u001b[0m 1ms/step - loss: 0.6325 - root_mean_squared_error: 0.2675 - val_loss: 0.6742 - val_root_mean_squared_error: 0.2956\n",
            "Epoch 13/100\n",
            "\u001b[1m99/99\u001b[0m \u001b[32m━━━━━━━━━━━━━━━━━━━━\u001b[0m\u001b[37m\u001b[0m \u001b[1m0s\u001b[0m 1ms/step - loss: 0.6336 - root_mean_squared_error: 0.2725 - val_loss: 0.6737 - val_root_mean_squared_error: 0.2952\n",
            "Epoch 14/100\n",
            "\u001b[1m99/99\u001b[0m \u001b[32m━━━━━━━━━━━━━━━━━━━━\u001b[0m\u001b[37m\u001b[0m \u001b[1m0s\u001b[0m 1ms/step - loss: 0.6209 - root_mean_squared_error: 0.2605 - val_loss: 0.6746 - val_root_mean_squared_error: 0.2959\n",
            "Epoch 15/100\n",
            "\u001b[1m99/99\u001b[0m \u001b[32m━━━━━━━━━━━━━━━━━━━━\u001b[0m\u001b[37m\u001b[0m \u001b[1m0s\u001b[0m 1ms/step - loss: 0.6313 - root_mean_squared_error: 0.2683 - val_loss: 0.6726 - val_root_mean_squared_error: 0.2940\n",
            "Epoch 16/100\n",
            "\u001b[1m99/99\u001b[0m \u001b[32m━━━━━━━━━━━━━━━━━━━━\u001b[0m\u001b[37m\u001b[0m \u001b[1m0s\u001b[0m 2ms/step - loss: 0.6231 - root_mean_squared_error: 0.2663 - val_loss: 0.6724 - val_root_mean_squared_error: 0.2938\n",
            "Epoch 17/100\n",
            "\u001b[1m99/99\u001b[0m \u001b[32m━━━━━━━━━━━━━━━━━━━━\u001b[0m\u001b[37m\u001b[0m \u001b[1m0s\u001b[0m 1ms/step - loss: 0.6203 - root_mean_squared_error: 0.2584 - val_loss: 0.6714 - val_root_mean_squared_error: 0.2931\n",
            "Epoch 18/100\n",
            "\u001b[1m99/99\u001b[0m \u001b[32m━━━━━━━━━━━━━━━━━━━━\u001b[0m\u001b[37m\u001b[0m \u001b[1m0s\u001b[0m 2ms/step - loss: 0.6082 - root_mean_squared_error: 0.2549 - val_loss: 0.6703 - val_root_mean_squared_error: 0.2922\n",
            "Epoch 19/100\n",
            "\u001b[1m99/99\u001b[0m \u001b[32m━━━━━━━━━━━━━━━━━━━━\u001b[0m\u001b[37m\u001b[0m \u001b[1m0s\u001b[0m 1ms/step - loss: 0.5997 - root_mean_squared_error: 0.2484 - val_loss: 0.6683 - val_root_mean_squared_error: 0.2909\n",
            "Epoch 20/100\n",
            "\u001b[1m99/99\u001b[0m \u001b[32m━━━━━━━━━━━━━━━━━━━━\u001b[0m\u001b[37m\u001b[0m \u001b[1m0s\u001b[0m 1ms/step - loss: 0.5994 - root_mean_squared_error: 0.2517 - val_loss: 0.6670 - val_root_mean_squared_error: 0.2898\n",
            "Epoch 21/100\n",
            "\u001b[1m99/99\u001b[0m \u001b[32m━━━━━━━━━━━━━━━━━━━━\u001b[0m\u001b[37m\u001b[0m \u001b[1m0s\u001b[0m 1ms/step - loss: 0.6091 - root_mean_squared_error: 0.2522 - val_loss: 0.6660 - val_root_mean_squared_error: 0.2891\n",
            "Epoch 22/100\n",
            "\u001b[1m99/99\u001b[0m \u001b[32m━━━━━━━━━━━━━━━━━━━━\u001b[0m\u001b[37m\u001b[0m \u001b[1m0s\u001b[0m 1ms/step - loss: 0.6039 - root_mean_squared_error: 0.2503 - val_loss: 0.6669 - val_root_mean_squared_error: 0.2897\n",
            "Epoch 23/100\n",
            "\u001b[1m99/99\u001b[0m \u001b[32m━━━━━━━━━━━━━━━━━━━━\u001b[0m\u001b[37m\u001b[0m \u001b[1m0s\u001b[0m 1ms/step - loss: 0.6101 - root_mean_squared_error: 0.2462 - val_loss: 0.6657 - val_root_mean_squared_error: 0.2887\n",
            "Epoch 24/100\n",
            "\u001b[1m99/99\u001b[0m \u001b[32m━━━━━━━━━━━━━━━━━━━━\u001b[0m\u001b[37m\u001b[0m \u001b[1m0s\u001b[0m 2ms/step - loss: 0.6013 - root_mean_squared_error: 0.2451 - val_loss: 0.6642 - val_root_mean_squared_error: 0.2876\n",
            "Epoch 25/100\n",
            "\u001b[1m99/99\u001b[0m \u001b[32m━━━━━━━━━━━━━━━━━━━━\u001b[0m\u001b[37m\u001b[0m \u001b[1m0s\u001b[0m 2ms/step - loss: 0.5890 - root_mean_squared_error: 0.2283 - val_loss: 0.6626 - val_root_mean_squared_error: 0.2865\n",
            "Epoch 26/100\n",
            "\u001b[1m99/99\u001b[0m \u001b[32m━━━━━━━━━━━━━━━━━━━━\u001b[0m\u001b[37m\u001b[0m \u001b[1m0s\u001b[0m 2ms/step - loss: 0.6024 - root_mean_squared_error: 0.2452 - val_loss: 0.6618 - val_root_mean_squared_error: 0.2857\n",
            "Epoch 27/100\n",
            "\u001b[1m99/99\u001b[0m \u001b[32m━━━━━━━━━━━━━━━━━━━━\u001b[0m\u001b[37m\u001b[0m \u001b[1m0s\u001b[0m 1ms/step - loss: 0.5895 - root_mean_squared_error: 0.2295 - val_loss: 0.6620 - val_root_mean_squared_error: 0.2858\n",
            "Epoch 28/100\n",
            "\u001b[1m99/99\u001b[0m \u001b[32m━━━━━━━━━━━━━━━━━━━━\u001b[0m\u001b[37m\u001b[0m \u001b[1m0s\u001b[0m 1ms/step - loss: 0.5843 - root_mean_squared_error: 0.2350 - val_loss: 0.6610 - val_root_mean_squared_error: 0.2852\n",
            "Epoch 29/100\n",
            "\u001b[1m99/99\u001b[0m \u001b[32m━━━━━━━━━━━━━━━━━━━━\u001b[0m\u001b[37m\u001b[0m \u001b[1m0s\u001b[0m 2ms/step - loss: 0.5906 - root_mean_squared_error: 0.2366 - val_loss: 0.6607 - val_root_mean_squared_error: 0.2850\n",
            "Epoch 30/100\n",
            "\u001b[1m99/99\u001b[0m \u001b[32m━━━━━━━━━━━━━━━━━━━━\u001b[0m\u001b[37m\u001b[0m \u001b[1m0s\u001b[0m 1ms/step - loss: 0.5886 - root_mean_squared_error: 0.2276 - val_loss: 0.6600 - val_root_mean_squared_error: 0.2844\n",
            "Epoch 31/100\n",
            "\u001b[1m99/99\u001b[0m \u001b[32m━━━━━━━━━━━━━━━━━━━━\u001b[0m\u001b[37m\u001b[0m \u001b[1m0s\u001b[0m 2ms/step - loss: 0.5789 - root_mean_squared_error: 0.2115 - val_loss: 0.6602 - val_root_mean_squared_error: 0.2845\n",
            "Epoch 32/100\n",
            "\u001b[1m99/99\u001b[0m \u001b[32m━━━━━━━━━━━━━━━━━━━━\u001b[0m\u001b[37m\u001b[0m \u001b[1m0s\u001b[0m 1ms/step - loss: 0.5815 - root_mean_squared_error: 0.2319 - val_loss: 0.6600 - val_root_mean_squared_error: 0.2843\n",
            "Epoch 33/100\n",
            "\u001b[1m99/99\u001b[0m \u001b[32m━━━━━━━━━━━━━━━━━━━━\u001b[0m\u001b[37m\u001b[0m \u001b[1m0s\u001b[0m 1ms/step - loss: 0.5771 - root_mean_squared_error: 0.2314 - val_loss: 0.6575 - val_root_mean_squared_error: 0.2823\n",
            "Epoch 34/100\n",
            "\u001b[1m99/99\u001b[0m \u001b[32m━━━━━━━━━━━━━━━━━━━━\u001b[0m\u001b[37m\u001b[0m \u001b[1m0s\u001b[0m 1ms/step - loss: 0.5745 - root_mean_squared_error: 0.2264 - val_loss: 0.6574 - val_root_mean_squared_error: 0.2823\n",
            "Epoch 35/100\n",
            "\u001b[1m99/99\u001b[0m \u001b[32m━━━━━━━━━━━━━━━━━━━━\u001b[0m\u001b[37m\u001b[0m \u001b[1m0s\u001b[0m 1ms/step - loss: 0.5862 - root_mean_squared_error: 0.2262 - val_loss: 0.6572 - val_root_mean_squared_error: 0.2820\n",
            "Epoch 36/100\n",
            "\u001b[1m99/99\u001b[0m \u001b[32m━━━━━━━━━━━━━━━━━━━━\u001b[0m\u001b[37m\u001b[0m \u001b[1m0s\u001b[0m 1ms/step - loss: 0.5843 - root_mean_squared_error: 0.2281 - val_loss: 0.6576 - val_root_mean_squared_error: 0.2823\n",
            "Epoch 37/100\n",
            "\u001b[1m99/99\u001b[0m \u001b[32m━━━━━━━━━━━━━━━━━━━━\u001b[0m\u001b[37m\u001b[0m \u001b[1m0s\u001b[0m 2ms/step - loss: 0.5827 - root_mean_squared_error: 0.2224 - val_loss: 0.6562 - val_root_mean_squared_error: 0.2813\n",
            "Epoch 38/100\n",
            "\u001b[1m99/99\u001b[0m \u001b[32m━━━━━━━━━━━━━━━━━━━━\u001b[0m\u001b[37m\u001b[0m \u001b[1m0s\u001b[0m 1ms/step - loss: 0.5810 - root_mean_squared_error: 0.2189 - val_loss: 0.6562 - val_root_mean_squared_error: 0.2814\n",
            "Epoch 39/100\n",
            "\u001b[1m99/99\u001b[0m \u001b[32m━━━━━━━━━━━━━━━━━━━━\u001b[0m\u001b[37m\u001b[0m \u001b[1m0s\u001b[0m 1ms/step - loss: 0.5864 - root_mean_squared_error: 0.2280 - val_loss: 0.6555 - val_root_mean_squared_error: 0.2808\n",
            "Epoch 40/100\n",
            "\u001b[1m99/99\u001b[0m \u001b[32m━━━━━━━━━━━━━━━━━━━━\u001b[0m\u001b[37m\u001b[0m \u001b[1m0s\u001b[0m 1ms/step - loss: 0.5784 - root_mean_squared_error: 0.2129 - val_loss: 0.6547 - val_root_mean_squared_error: 0.2802\n",
            "Epoch 41/100\n",
            "\u001b[1m99/99\u001b[0m \u001b[32m━━━━━━━━━━━━━━━━━━━━\u001b[0m\u001b[37m\u001b[0m \u001b[1m0s\u001b[0m 1ms/step - loss: 0.5927 - root_mean_squared_error: 0.2228 - val_loss: 0.6548 - val_root_mean_squared_error: 0.2802\n",
            "Epoch 42/100\n",
            "\u001b[1m99/99\u001b[0m \u001b[32m━━━━━━━━━━━━━━━━━━━━\u001b[0m\u001b[37m\u001b[0m \u001b[1m0s\u001b[0m 2ms/step - loss: 0.5751 - root_mean_squared_error: 0.2151 - val_loss: 0.6541 - val_root_mean_squared_error: 0.2796\n",
            "Epoch 43/100\n",
            "\u001b[1m99/99\u001b[0m \u001b[32m━━━━━━━━━━━━━━━━━━━━\u001b[0m\u001b[37m\u001b[0m \u001b[1m0s\u001b[0m 1ms/step - loss: 0.5791 - root_mean_squared_error: 0.2158 - val_loss: 0.6547 - val_root_mean_squared_error: 0.2800\n",
            "Epoch 44/100\n",
            "\u001b[1m99/99\u001b[0m \u001b[32m━━━━━━━━━━━━━━━━━━━━\u001b[0m\u001b[37m\u001b[0m \u001b[1m0s\u001b[0m 1ms/step - loss: 0.5682 - root_mean_squared_error: 0.2227 - val_loss: 0.6538 - val_root_mean_squared_error: 0.2794\n",
            "Epoch 45/100\n",
            "\u001b[1m99/99\u001b[0m \u001b[32m━━━━━━━━━━━━━━━━━━━━\u001b[0m\u001b[37m\u001b[0m \u001b[1m0s\u001b[0m 1ms/step - loss: 0.5743 - root_mean_squared_error: 0.2146 - val_loss: 0.6529 - val_root_mean_squared_error: 0.2787\n",
            "Epoch 46/100\n",
            "\u001b[1m99/99\u001b[0m \u001b[32m━━━━━━━━━━━━━━━━━━━━\u001b[0m\u001b[37m\u001b[0m \u001b[1m0s\u001b[0m 1ms/step - loss: 0.5657 - root_mean_squared_error: 0.2055 - val_loss: 0.6533 - val_root_mean_squared_error: 0.2791\n",
            "Epoch 47/100\n",
            "\u001b[1m99/99\u001b[0m \u001b[32m━━━━━━━━━━━━━━━━━━━━\u001b[0m\u001b[37m\u001b[0m \u001b[1m0s\u001b[0m 1ms/step - loss: 0.5691 - root_mean_squared_error: 0.2139 - val_loss: 0.6518 - val_root_mean_squared_error: 0.2780\n",
            "Epoch 48/100\n",
            "\u001b[1m99/99\u001b[0m \u001b[32m━━━━━━━━━━━━━━━━━━━━\u001b[0m\u001b[37m\u001b[0m \u001b[1m0s\u001b[0m 1ms/step - loss: 0.5731 - root_mean_squared_error: 0.2148 - val_loss: 0.6522 - val_root_mean_squared_error: 0.2783\n",
            "Epoch 49/100\n",
            "\u001b[1m99/99\u001b[0m \u001b[32m━━━━━━━━━━━━━━━━━━━━\u001b[0m\u001b[37m\u001b[0m \u001b[1m0s\u001b[0m 1ms/step - loss: 0.5691 - root_mean_squared_error: 0.2199 - val_loss: 0.6516 - val_root_mean_squared_error: 0.2778\n",
            "Epoch 50/100\n",
            "\u001b[1m99/99\u001b[0m \u001b[32m━━━━━━━━━━━━━━━━━━━━\u001b[0m\u001b[37m\u001b[0m \u001b[1m0s\u001b[0m 2ms/step - loss: 0.5760 - root_mean_squared_error: 0.2171 - val_loss: 0.6497 - val_root_mean_squared_error: 0.2763\n",
            "Epoch 51/100\n",
            "\u001b[1m99/99\u001b[0m \u001b[32m━━━━━━━━━━━━━━━━━━━━\u001b[0m\u001b[37m\u001b[0m \u001b[1m0s\u001b[0m 2ms/step - loss: 0.5793 - root_mean_squared_error: 0.2197 - val_loss: 0.6487 - val_root_mean_squared_error: 0.2754\n",
            "Epoch 52/100\n",
            "\u001b[1m99/99\u001b[0m \u001b[32m━━━━━━━━━━━━━━━━━━━━\u001b[0m\u001b[37m\u001b[0m \u001b[1m0s\u001b[0m 1ms/step - loss: 0.5633 - root_mean_squared_error: 0.2099 - val_loss: 0.6482 - val_root_mean_squared_error: 0.2749\n",
            "Epoch 53/100\n",
            "\u001b[1m99/99\u001b[0m \u001b[32m━━━━━━━━━━━━━━━━━━━━\u001b[0m\u001b[37m\u001b[0m \u001b[1m0s\u001b[0m 1ms/step - loss: 0.5643 - root_mean_squared_error: 0.2073 - val_loss: 0.6485 - val_root_mean_squared_error: 0.2753\n",
            "Epoch 54/100\n",
            "\u001b[1m99/99\u001b[0m \u001b[32m━━━━━━━━━━━━━━━━━━━━\u001b[0m\u001b[37m\u001b[0m \u001b[1m0s\u001b[0m 1ms/step - loss: 0.5729 - root_mean_squared_error: 0.2115 - val_loss: 0.6488 - val_root_mean_squared_error: 0.2757\n",
            "Epoch 55/100\n",
            "\u001b[1m99/99\u001b[0m \u001b[32m━━━━━━━━━━━━━━━━━━━━\u001b[0m\u001b[37m\u001b[0m \u001b[1m0s\u001b[0m 1ms/step - loss: 0.5682 - root_mean_squared_error: 0.2184 - val_loss: 0.6499 - val_root_mean_squared_error: 0.2765\n",
            "Epoch 56/100\n",
            "\u001b[1m99/99\u001b[0m \u001b[32m━━━━━━━━━━━━━━━━━━━━\u001b[0m\u001b[37m\u001b[0m \u001b[1m0s\u001b[0m 1ms/step - loss: 0.5728 - root_mean_squared_error: 0.2197 - val_loss: 0.6481 - val_root_mean_squared_error: 0.2749\n",
            "Epoch 57/100\n",
            "\u001b[1m99/99\u001b[0m \u001b[32m━━━━━━━━━━━━━━━━━━━━\u001b[0m\u001b[37m\u001b[0m \u001b[1m0s\u001b[0m 2ms/step - loss: 0.5793 - root_mean_squared_error: 0.2174 - val_loss: 0.6457 - val_root_mean_squared_error: 0.2728\n",
            "Epoch 58/100\n",
            "\u001b[1m99/99\u001b[0m \u001b[32m━━━━━━━━━━━━━━━━━━━━\u001b[0m\u001b[37m\u001b[0m \u001b[1m0s\u001b[0m 1ms/step - loss: 0.5738 - root_mean_squared_error: 0.2066 - val_loss: 0.6415 - val_root_mean_squared_error: 0.2697\n",
            "Epoch 59/100\n",
            "\u001b[1m99/99\u001b[0m \u001b[32m━━━━━━━━━━━━━━━━━━━━\u001b[0m\u001b[37m\u001b[0m \u001b[1m0s\u001b[0m 1ms/step - loss: 0.5626 - root_mean_squared_error: 0.2118 - val_loss: 0.6421 - val_root_mean_squared_error: 0.2703\n",
            "Epoch 60/100\n",
            "\u001b[1m99/99\u001b[0m \u001b[32m━━━━━━━━━━━━━━━━━━━━\u001b[0m\u001b[37m\u001b[0m \u001b[1m0s\u001b[0m 1ms/step - loss: 0.5737 - root_mean_squared_error: 0.2047 - val_loss: 0.6421 - val_root_mean_squared_error: 0.2701\n",
            "Epoch 61/100\n",
            "\u001b[1m99/99\u001b[0m \u001b[32m━━━━━━━━━━━━━━━━━━━━\u001b[0m\u001b[37m\u001b[0m \u001b[1m0s\u001b[0m 1ms/step - loss: 0.5624 - root_mean_squared_error: 0.2190 - val_loss: 0.6436 - val_root_mean_squared_error: 0.2711\n",
            "Epoch 62/100\n",
            "\u001b[1m99/99\u001b[0m \u001b[32m━━━━━━━━━━━━━━━━━━━━\u001b[0m\u001b[37m\u001b[0m \u001b[1m0s\u001b[0m 1ms/step - loss: 0.5679 - root_mean_squared_error: 0.2167 - val_loss: 0.6412 - val_root_mean_squared_error: 0.2692\n",
            "Epoch 63/100\n",
            "\u001b[1m99/99\u001b[0m \u001b[32m━━━━━━━━━━━━━━━━━━━━\u001b[0m\u001b[37m\u001b[0m \u001b[1m0s\u001b[0m 1ms/step - loss: 0.5655 - root_mean_squared_error: 0.2150 - val_loss: 0.6419 - val_root_mean_squared_error: 0.2699\n",
            "Epoch 64/100\n",
            "\u001b[1m99/99\u001b[0m \u001b[32m━━━━━━━━━━━━━━━━━━━━\u001b[0m\u001b[37m\u001b[0m \u001b[1m0s\u001b[0m 2ms/step - loss: 0.5641 - root_mean_squared_error: 0.2035 - val_loss: 0.6423 - val_root_mean_squared_error: 0.2704\n",
            "Epoch 65/100\n",
            "\u001b[1m99/99\u001b[0m \u001b[32m━━━━━━━━━━━━━━━━━━━━\u001b[0m\u001b[37m\u001b[0m \u001b[1m0s\u001b[0m 1ms/step - loss: 0.5591 - root_mean_squared_error: 0.2048 - val_loss: 0.6430 - val_root_mean_squared_error: 0.2710\n",
            "Epoch 66/100\n",
            "\u001b[1m99/99\u001b[0m \u001b[32m━━━━━━━━━━━━━━━━━━━━\u001b[0m\u001b[37m\u001b[0m \u001b[1m0s\u001b[0m 1ms/step - loss: 0.5614 - root_mean_squared_error: 0.2024 - val_loss: 0.6440 - val_root_mean_squared_error: 0.2718\n",
            "Epoch 67/100\n",
            "\u001b[1m99/99\u001b[0m \u001b[32m━━━━━━━━━━━━━━━━━━━━\u001b[0m\u001b[37m\u001b[0m \u001b[1m0s\u001b[0m 2ms/step - loss: 0.5709 - root_mean_squared_error: 0.2048 - val_loss: 0.6424 - val_root_mean_squared_error: 0.2706\n",
            "Epoch 68/100\n",
            "\u001b[1m99/99\u001b[0m \u001b[32m━━━━━━━━━━━━━━━━━━━━\u001b[0m\u001b[37m\u001b[0m \u001b[1m0s\u001b[0m 1ms/step - loss: 0.5670 - root_mean_squared_error: 0.2182 - val_loss: 0.6427 - val_root_mean_squared_error: 0.2710\n",
            "Epoch 69/100\n",
            "\u001b[1m99/99\u001b[0m \u001b[32m━━━━━━━━━━━━━━━━━━━━\u001b[0m\u001b[37m\u001b[0m \u001b[1m0s\u001b[0m 1ms/step - loss: 0.5685 - root_mean_squared_error: 0.2116 - val_loss: 0.6413 - val_root_mean_squared_error: 0.2700\n",
            "Epoch 70/100\n",
            "\u001b[1m99/99\u001b[0m \u001b[32m━━━━━━━━━━━━━━━━━━━━\u001b[0m\u001b[37m\u001b[0m \u001b[1m0s\u001b[0m 2ms/step - loss: 0.5523 - root_mean_squared_error: 0.2047 - val_loss: 0.6425 - val_root_mean_squared_error: 0.2709\n",
            "Epoch 71/100\n",
            "\u001b[1m99/99\u001b[0m \u001b[32m━━━━━━━━━━━━━━━━━━━━\u001b[0m\u001b[37m\u001b[0m \u001b[1m0s\u001b[0m 2ms/step - loss: 0.5640 - root_mean_squared_error: 0.2102 - val_loss: 0.6418 - val_root_mean_squared_error: 0.2702\n",
            "Epoch 72/100\n",
            "\u001b[1m99/99\u001b[0m \u001b[32m━━━━━━━━━━━━━━━━━━━━\u001b[0m\u001b[37m\u001b[0m \u001b[1m0s\u001b[0m 2ms/step - loss: 0.5605 - root_mean_squared_error: 0.2038 - val_loss: 0.6423 - val_root_mean_squared_error: 0.2706\n",
            "Epoch 73/100\n",
            "\u001b[1m99/99\u001b[0m \u001b[32m━━━━━━━━━━━━━━━━━━━━\u001b[0m\u001b[37m\u001b[0m \u001b[1m0s\u001b[0m 1ms/step - loss: 0.5689 - root_mean_squared_error: 0.2108 - val_loss: 0.6440 - val_root_mean_squared_error: 0.2719\n",
            "Epoch 74/100\n",
            "\u001b[1m99/99\u001b[0m \u001b[32m━━━━━━━━━━━━━━━━━━━━\u001b[0m\u001b[37m\u001b[0m \u001b[1m0s\u001b[0m 1ms/step - loss: 0.5581 - root_mean_squared_error: 0.2052 - val_loss: 0.6454 - val_root_mean_squared_error: 0.2729\n",
            "Epoch 75/100\n",
            "\u001b[1m99/99\u001b[0m \u001b[32m━━━━━━━━━━━━━━━━━━━━\u001b[0m\u001b[37m\u001b[0m \u001b[1m0s\u001b[0m 1ms/step - loss: 0.5588 - root_mean_squared_error: 0.2075 - val_loss: 0.6451 - val_root_mean_squared_error: 0.2727\n",
            "Epoch 76/100\n",
            "\u001b[1m99/99\u001b[0m \u001b[32m━━━━━━━━━━━━━━━━━━━━\u001b[0m\u001b[37m\u001b[0m \u001b[1m0s\u001b[0m 2ms/step - loss: 0.5651 - root_mean_squared_error: 0.2126 - val_loss: 0.6454 - val_root_mean_squared_error: 0.2729\n",
            "Epoch 77/100\n",
            "\u001b[1m99/99\u001b[0m \u001b[32m━━━━━━━━━━━━━━━━━━━━\u001b[0m\u001b[37m\u001b[0m \u001b[1m0s\u001b[0m 1ms/step - loss: 0.5732 - root_mean_squared_error: 0.2070 - val_loss: 0.6454 - val_root_mean_squared_error: 0.2727\n",
            "Epoch 78/100\n",
            "\u001b[1m99/99\u001b[0m \u001b[32m━━━━━━━━━━━━━━━━━━━━\u001b[0m\u001b[37m\u001b[0m \u001b[1m0s\u001b[0m 1ms/step - loss: 0.5738 - root_mean_squared_error: 0.2171 - val_loss: 0.6452 - val_root_mean_squared_error: 0.2723\n",
            "Epoch 79/100\n",
            "\u001b[1m99/99\u001b[0m \u001b[32m━━━━━━━━━━━━━━━━━━━━\u001b[0m\u001b[37m\u001b[0m \u001b[1m0s\u001b[0m 1ms/step - loss: 0.5569 - root_mean_squared_error: 0.2109 - val_loss: 0.6452 - val_root_mean_squared_error: 0.2722\n",
            "Epoch 80/100\n",
            "\u001b[1m99/99\u001b[0m \u001b[32m━━━━━━━━━━━━━━━━━━━━\u001b[0m\u001b[37m\u001b[0m \u001b[1m0s\u001b[0m 1ms/step - loss: 0.5559 - root_mean_squared_error: 0.2104 - val_loss: 0.6432 - val_root_mean_squared_error: 0.2709\n",
            "Epoch 81/100\n",
            "\u001b[1m99/99\u001b[0m \u001b[32m━━━━━━━━━━━━━━━━━━━━\u001b[0m\u001b[37m\u001b[0m \u001b[1m0s\u001b[0m 1ms/step - loss: 0.5590 - root_mean_squared_error: 0.2139 - val_loss: 0.6423 - val_root_mean_squared_error: 0.2703\n",
            "Epoch 82/100\n",
            "\u001b[1m99/99\u001b[0m \u001b[32m━━━━━━━━━━━━━━━━━━━━\u001b[0m\u001b[37m\u001b[0m \u001b[1m0s\u001b[0m 1ms/step - loss: 0.5587 - root_mean_squared_error: 0.2035 - val_loss: 0.6436 - val_root_mean_squared_error: 0.2711\n",
            "Epoch 83/100\n",
            "\u001b[1m99/99\u001b[0m \u001b[32m━━━━━━━━━━━━━━━━━━━━\u001b[0m\u001b[37m\u001b[0m \u001b[1m0s\u001b[0m 2ms/step - loss: 0.5669 - root_mean_squared_error: 0.2083 - val_loss: 0.6422 - val_root_mean_squared_error: 0.2702\n",
            "Epoch 84/100\n",
            "\u001b[1m99/99\u001b[0m \u001b[32m━━━━━━━━━━━━━━━━━━━━\u001b[0m\u001b[37m\u001b[0m \u001b[1m0s\u001b[0m 1ms/step - loss: 0.5639 - root_mean_squared_error: 0.2199 - val_loss: 0.6422 - val_root_mean_squared_error: 0.2703\n",
            "Epoch 85/100\n",
            "\u001b[1m99/99\u001b[0m \u001b[32m━━━━━━━━━━━━━━━━━━━━\u001b[0m\u001b[37m\u001b[0m \u001b[1m0s\u001b[0m 1ms/step - loss: 0.5669 - root_mean_squared_error: 0.2113 - val_loss: 0.6447 - val_root_mean_squared_error: 0.2723\n",
            "Epoch 86/100\n",
            "\u001b[1m99/99\u001b[0m \u001b[32m━━━━━━━━━━━━━━━━━━━━\u001b[0m\u001b[37m\u001b[0m \u001b[1m0s\u001b[0m 1ms/step - loss: 0.5844 - root_mean_squared_error: 0.2220 - val_loss: 0.6426 - val_root_mean_squared_error: 0.2707\n",
            "Epoch 87/100\n",
            "\u001b[1m99/99\u001b[0m \u001b[32m━━━━━━━━━━━━━━━━━━━━\u001b[0m\u001b[37m\u001b[0m \u001b[1m0s\u001b[0m 2ms/step - loss: 0.5641 - root_mean_squared_error: 0.1997 - val_loss: 0.6411 - val_root_mean_squared_error: 0.2696\n",
            "Epoch 88/100\n",
            "\u001b[1m99/99\u001b[0m \u001b[32m━━━━━━━━━━━━━━━━━━━━\u001b[0m\u001b[37m\u001b[0m \u001b[1m0s\u001b[0m 1ms/step - loss: 0.5589 - root_mean_squared_error: 0.2008 - val_loss: 0.6405 - val_root_mean_squared_error: 0.2692\n",
            "Epoch 89/100\n",
            "\u001b[1m99/99\u001b[0m \u001b[32m━━━━━━━━━━━━━━━━━━━━\u001b[0m\u001b[37m\u001b[0m \u001b[1m0s\u001b[0m 1ms/step - loss: 0.5599 - root_mean_squared_error: 0.2081 - val_loss: 0.6412 - val_root_mean_squared_error: 0.2698\n",
            "Epoch 90/100\n",
            "\u001b[1m99/99\u001b[0m \u001b[32m━━━━━━━━━━━━━━━━━━━━\u001b[0m\u001b[37m\u001b[0m \u001b[1m0s\u001b[0m 1ms/step - loss: 0.5640 - root_mean_squared_error: 0.1955 - val_loss: 0.6409 - val_root_mean_squared_error: 0.2695\n",
            "Epoch 91/100\n",
            "\u001b[1m99/99\u001b[0m \u001b[32m━━━━━━━━━━━━━━━━━━━━\u001b[0m\u001b[37m\u001b[0m \u001b[1m0s\u001b[0m 1ms/step - loss: 0.5615 - root_mean_squared_error: 0.2011 - val_loss: 0.6392 - val_root_mean_squared_error: 0.2681\n",
            "Epoch 92/100\n",
            "\u001b[1m99/99\u001b[0m \u001b[32m━━━━━━━━━━━━━━━━━━━━\u001b[0m\u001b[37m\u001b[0m \u001b[1m0s\u001b[0m 1ms/step - loss: 0.5516 - root_mean_squared_error: 0.1953 - val_loss: 0.6388 - val_root_mean_squared_error: 0.2676\n",
            "Epoch 93/100\n",
            "\u001b[1m99/99\u001b[0m \u001b[32m━━━━━━━━━━━━━━━━━━━━\u001b[0m\u001b[37m\u001b[0m \u001b[1m0s\u001b[0m 2ms/step - loss: 0.5638 - root_mean_squared_error: 0.2103 - val_loss: 0.6386 - val_root_mean_squared_error: 0.2675\n",
            "Epoch 94/100\n",
            "\u001b[1m99/99\u001b[0m \u001b[32m━━━━━━━━━━━━━━━━━━━━\u001b[0m\u001b[37m\u001b[0m \u001b[1m0s\u001b[0m 1ms/step - loss: 0.5681 - root_mean_squared_error: 0.1979 - val_loss: 0.6389 - val_root_mean_squared_error: 0.2677\n",
            "Epoch 95/100\n",
            "\u001b[1m99/99\u001b[0m \u001b[32m━━━━━━━━━━━━━━━━━━━━\u001b[0m\u001b[37m\u001b[0m \u001b[1m0s\u001b[0m 1ms/step - loss: 0.5550 - root_mean_squared_error: 0.1983 - val_loss: 0.6381 - val_root_mean_squared_error: 0.2669\n",
            "Epoch 96/100\n",
            "\u001b[1m99/99\u001b[0m \u001b[32m━━━━━━━━━━━━━━━━━━━━\u001b[0m\u001b[37m\u001b[0m \u001b[1m0s\u001b[0m 1ms/step - loss: 0.5424 - root_mean_squared_error: 0.1951 - val_loss: 0.6366 - val_root_mean_squared_error: 0.2657\n",
            "Epoch 97/100\n",
            "\u001b[1m99/99\u001b[0m \u001b[32m━━━━━━━━━━━━━━━━━━━━\u001b[0m\u001b[37m\u001b[0m \u001b[1m0s\u001b[0m 1ms/step - loss: 0.5615 - root_mean_squared_error: 0.1998 - val_loss: 0.6381 - val_root_mean_squared_error: 0.2669\n",
            "Epoch 98/100\n",
            "\u001b[1m99/99\u001b[0m \u001b[32m━━━━━━━━━━━━━━━━━━━━\u001b[0m\u001b[37m\u001b[0m \u001b[1m0s\u001b[0m 1ms/step - loss: 0.5491 - root_mean_squared_error: 0.2015 - val_loss: 0.6398 - val_root_mean_squared_error: 0.2683\n",
            "Epoch 99/100\n",
            "\u001b[1m99/99\u001b[0m \u001b[32m━━━━━━━━━━━━━━━━━━━━\u001b[0m\u001b[37m\u001b[0m \u001b[1m0s\u001b[0m 2ms/step - loss: 0.5657 - root_mean_squared_error: 0.2072 - val_loss: 0.6386 - val_root_mean_squared_error: 0.2675\n",
            "Epoch 100/100\n",
            "\u001b[1m99/99\u001b[0m \u001b[32m━━━━━━━━━━━━━━━━━━━━\u001b[0m\u001b[37m\u001b[0m \u001b[1m0s\u001b[0m 1ms/step - loss: 0.5521 - root_mean_squared_error: 0.2042 - val_loss: 0.6377 - val_root_mean_squared_error: 0.2668\n"
          ]
        }
      ],
      "source": [
        "#Memulai training\n",
        "\n",
        "history = model.fit(\n",
        "    x = x_train,\n",
        "    y = y_train,\n",
        "    batch_size = 8,\n",
        "    epochs = 100,\n",
        "    validation_data = (x_val, y_val)\n",
        ")"
      ]
    },
    {
      "cell_type": "markdown",
      "metadata": {},
      "source": [
        "####"
      ]
    },
    {
      "cell_type": "markdown",
      "metadata": {
        "id": "qEkK8dkz3m4J"
      },
      "source": [
        "## Menampilkan grafik proses training."
      ]
    },
    {
      "cell_type": "code",
      "execution_count": 89,
      "metadata": {
        "colab": {
          "base_uri": "https://localhost:8080/",
          "height": 472
        },
        "id": "k8VshPyryEdA",
        "outputId": "8fd4b6e3-1365-4de3-8f51-13fcd6291a6d"
      },
      "outputs": [
        {
          "data": {
            "image/png": "[encoded data removed]",
            "text/plain": [
              "<Figure size 640x480 with 1 Axes>"
            ]
          },
          "metadata": {},
          "output_type": "display_data"
        }
      ],
      "source": [
        "#Menampilkan grafik traning vs test\n",
        "plt.plot(history.history['root_mean_squared_error'])\n",
        "plt.plot(history.history['val_root_mean_squared_error'])\n",
        "plt.title('model_metrics')\n",
        "plt.ylabel('root_mean_squared_error')\n",
        "plt.xlabel('epoch')\n",
        "plt.legend(['train', 'test'], loc='upper left')\n",
        "plt.show()"
      ]
    },
    {
      "cell_type": "markdown",
      "metadata": {},
      "source": [
        "####"
      ]
    },
    {
      "cell_type": "markdown",
      "metadata": {
        "id": "6HCgTKND3yDz"
      },
      "source": [
        "#### Membuat variabel cellhpone_not_reviewed sebagai daftar cellphone untuk direkomendasikan pada pengguna."
      ]
    },
    {
      "cell_type": "code",
      "execution_count": 90,
      "metadata": {
        "id": "HFx3uvgzyP4E"
      },
      "outputs": [],
      "source": [
        "phone_df = phone_new\n",
        "df = pd.read_csv('rating.csv')\n",
        "\n",
        "#Mengambil sample user\n",
        "user_id = df.user_id.sample(1).iloc[0]\n",
        "cellphone_reviewed_by_user = df[df.user_id == user_id]\n",
        "\n",
        "cellphone_not_reviewed = phone_df[~phone_df['cellphone_id'].isin(cellphone_reviewed_by_user.cellphone_id.values)]['cellphone_id']\n",
        "cellphone_not_reviewed = list(\n",
        "    set(cellphone_not_reviewed)\n",
        "    .intersection(set(cellphone_to_cellphone_encoded.keys()))\n",
        ")\n",
        "\n",
        "cellphone_not_reviewed = [[cellphone_to_cellphone_encoded.get(x)] for x in cellphone_not_reviewed]\n",
        "user_encoder = user_to_user_encoded.get(user_id)\n",
        "user_cellphone_array = np.hstack(\n",
        "    ([[user_encoder]] * len(cellphone_not_reviewed), cellphone_not_reviewed)\n",
        ")"
      ]
    },
    {
      "cell_type": "markdown",
      "metadata": {},
      "source": [
        "####"
      ]
    },
    {
      "cell_type": "markdown",
      "metadata": {
        "id": "7YrZ3BWn4N0P"
      },
      "source": [
        "## Meperoleh hasil rekomendasi cellphone."
      ]
    },
    {
      "cell_type": "code",
      "execution_count": 91,
      "metadata": {
        "colab": {
          "base_uri": "https://localhost:8080/"
        },
        "id": "ZWdB6qB3yT6S",
        "outputId": "f275c79e-ddab-4d84-e445-5bc0db876fe4"
      },
      "outputs": [
        {
          "name": "stdout",
          "output_type": "stream",
          "text": [
            "\u001b[1m1/1\u001b[0m \u001b[32m━━━━━━━━━━━━━━━━━━━━\u001b[0m\u001b[37m\u001b[0m \u001b[1m0s\u001b[0m 106ms/step\n",
            "Showing recommendations for users: 244\n",
            "===========================\n",
            "cellphone with high ratings from user\n",
            "--------------------------------\n",
            "OnePlus : Nord 2T\n",
            "Xiaomi : 11T Pro\n",
            "OnePlus : 10 Pro\n",
            "Samsung : Galaxy S22 Ultra\n",
            "Xiaomi : Redmi Note 11\n",
            "--------------------------------\n",
            "Top 10 cellphone recommendation\n",
            "--------------------------------\n",
            "Samsung : Galaxy S22\n",
            "Vivo : X80 Pro\n",
            "Oppo : Find X5 Pro\n",
            "Apple : iPhone 13 Pro\n",
            "Sony : Xperia Pro\n",
            "Google : Pixel 6  \n",
            "Apple : iPhone 13 Pro Max\n",
            "Apple : iPhone 13 Mini\n",
            "Xiaomi : 12 Pro\n",
            "Apple : iPhone 13\n"
          ]
        }
      ],
      "source": [
        "ratings = model.predict(user_cellphone_array).flatten()\n",
        "\n",
        "top_ratings_indices = ratings.argsort()[-10:][::-1]\n",
        "recommended_cellphone_ids = [\n",
        "    cellphone_encoded_to_cellphone.get(cellphone_not_reviewed[x][0]) for x in top_ratings_indices\n",
        "]\n",
        "\n",
        "print('Showing recommendations for users: {}'.format(user_id))\n",
        "print('===' * 9)\n",
        "print('cellphone with high ratings from user')\n",
        "print('----' * 8)\n",
        "\n",
        "top_cellphone_user = (\n",
        "    cellphone_reviewed_by_user.sort_values(\n",
        "        by = 'rating',\n",
        "        ascending=False\n",
        "    )\n",
        "    .head(5)\n",
        "    .cellphone_id.values\n",
        ")\n",
        "\n",
        "cellphone_df_rows = phone_df[phone_df['cellphone_id'].isin(top_cellphone_user)]\n",
        "for row in cellphone_df_rows.itertuples():\n",
        "    print(row.brand, ':', row.model)\n",
        "\n",
        "print('----' * 8)\n",
        "print('Top 10 cellphone recommendation')\n",
        "print('----' * 8)\n",
        "\n",
        "recommended_cellphone = phone_df[phone_df['cellphone_id'].isin(recommended_cellphone_ids)]\n",
        "for row in recommended_cellphone.itertuples():\n",
        "    print(row.brand, ':', row.model)"
      ]
    }
  ],
  "metadata": {
    "colab": {
      "provenance": []
    },
    "kernelspec": {
      "display_name": "Python 3",
      "name": "python3"
    },
    "language_info": {
      "codemirror_mode": {
        "name": "ipython",
        "version": 3
      },
      "file_extension": ".py",
      "mimetype": "text/x-python",
      "name": "python",
      "nbconvert_exporter": "python",
      "pygments_lexer": "ipython3",
      "version": "3.12.4"
    }
  },
  "nbformat": 4,
  "nbformat_minor": 0
}
